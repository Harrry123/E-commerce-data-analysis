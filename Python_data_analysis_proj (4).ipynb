{
 "cells": [
  {
   "cell_type": "code",
   "execution_count": 1,
   "id": "19e32d6b-a728-436d-9277-bb978f977177",
   "metadata": {},
   "outputs": [],
   "source": [
    "import numpy as np \n",
    "import pandas as pd\n",
    "import seaborn as sns\n",
    "import matplotlib.pyplot as plt # visualizing data\n",
    "%matplotlib inline"
   ]
  },
  {
   "cell_type": "code",
   "execution_count": 287,
   "id": "28c23c69-c636-405d-bcaa-3d1cf38b910d",
   "metadata": {
    "scrolled": true
   },
   "outputs": [],
   "source": [
    "df = pd.read_csv( r'D:/data_analytics_project/Online Retail Data set.csv', encoding= 'unicode_escape')"
   ]
  },
  {
   "cell_type": "code",
   "execution_count": 296,
   "id": "35058f82-5916-45ab-becc-8714fa2118e7",
   "metadata": {},
   "outputs": [
    {
     "data": {
      "text/html": [
       "<div>\n",
       "<style scoped>\n",
       "    .dataframe tbody tr th:only-of-type {\n",
       "        vertical-align: middle;\n",
       "    }\n",
       "\n",
       "    .dataframe tbody tr th {\n",
       "        vertical-align: top;\n",
       "    }\n",
       "\n",
       "    .dataframe thead th {\n",
       "        text-align: right;\n",
       "    }\n",
       "</style>\n",
       "<table border=\"1\" class=\"dataframe\">\n",
       "  <thead>\n",
       "    <tr style=\"text-align: right;\">\n",
       "      <th></th>\n",
       "      <th>InvoiceNo</th>\n",
       "      <th>StockCode</th>\n",
       "      <th>Description</th>\n",
       "      <th>Quantity</th>\n",
       "      <th>InvoiceDate</th>\n",
       "      <th>UnitPrice</th>\n",
       "      <th>CustomerID</th>\n",
       "      <th>Country</th>\n",
       "    </tr>\n",
       "  </thead>\n",
       "  <tbody>\n",
       "    <tr>\n",
       "      <th>0</th>\n",
       "      <td>536365</td>\n",
       "      <td>85123A</td>\n",
       "      <td>WHITE HANGING HEART T-LIGHT HOLDER</td>\n",
       "      <td>6</td>\n",
       "      <td>01-12-2010 08:26</td>\n",
       "      <td>2.55</td>\n",
       "      <td>17850.0</td>\n",
       "      <td>United Kingdom</td>\n",
       "    </tr>\n",
       "    <tr>\n",
       "      <th>1</th>\n",
       "      <td>536365</td>\n",
       "      <td>71053</td>\n",
       "      <td>WHITE METAL LANTERN</td>\n",
       "      <td>6</td>\n",
       "      <td>01-12-2010 08:26</td>\n",
       "      <td>3.39</td>\n",
       "      <td>17850.0</td>\n",
       "      <td>United Kingdom</td>\n",
       "    </tr>\n",
       "    <tr>\n",
       "      <th>2</th>\n",
       "      <td>536365</td>\n",
       "      <td>84406B</td>\n",
       "      <td>CREAM CUPID HEARTS COAT HANGER</td>\n",
       "      <td>8</td>\n",
       "      <td>01-12-2010 08:26</td>\n",
       "      <td>2.75</td>\n",
       "      <td>17850.0</td>\n",
       "      <td>United Kingdom</td>\n",
       "    </tr>\n",
       "    <tr>\n",
       "      <th>3</th>\n",
       "      <td>536365</td>\n",
       "      <td>84029G</td>\n",
       "      <td>KNITTED UNION FLAG HOT WATER BOTTLE</td>\n",
       "      <td>6</td>\n",
       "      <td>01-12-2010 08:26</td>\n",
       "      <td>3.39</td>\n",
       "      <td>17850.0</td>\n",
       "      <td>United Kingdom</td>\n",
       "    </tr>\n",
       "    <tr>\n",
       "      <th>4</th>\n",
       "      <td>536365</td>\n",
       "      <td>84029E</td>\n",
       "      <td>RED WOOLLY HOTTIE WHITE HEART.</td>\n",
       "      <td>6</td>\n",
       "      <td>01-12-2010 08:26</td>\n",
       "      <td>3.39</td>\n",
       "      <td>17850.0</td>\n",
       "      <td>United Kingdom</td>\n",
       "    </tr>\n",
       "    <tr>\n",
       "      <th>...</th>\n",
       "      <td>...</td>\n",
       "      <td>...</td>\n",
       "      <td>...</td>\n",
       "      <td>...</td>\n",
       "      <td>...</td>\n",
       "      <td>...</td>\n",
       "      <td>...</td>\n",
       "      <td>...</td>\n",
       "    </tr>\n",
       "    <tr>\n",
       "      <th>541904</th>\n",
       "      <td>581587</td>\n",
       "      <td>22613</td>\n",
       "      <td>PACK OF 20 SPACEBOY NAPKINS</td>\n",
       "      <td>12</td>\n",
       "      <td>09-12-2011 12:50</td>\n",
       "      <td>0.85</td>\n",
       "      <td>12680.0</td>\n",
       "      <td>France</td>\n",
       "    </tr>\n",
       "    <tr>\n",
       "      <th>541905</th>\n",
       "      <td>581587</td>\n",
       "      <td>22899</td>\n",
       "      <td>CHILDREN'S APRON DOLLY GIRL</td>\n",
       "      <td>6</td>\n",
       "      <td>09-12-2011 12:50</td>\n",
       "      <td>2.10</td>\n",
       "      <td>12680.0</td>\n",
       "      <td>France</td>\n",
       "    </tr>\n",
       "    <tr>\n",
       "      <th>541906</th>\n",
       "      <td>581587</td>\n",
       "      <td>23254</td>\n",
       "      <td>CHILDRENS CUTLERY DOLLY GIRL</td>\n",
       "      <td>4</td>\n",
       "      <td>09-12-2011 12:50</td>\n",
       "      <td>4.15</td>\n",
       "      <td>12680.0</td>\n",
       "      <td>France</td>\n",
       "    </tr>\n",
       "    <tr>\n",
       "      <th>541907</th>\n",
       "      <td>581587</td>\n",
       "      <td>23255</td>\n",
       "      <td>CHILDRENS CUTLERY CIRCUS PARADE</td>\n",
       "      <td>4</td>\n",
       "      <td>09-12-2011 12:50</td>\n",
       "      <td>4.15</td>\n",
       "      <td>12680.0</td>\n",
       "      <td>France</td>\n",
       "    </tr>\n",
       "    <tr>\n",
       "      <th>541908</th>\n",
       "      <td>581587</td>\n",
       "      <td>22138</td>\n",
       "      <td>BAKING SET 9 PIECE RETROSPOT</td>\n",
       "      <td>3</td>\n",
       "      <td>09-12-2011 12:50</td>\n",
       "      <td>4.95</td>\n",
       "      <td>12680.0</td>\n",
       "      <td>France</td>\n",
       "    </tr>\n",
       "  </tbody>\n",
       "</table>\n",
       "<p>541909 rows × 8 columns</p>\n",
       "</div>"
      ],
      "text/plain": [
       "       InvoiceNo StockCode                          Description  Quantity  \\\n",
       "0         536365    85123A   WHITE HANGING HEART T-LIGHT HOLDER         6   \n",
       "1         536365     71053                  WHITE METAL LANTERN         6   \n",
       "2         536365    84406B       CREAM CUPID HEARTS COAT HANGER         8   \n",
       "3         536365    84029G  KNITTED UNION FLAG HOT WATER BOTTLE         6   \n",
       "4         536365    84029E       RED WOOLLY HOTTIE WHITE HEART.         6   \n",
       "...          ...       ...                                  ...       ...   \n",
       "541904    581587     22613          PACK OF 20 SPACEBOY NAPKINS        12   \n",
       "541905    581587     22899         CHILDREN'S APRON DOLLY GIRL          6   \n",
       "541906    581587     23254        CHILDRENS CUTLERY DOLLY GIRL          4   \n",
       "541907    581587     23255      CHILDRENS CUTLERY CIRCUS PARADE         4   \n",
       "541908    581587     22138        BAKING SET 9 PIECE RETROSPOT          3   \n",
       "\n",
       "             InvoiceDate  UnitPrice  CustomerID         Country  \n",
       "0       01-12-2010 08:26       2.55     17850.0  United Kingdom  \n",
       "1       01-12-2010 08:26       3.39     17850.0  United Kingdom  \n",
       "2       01-12-2010 08:26       2.75     17850.0  United Kingdom  \n",
       "3       01-12-2010 08:26       3.39     17850.0  United Kingdom  \n",
       "4       01-12-2010 08:26       3.39     17850.0  United Kingdom  \n",
       "...                  ...        ...         ...             ...  \n",
       "541904  09-12-2011 12:50       0.85     12680.0          France  \n",
       "541905  09-12-2011 12:50       2.10     12680.0          France  \n",
       "541906  09-12-2011 12:50       4.15     12680.0          France  \n",
       "541907  09-12-2011 12:50       4.15     12680.0          France  \n",
       "541908  09-12-2011 12:50       4.95     12680.0          France  \n",
       "\n",
       "[541909 rows x 8 columns]"
      ]
     },
     "execution_count": 296,
     "metadata": {},
     "output_type": "execute_result"
    }
   ],
   "source": [
    "df "
   ]
  },
  {
   "cell_type": "code",
   "execution_count": 4,
   "id": "9944b8bc-b996-47d9-827a-309e95ee814d",
   "metadata": {},
   "outputs": [
    {
     "data": {
      "text/plain": [
       "(541909, 8)"
      ]
     },
     "execution_count": 4,
     "metadata": {},
     "output_type": "execute_result"
    }
   ],
   "source": [
    "df.shape"
   ]
  },
  {
   "cell_type": "code",
   "execution_count": 5,
   "id": "7c81f550-9c77-484f-9396-8ddeb3910747",
   "metadata": {},
   "outputs": [],
   "source": [
    "df['InvoiceDate'] = pd.to_datetime(df['InvoiceDate'], format='%d-%m-%Y %H:%M')"
   ]
  },
  {
   "cell_type": "code",
   "execution_count": 6,
   "id": "5c4e5099-da61-437c-bc1b-3e67805f47f4",
   "metadata": {},
   "outputs": [
    {
     "data": {
      "text/plain": [
       "dtype('<M8[ns]')"
      ]
     },
     "execution_count": 6,
     "metadata": {},
     "output_type": "execute_result"
    }
   ],
   "source": [
    "df['InvoiceDate'].dtype"
   ]
  },
  {
   "cell_type": "code",
   "execution_count": 7,
   "id": "df4ab569-32c7-4fee-ae3f-69e3ea79a8f5",
   "metadata": {},
   "outputs": [
    {
     "name": "stdout",
     "output_type": "stream",
     "text": [
      "datetime64[ns]\n"
     ]
    }
   ],
   "source": [
    "print(df['InvoiceDate'].dtype)\n"
   ]
  },
  {
   "cell_type": "code",
   "execution_count": 8,
   "id": "2a4e5251-f428-4cc3-8164-c2de9c3fc1fd",
   "metadata": {},
   "outputs": [
    {
     "data": {
      "text/html": [
       "<div>\n",
       "<style scoped>\n",
       "    .dataframe tbody tr th:only-of-type {\n",
       "        vertical-align: middle;\n",
       "    }\n",
       "\n",
       "    .dataframe tbody tr th {\n",
       "        vertical-align: top;\n",
       "    }\n",
       "\n",
       "    .dataframe thead th {\n",
       "        text-align: right;\n",
       "    }\n",
       "</style>\n",
       "<table border=\"1\" class=\"dataframe\">\n",
       "  <thead>\n",
       "    <tr style=\"text-align: right;\">\n",
       "      <th></th>\n",
       "      <th>Quantity</th>\n",
       "      <th>InvoiceDate</th>\n",
       "      <th>UnitPrice</th>\n",
       "      <th>CustomerID</th>\n",
       "    </tr>\n",
       "  </thead>\n",
       "  <tbody>\n",
       "    <tr>\n",
       "      <th>count</th>\n",
       "      <td>541909.000000</td>\n",
       "      <td>541909</td>\n",
       "      <td>541909.000000</td>\n",
       "      <td>406829.000000</td>\n",
       "    </tr>\n",
       "    <tr>\n",
       "      <th>mean</th>\n",
       "      <td>9.552250</td>\n",
       "      <td>2011-07-04 13:34:57.156386048</td>\n",
       "      <td>4.611114</td>\n",
       "      <td>15287.690570</td>\n",
       "    </tr>\n",
       "    <tr>\n",
       "      <th>min</th>\n",
       "      <td>-80995.000000</td>\n",
       "      <td>2010-12-01 08:26:00</td>\n",
       "      <td>-11062.060000</td>\n",
       "      <td>12346.000000</td>\n",
       "    </tr>\n",
       "    <tr>\n",
       "      <th>25%</th>\n",
       "      <td>1.000000</td>\n",
       "      <td>2011-03-28 11:34:00</td>\n",
       "      <td>1.250000</td>\n",
       "      <td>13953.000000</td>\n",
       "    </tr>\n",
       "    <tr>\n",
       "      <th>50%</th>\n",
       "      <td>3.000000</td>\n",
       "      <td>2011-07-19 17:17:00</td>\n",
       "      <td>2.080000</td>\n",
       "      <td>15152.000000</td>\n",
       "    </tr>\n",
       "    <tr>\n",
       "      <th>75%</th>\n",
       "      <td>10.000000</td>\n",
       "      <td>2011-10-19 11:27:00</td>\n",
       "      <td>4.130000</td>\n",
       "      <td>16791.000000</td>\n",
       "    </tr>\n",
       "    <tr>\n",
       "      <th>max</th>\n",
       "      <td>80995.000000</td>\n",
       "      <td>2011-12-09 12:50:00</td>\n",
       "      <td>38970.000000</td>\n",
       "      <td>18287.000000</td>\n",
       "    </tr>\n",
       "    <tr>\n",
       "      <th>std</th>\n",
       "      <td>218.081158</td>\n",
       "      <td>NaN</td>\n",
       "      <td>96.759853</td>\n",
       "      <td>1713.600303</td>\n",
       "    </tr>\n",
       "  </tbody>\n",
       "</table>\n",
       "</div>"
      ],
      "text/plain": [
       "            Quantity                    InvoiceDate      UnitPrice  \\\n",
       "count  541909.000000                         541909  541909.000000   \n",
       "mean        9.552250  2011-07-04 13:34:57.156386048       4.611114   \n",
       "min    -80995.000000            2010-12-01 08:26:00  -11062.060000   \n",
       "25%         1.000000            2011-03-28 11:34:00       1.250000   \n",
       "50%         3.000000            2011-07-19 17:17:00       2.080000   \n",
       "75%        10.000000            2011-10-19 11:27:00       4.130000   \n",
       "max     80995.000000            2011-12-09 12:50:00   38970.000000   \n",
       "std       218.081158                            NaN      96.759853   \n",
       "\n",
       "          CustomerID  \n",
       "count  406829.000000  \n",
       "mean    15287.690570  \n",
       "min     12346.000000  \n",
       "25%     13953.000000  \n",
       "50%     15152.000000  \n",
       "75%     16791.000000  \n",
       "max     18287.000000  \n",
       "std      1713.600303  "
      ]
     },
     "execution_count": 8,
     "metadata": {},
     "output_type": "execute_result"
    }
   ],
   "source": [
    "df.describe()"
   ]
  },
  {
   "cell_type": "code",
   "execution_count": 9,
   "id": "2a6ca7aa-7ab8-41a9-970f-daa0a5287589",
   "metadata": {},
   "outputs": [],
   "source": [
    "extrem= df[(df['Quantity']==-80995.000000)|(df['Quantity']== 80995.000000)]"
   ]
  },
  {
   "cell_type": "code",
   "execution_count": 10,
   "id": "cc544f9d-ea7c-40ba-8892-1d47b6c39e03",
   "metadata": {},
   "outputs": [
    {
     "data": {
      "text/html": [
       "<div>\n",
       "<style scoped>\n",
       "    .dataframe tbody tr th:only-of-type {\n",
       "        vertical-align: middle;\n",
       "    }\n",
       "\n",
       "    .dataframe tbody tr th {\n",
       "        vertical-align: top;\n",
       "    }\n",
       "\n",
       "    .dataframe thead th {\n",
       "        text-align: right;\n",
       "    }\n",
       "</style>\n",
       "<table border=\"1\" class=\"dataframe\">\n",
       "  <thead>\n",
       "    <tr style=\"text-align: right;\">\n",
       "      <th></th>\n",
       "      <th>InvoiceNo</th>\n",
       "      <th>StockCode</th>\n",
       "      <th>Description</th>\n",
       "      <th>Quantity</th>\n",
       "      <th>InvoiceDate</th>\n",
       "      <th>UnitPrice</th>\n",
       "      <th>CustomerID</th>\n",
       "      <th>Country</th>\n",
       "    </tr>\n",
       "  </thead>\n",
       "  <tbody>\n",
       "    <tr>\n",
       "      <th>540421</th>\n",
       "      <td>581483</td>\n",
       "      <td>23843</td>\n",
       "      <td>PAPER CRAFT , LITTLE BIRDIE</td>\n",
       "      <td>80995</td>\n",
       "      <td>2011-12-09 09:15:00</td>\n",
       "      <td>2.08</td>\n",
       "      <td>16446.0</td>\n",
       "      <td>United Kingdom</td>\n",
       "    </tr>\n",
       "    <tr>\n",
       "      <th>540422</th>\n",
       "      <td>C581484</td>\n",
       "      <td>23843</td>\n",
       "      <td>PAPER CRAFT , LITTLE BIRDIE</td>\n",
       "      <td>-80995</td>\n",
       "      <td>2011-12-09 09:27:00</td>\n",
       "      <td>2.08</td>\n",
       "      <td>16446.0</td>\n",
       "      <td>United Kingdom</td>\n",
       "    </tr>\n",
       "  </tbody>\n",
       "</table>\n",
       "</div>"
      ],
      "text/plain": [
       "       InvoiceNo StockCode                  Description  Quantity  \\\n",
       "540421    581483     23843  PAPER CRAFT , LITTLE BIRDIE     80995   \n",
       "540422   C581484     23843  PAPER CRAFT , LITTLE BIRDIE    -80995   \n",
       "\n",
       "               InvoiceDate  UnitPrice  CustomerID         Country  \n",
       "540421 2011-12-09 09:15:00       2.08     16446.0  United Kingdom  \n",
       "540422 2011-12-09 09:27:00       2.08     16446.0  United Kingdom  "
      ]
     },
     "execution_count": 10,
     "metadata": {},
     "output_type": "execute_result"
    }
   ],
   "source": [
    "extrem # the dataset have extrem high values with opposite signs so it was necessary to investigate"
   ]
  },
  {
   "cell_type": "code",
   "execution_count": 11,
   "id": "f15178a6-a0ec-4174-9037-3c42b3baa3f7",
   "metadata": {},
   "outputs": [
    {
     "name": "stdout",
     "output_type": "stream",
     "text": [
      "<class 'pandas.core.frame.DataFrame'>\n",
      "RangeIndex: 541909 entries, 0 to 541908\n",
      "Data columns (total 8 columns):\n",
      " #   Column       Non-Null Count   Dtype         \n",
      "---  ------       --------------   -----         \n",
      " 0   InvoiceNo    541909 non-null  object        \n",
      " 1   StockCode    541909 non-null  object        \n",
      " 2   Description  540455 non-null  object        \n",
      " 3   Quantity     541909 non-null  int64         \n",
      " 4   InvoiceDate  541909 non-null  datetime64[ns]\n",
      " 5   UnitPrice    541909 non-null  float64       \n",
      " 6   CustomerID   406829 non-null  float64       \n",
      " 7   Country      541909 non-null  object        \n",
      "dtypes: datetime64[ns](1), float64(2), int64(1), object(4)\n",
      "memory usage: 33.1+ MB\n"
     ]
    }
   ],
   "source": [
    "df.info()"
   ]
  },
  {
   "cell_type": "code",
   "execution_count": 12,
   "id": "4dbe730a-df4e-47c3-b98b-5bc3c02e76dc",
   "metadata": {},
   "outputs": [
    {
     "data": {
      "text/plain": [
       "InvoiceNo           0\n",
       "StockCode           0\n",
       "Description      1454\n",
       "Quantity            0\n",
       "InvoiceDate         0\n",
       "UnitPrice           0\n",
       "CustomerID     135080\n",
       "Country             0\n",
       "dtype: int64"
      ]
     },
     "execution_count": 12,
     "metadata": {},
     "output_type": "execute_result"
    }
   ],
   "source": [
    "df.isnull().sum()"
   ]
  },
  {
   "cell_type": "code",
   "execution_count": 13,
   "id": "ff46fdfe-13c0-4601-85f1-a57a131ad39e",
   "metadata": {},
   "outputs": [],
   "source": [
    "#df['Description'].fillna('unknown',inplace= True)\n",
    "df.fillna({'Description': 'unknown'}, inplace=True)"
   ]
  },
  {
   "cell_type": "code",
   "execution_count": 14,
   "id": "af42540f-f990-47d8-bc55-d86a5bdc97d1",
   "metadata": {},
   "outputs": [],
   "source": [
    "res= df[df['Description']=='unknown']"
   ]
  },
  {
   "cell_type": "code",
   "execution_count": 15,
   "id": "7eeab66d-3e3e-4f54-afcb-0d89b114899e",
   "metadata": {},
   "outputs": [
    {
     "data": {
      "text/html": [
       "<div>\n",
       "<style scoped>\n",
       "    .dataframe tbody tr th:only-of-type {\n",
       "        vertical-align: middle;\n",
       "    }\n",
       "\n",
       "    .dataframe tbody tr th {\n",
       "        vertical-align: top;\n",
       "    }\n",
       "\n",
       "    .dataframe thead th {\n",
       "        text-align: right;\n",
       "    }\n",
       "</style>\n",
       "<table border=\"1\" class=\"dataframe\">\n",
       "  <thead>\n",
       "    <tr style=\"text-align: right;\">\n",
       "      <th></th>\n",
       "      <th>InvoiceNo</th>\n",
       "      <th>StockCode</th>\n",
       "      <th>Description</th>\n",
       "      <th>Quantity</th>\n",
       "      <th>InvoiceDate</th>\n",
       "      <th>UnitPrice</th>\n",
       "      <th>CustomerID</th>\n",
       "      <th>Country</th>\n",
       "    </tr>\n",
       "  </thead>\n",
       "  <tbody>\n",
       "    <tr>\n",
       "      <th>622</th>\n",
       "      <td>536414</td>\n",
       "      <td>22139</td>\n",
       "      <td>unknown</td>\n",
       "      <td>56</td>\n",
       "      <td>2010-12-01 11:52:00</td>\n",
       "      <td>0.0</td>\n",
       "      <td>NaN</td>\n",
       "      <td>United Kingdom</td>\n",
       "    </tr>\n",
       "    <tr>\n",
       "      <th>1970</th>\n",
       "      <td>536545</td>\n",
       "      <td>21134</td>\n",
       "      <td>unknown</td>\n",
       "      <td>1</td>\n",
       "      <td>2010-12-01 14:32:00</td>\n",
       "      <td>0.0</td>\n",
       "      <td>NaN</td>\n",
       "      <td>United Kingdom</td>\n",
       "    </tr>\n",
       "    <tr>\n",
       "      <th>1971</th>\n",
       "      <td>536546</td>\n",
       "      <td>22145</td>\n",
       "      <td>unknown</td>\n",
       "      <td>1</td>\n",
       "      <td>2010-12-01 14:33:00</td>\n",
       "      <td>0.0</td>\n",
       "      <td>NaN</td>\n",
       "      <td>United Kingdom</td>\n",
       "    </tr>\n",
       "    <tr>\n",
       "      <th>1972</th>\n",
       "      <td>536547</td>\n",
       "      <td>37509</td>\n",
       "      <td>unknown</td>\n",
       "      <td>1</td>\n",
       "      <td>2010-12-01 14:33:00</td>\n",
       "      <td>0.0</td>\n",
       "      <td>NaN</td>\n",
       "      <td>United Kingdom</td>\n",
       "    </tr>\n",
       "    <tr>\n",
       "      <th>1987</th>\n",
       "      <td>536549</td>\n",
       "      <td>85226A</td>\n",
       "      <td>unknown</td>\n",
       "      <td>1</td>\n",
       "      <td>2010-12-01 14:34:00</td>\n",
       "      <td>0.0</td>\n",
       "      <td>NaN</td>\n",
       "      <td>United Kingdom</td>\n",
       "    </tr>\n",
       "    <tr>\n",
       "      <th>...</th>\n",
       "      <td>...</td>\n",
       "      <td>...</td>\n",
       "      <td>...</td>\n",
       "      <td>...</td>\n",
       "      <td>...</td>\n",
       "      <td>...</td>\n",
       "      <td>...</td>\n",
       "      <td>...</td>\n",
       "    </tr>\n",
       "    <tr>\n",
       "      <th>535322</th>\n",
       "      <td>581199</td>\n",
       "      <td>84581</td>\n",
       "      <td>unknown</td>\n",
       "      <td>-2</td>\n",
       "      <td>2011-12-07 18:26:00</td>\n",
       "      <td>0.0</td>\n",
       "      <td>NaN</td>\n",
       "      <td>United Kingdom</td>\n",
       "    </tr>\n",
       "    <tr>\n",
       "      <th>535326</th>\n",
       "      <td>581203</td>\n",
       "      <td>23406</td>\n",
       "      <td>unknown</td>\n",
       "      <td>15</td>\n",
       "      <td>2011-12-07 18:31:00</td>\n",
       "      <td>0.0</td>\n",
       "      <td>NaN</td>\n",
       "      <td>United Kingdom</td>\n",
       "    </tr>\n",
       "    <tr>\n",
       "      <th>535332</th>\n",
       "      <td>581209</td>\n",
       "      <td>21620</td>\n",
       "      <td>unknown</td>\n",
       "      <td>6</td>\n",
       "      <td>2011-12-07 18:35:00</td>\n",
       "      <td>0.0</td>\n",
       "      <td>NaN</td>\n",
       "      <td>United Kingdom</td>\n",
       "    </tr>\n",
       "    <tr>\n",
       "      <th>536981</th>\n",
       "      <td>581234</td>\n",
       "      <td>72817</td>\n",
       "      <td>unknown</td>\n",
       "      <td>27</td>\n",
       "      <td>2011-12-08 10:33:00</td>\n",
       "      <td>0.0</td>\n",
       "      <td>NaN</td>\n",
       "      <td>United Kingdom</td>\n",
       "    </tr>\n",
       "    <tr>\n",
       "      <th>538554</th>\n",
       "      <td>581408</td>\n",
       "      <td>85175</td>\n",
       "      <td>unknown</td>\n",
       "      <td>20</td>\n",
       "      <td>2011-12-08 14:06:00</td>\n",
       "      <td>0.0</td>\n",
       "      <td>NaN</td>\n",
       "      <td>United Kingdom</td>\n",
       "    </tr>\n",
       "  </tbody>\n",
       "</table>\n",
       "<p>1454 rows × 8 columns</p>\n",
       "</div>"
      ],
      "text/plain": [
       "       InvoiceNo StockCode Description  Quantity         InvoiceDate  \\\n",
       "622       536414     22139     unknown        56 2010-12-01 11:52:00   \n",
       "1970      536545     21134     unknown         1 2010-12-01 14:32:00   \n",
       "1971      536546     22145     unknown         1 2010-12-01 14:33:00   \n",
       "1972      536547     37509     unknown         1 2010-12-01 14:33:00   \n",
       "1987      536549    85226A     unknown         1 2010-12-01 14:34:00   \n",
       "...          ...       ...         ...       ...                 ...   \n",
       "535322    581199     84581     unknown        -2 2011-12-07 18:26:00   \n",
       "535326    581203     23406     unknown        15 2011-12-07 18:31:00   \n",
       "535332    581209     21620     unknown         6 2011-12-07 18:35:00   \n",
       "536981    581234     72817     unknown        27 2011-12-08 10:33:00   \n",
       "538554    581408     85175     unknown        20 2011-12-08 14:06:00   \n",
       "\n",
       "        UnitPrice  CustomerID         Country  \n",
       "622           0.0         NaN  United Kingdom  \n",
       "1970          0.0         NaN  United Kingdom  \n",
       "1971          0.0         NaN  United Kingdom  \n",
       "1972          0.0         NaN  United Kingdom  \n",
       "1987          0.0         NaN  United Kingdom  \n",
       "...           ...         ...             ...  \n",
       "535322        0.0         NaN  United Kingdom  \n",
       "535326        0.0         NaN  United Kingdom  \n",
       "535332        0.0         NaN  United Kingdom  \n",
       "536981        0.0         NaN  United Kingdom  \n",
       "538554        0.0         NaN  United Kingdom  \n",
       "\n",
       "[1454 rows x 8 columns]"
      ]
     },
     "execution_count": 15,
     "metadata": {},
     "output_type": "execute_result"
    }
   ],
   "source": [
    "res"
   ]
  },
  {
   "cell_type": "code",
   "execution_count": 16,
   "id": "12e96b53-f9b9-4f0a-b099-cab1a8f51ef0",
   "metadata": {},
   "outputs": [],
   "source": [
    "df.fillna({'CustomerID':-1}, inplace=True)"
   ]
  },
  {
   "cell_type": "code",
   "execution_count": 17,
   "id": "79225c26-1464-4a14-9fcd-83ed7e0c012b",
   "metadata": {},
   "outputs": [],
   "source": [
    "#res= df[df['Description']=='unknown']\n",
    "#res  it is used to check that desired value is added in place of null values in customerid col(it is more like code reusability)"
   ]
  },
  {
   "cell_type": "code",
   "execution_count": 18,
   "id": "dbb1e7d2-c06f-414c-830c-292118c4c301",
   "metadata": {},
   "outputs": [
    {
     "data": {
      "text/html": [
       "<div>\n",
       "<style scoped>\n",
       "    .dataframe tbody tr th:only-of-type {\n",
       "        vertical-align: middle;\n",
       "    }\n",
       "\n",
       "    .dataframe tbody tr th {\n",
       "        vertical-align: top;\n",
       "    }\n",
       "\n",
       "    .dataframe thead th {\n",
       "        text-align: right;\n",
       "    }\n",
       "</style>\n",
       "<table border=\"1\" class=\"dataframe\">\n",
       "  <thead>\n",
       "    <tr style=\"text-align: right;\">\n",
       "      <th></th>\n",
       "      <th>InvoiceNo</th>\n",
       "      <th>StockCode</th>\n",
       "      <th>Description</th>\n",
       "      <th>Quantity</th>\n",
       "      <th>InvoiceDate</th>\n",
       "      <th>UnitPrice</th>\n",
       "      <th>CustomerID</th>\n",
       "      <th>Country</th>\n",
       "    </tr>\n",
       "  </thead>\n",
       "  <tbody>\n",
       "    <tr>\n",
       "      <th>0</th>\n",
       "      <td>536365</td>\n",
       "      <td>85123A</td>\n",
       "      <td>WHITE HANGING HEART T-LIGHT HOLDER</td>\n",
       "      <td>6</td>\n",
       "      <td>2010-12-01 08:26:00</td>\n",
       "      <td>2.55</td>\n",
       "      <td>17850.0</td>\n",
       "      <td>United Kingdom</td>\n",
       "    </tr>\n",
       "    <tr>\n",
       "      <th>1</th>\n",
       "      <td>536365</td>\n",
       "      <td>71053</td>\n",
       "      <td>WHITE METAL LANTERN</td>\n",
       "      <td>6</td>\n",
       "      <td>2010-12-01 08:26:00</td>\n",
       "      <td>3.39</td>\n",
       "      <td>17850.0</td>\n",
       "      <td>United Kingdom</td>\n",
       "    </tr>\n",
       "    <tr>\n",
       "      <th>2</th>\n",
       "      <td>536365</td>\n",
       "      <td>84406B</td>\n",
       "      <td>CREAM CUPID HEARTS COAT HANGER</td>\n",
       "      <td>8</td>\n",
       "      <td>2010-12-01 08:26:00</td>\n",
       "      <td>2.75</td>\n",
       "      <td>17850.0</td>\n",
       "      <td>United Kingdom</td>\n",
       "    </tr>\n",
       "    <tr>\n",
       "      <th>3</th>\n",
       "      <td>536365</td>\n",
       "      <td>84029G</td>\n",
       "      <td>KNITTED UNION FLAG HOT WATER BOTTLE</td>\n",
       "      <td>6</td>\n",
       "      <td>2010-12-01 08:26:00</td>\n",
       "      <td>3.39</td>\n",
       "      <td>17850.0</td>\n",
       "      <td>United Kingdom</td>\n",
       "    </tr>\n",
       "  </tbody>\n",
       "</table>\n",
       "</div>"
      ],
      "text/plain": [
       "  InvoiceNo StockCode                          Description  Quantity  \\\n",
       "0    536365    85123A   WHITE HANGING HEART T-LIGHT HOLDER         6   \n",
       "1    536365     71053                  WHITE METAL LANTERN         6   \n",
       "2    536365    84406B       CREAM CUPID HEARTS COAT HANGER         8   \n",
       "3    536365    84029G  KNITTED UNION FLAG HOT WATER BOTTLE         6   \n",
       "\n",
       "          InvoiceDate  UnitPrice  CustomerID         Country  \n",
       "0 2010-12-01 08:26:00       2.55     17850.0  United Kingdom  \n",
       "1 2010-12-01 08:26:00       3.39     17850.0  United Kingdom  \n",
       "2 2010-12-01 08:26:00       2.75     17850.0  United Kingdom  \n",
       "3 2010-12-01 08:26:00       3.39     17850.0  United Kingdom  "
      ]
     },
     "execution_count": 18,
     "metadata": {},
     "output_type": "execute_result"
    }
   ],
   "source": [
    "df.head(4)"
   ]
  },
  {
   "cell_type": "code",
   "execution_count": 19,
   "id": "79c6f052-076b-4924-a9d2-66f10bb013a1",
   "metadata": {},
   "outputs": [
    {
     "data": {
      "text/plain": [
       "(541909, 8)"
      ]
     },
     "execution_count": 19,
     "metadata": {},
     "output_type": "execute_result"
    }
   ],
   "source": [
    "df.shape"
   ]
  },
  {
   "cell_type": "code",
   "execution_count": 20,
   "id": "dc1e4f9d-35d5-44a1-a793-c548bd06609b",
   "metadata": {},
   "outputs": [],
   "source": [
    "df.drop_duplicates(keep='first',inplace=True)"
   ]
  },
  {
   "cell_type": "code",
   "execution_count": 21,
   "id": "d11a542a-8601-4b65-8727-473fa3d7329b",
   "metadata": {},
   "outputs": [
    {
     "data": {
      "text/plain": [
       "(536641, 8)"
      ]
     },
     "execution_count": 21,
     "metadata": {},
     "output_type": "execute_result"
    }
   ],
   "source": [
    "df.shape# it means this dataset has duplicates now after removing dublicates it has this much rows 536641"
   ]
  },
  {
   "cell_type": "code",
   "execution_count": 22,
   "id": "550087e2-1922-4072-a7a3-e168c7a1c0a1",
   "metadata": {},
   "outputs": [
    {
     "data": {
      "image/png": "[encoded data removed]",
      "text/plain": [
       "<Figure size 640x480 with 1 Axes>"
      ]
     },
     "metadata": {},
     "output_type": "display_data"
    }
   ],
   "source": [
    "\n",
    "sns.boxplot(x=\"Quantity\",data=df)\n",
    "plt.show()"
   ]
  },
  {
   "cell_type": "code",
   "execution_count": 23,
   "id": "405d6da6-253b-46ab-b58a-bec669b6e2c0",
   "metadata": {},
   "outputs": [
    {
     "name": "stderr",
     "output_type": "stream",
     "text": [
      "C:\\Users\\admin\\AppData\\Local\\Temp\\ipykernel_12420\\3196584659.py:1: UserWarning: \n",
      "\n",
      "`distplot` is a deprecated function and will be removed in seaborn v0.14.0.\n",
      "\n",
      "Please adapt your code to use either `displot` (a figure-level function with\n",
      "similar flexibility) or `histplot` (an axes-level function for histograms).\n",
      "\n",
      "For a guide to updating your code to use the new functions, please see\n",
      "https://gist.github.com/mwaskom/de44147ed2974457ad6372750bbe5751\n",
      "\n",
      "  sns.distplot(df['Quantity'])\n"
     ]
    },
    {
     "data": {
      "image/png": "[encoded data removed]",
      "text/plain": [
       "<Figure size 640x480 with 1 Axes>"
      ]
     },
     "metadata": {},
     "output_type": "display_data"
    }
   ],
   "source": [
    "sns.distplot(df['Quantity'])\n",
    "plt.show()"
   ]
  },
  {
   "cell_type": "code",
   "execution_count": 24,
   "id": "69146772-d620-4fb1-83d8-54c1f646cc2d",
   "metadata": {},
   "outputs": [
    {
     "data": {
      "text/html": [
       "<div>\n",
       "<style scoped>\n",
       "    .dataframe tbody tr th:only-of-type {\n",
       "        vertical-align: middle;\n",
       "    }\n",
       "\n",
       "    .dataframe tbody tr th {\n",
       "        vertical-align: top;\n",
       "    }\n",
       "\n",
       "    .dataframe thead th {\n",
       "        text-align: right;\n",
       "    }\n",
       "</style>\n",
       "<table border=\"1\" class=\"dataframe\">\n",
       "  <thead>\n",
       "    <tr style=\"text-align: right;\">\n",
       "      <th></th>\n",
       "      <th>Quantity</th>\n",
       "      <th>InvoiceDate</th>\n",
       "      <th>UnitPrice</th>\n",
       "      <th>CustomerID</th>\n",
       "    </tr>\n",
       "  </thead>\n",
       "  <tbody>\n",
       "    <tr>\n",
       "      <th>count</th>\n",
       "      <td>536641.000000</td>\n",
       "      <td>536641</td>\n",
       "      <td>536641.000000</td>\n",
       "      <td>536641.000000</td>\n",
       "    </tr>\n",
       "    <tr>\n",
       "      <th>mean</th>\n",
       "      <td>9.620029</td>\n",
       "      <td>2011-07-04 08:57:06.087421952</td>\n",
       "      <td>4.632656</td>\n",
       "      <td>11435.653019</td>\n",
       "    </tr>\n",
       "    <tr>\n",
       "      <th>min</th>\n",
       "      <td>-80995.000000</td>\n",
       "      <td>2010-12-01 08:26:00</td>\n",
       "      <td>-11062.060000</td>\n",
       "      <td>-1.000000</td>\n",
       "    </tr>\n",
       "    <tr>\n",
       "      <th>25%</th>\n",
       "      <td>1.000000</td>\n",
       "      <td>2011-03-28 10:52:00</td>\n",
       "      <td>1.250000</td>\n",
       "      <td>-1.000000</td>\n",
       "    </tr>\n",
       "    <tr>\n",
       "      <th>50%</th>\n",
       "      <td>3.000000</td>\n",
       "      <td>2011-07-19 14:04:00</td>\n",
       "      <td>2.080000</td>\n",
       "      <td>14336.000000</td>\n",
       "    </tr>\n",
       "    <tr>\n",
       "      <th>75%</th>\n",
       "      <td>10.000000</td>\n",
       "      <td>2011-10-18 17:05:00</td>\n",
       "      <td>4.130000</td>\n",
       "      <td>16241.000000</td>\n",
       "    </tr>\n",
       "    <tr>\n",
       "      <th>max</th>\n",
       "      <td>80995.000000</td>\n",
       "      <td>2011-12-09 12:50:00</td>\n",
       "      <td>38970.000000</td>\n",
       "      <td>18287.000000</td>\n",
       "    </tr>\n",
       "    <tr>\n",
       "      <th>std</th>\n",
       "      <td>219.130156</td>\n",
       "      <td>NaN</td>\n",
       "      <td>97.233118</td>\n",
       "      <td>6795.467745</td>\n",
       "    </tr>\n",
       "  </tbody>\n",
       "</table>\n",
       "</div>"
      ],
      "text/plain": [
       "            Quantity                    InvoiceDate      UnitPrice  \\\n",
       "count  536641.000000                         536641  536641.000000   \n",
       "mean        9.620029  2011-07-04 08:57:06.087421952       4.632656   \n",
       "min    -80995.000000            2010-12-01 08:26:00  -11062.060000   \n",
       "25%         1.000000            2011-03-28 10:52:00       1.250000   \n",
       "50%         3.000000            2011-07-19 14:04:00       2.080000   \n",
       "75%        10.000000            2011-10-18 17:05:00       4.130000   \n",
       "max     80995.000000            2011-12-09 12:50:00   38970.000000   \n",
       "std       219.130156                            NaN      97.233118   \n",
       "\n",
       "          CustomerID  \n",
       "count  536641.000000  \n",
       "mean    11435.653019  \n",
       "min        -1.000000  \n",
       "25%        -1.000000  \n",
       "50%     14336.000000  \n",
       "75%     16241.000000  \n",
       "max     18287.000000  \n",
       "std      6795.467745  "
      ]
     },
     "execution_count": 24,
     "metadata": {},
     "output_type": "execute_result"
    }
   ],
   "source": [
    "df.describe()"
   ]
  },
  {
   "cell_type": "code",
   "execution_count": 25,
   "id": "f04adc7f-a4c7-4914-8d39-3416fd5ef34f",
   "metadata": {},
   "outputs": [],
   "source": [
    "Q1=1.000000\n",
    "Q3=10.000000\t\n",
    "IQR= Q3-Q1\n"
   ]
  },
  {
   "cell_type": "code",
   "execution_count": 26,
   "id": "ae76435b-445c-464d-a8b7-ff998c5b2664",
   "metadata": {},
   "outputs": [
    {
     "data": {
      "text/plain": [
       "(-12.5, 23.5)"
      ]
     },
     "execution_count": 26,
     "metadata": {},
     "output_type": "execute_result"
    }
   ],
   "source": [
    "min_range= Q1-(1.5*IQR)\n",
    "max_range= Q3+(1.5*IQR)\n",
    "min_range,max_range"
   ]
  },
  {
   "cell_type": "code",
   "execution_count": 27,
   "id": "d9a350af-9aef-4ecd-b22f-0b84c299d25b",
   "metadata": {},
   "outputs": [],
   "source": [
    "newdf= df[(df['Quantity']>min_range) & (df['Quantity']<max_range)]  #df[(df['Quantity'] >= lower_bound) & (df['Quantity'] <= upper_bound)]"
   ]
  },
  {
   "cell_type": "code",
   "execution_count": 28,
   "id": "f208e1d0-0552-42d0-a29e-3e7a971cef5f",
   "metadata": {},
   "outputs": [
    {
     "data": {
      "text/plain": [
       "(478140, 8)"
      ]
     },
     "execution_count": 28,
     "metadata": {},
     "output_type": "execute_result"
    }
   ],
   "source": [
    "newdf.shape"
   ]
  },
  {
   "cell_type": "code",
   "execution_count": 29,
   "id": "566a401f-2fc8-4e52-908e-42f7c92a7cc2",
   "metadata": {},
   "outputs": [
    {
     "name": "stderr",
     "output_type": "stream",
     "text": [
      "C:\\Users\\admin\\AppData\\Local\\Temp\\ipykernel_12420\\2162961398.py:1: UserWarning: \n",
      "\n",
      "`distplot` is a deprecated function and will be removed in seaborn v0.14.0.\n",
      "\n",
      "Please adapt your code to use either `displot` (a figure-level function with\n",
      "similar flexibility) or `histplot` (an axes-level function for histograms).\n",
      "\n",
      "For a guide to updating your code to use the new functions, please see\n",
      "https://gist.github.com/mwaskom/de44147ed2974457ad6372750bbe5751\n",
      "\n",
      "  sns.distplot(newdf['Quantity'])\n"
     ]
    },
    {
     "data": {
      "image/png": "[encoded data removed]",
      "text/plain": [
       "<Figure size 640x480 with 1 Axes>"
      ]
     },
     "metadata": {},
     "output_type": "display_data"
    }
   ],
   "source": [
    "sns.distplot(newdf['Quantity'])\n",
    "plt.show()"
   ]
  },
  {
   "cell_type": "code",
   "execution_count": 30,
   "id": "5afd82f7-a88b-4bcb-9451-2ab45787141e",
   "metadata": {},
   "outputs": [
    {
     "data": {
      "image/png": "[encoded data removed]",
      "text/plain": [
       "<Figure size 640x480 with 1 Axes>"
      ]
     },
     "metadata": {},
     "output_type": "display_data"
    }
   ],
   "source": [
    "sns.boxplot(x=\"Quantity\",data=newdf)\n",
    "plt.show()"
   ]
  },
  {
   "cell_type": "code",
   "execution_count": 31,
   "id": "f5fe0787-f454-4887-b7ce-efcea1b25b5e",
   "metadata": {},
   "outputs": [
    {
     "data": {
      "text/html": [
       "<div>\n",
       "<style scoped>\n",
       "    .dataframe tbody tr th:only-of-type {\n",
       "        vertical-align: middle;\n",
       "    }\n",
       "\n",
       "    .dataframe tbody tr th {\n",
       "        vertical-align: top;\n",
       "    }\n",
       "\n",
       "    .dataframe thead th {\n",
       "        text-align: right;\n",
       "    }\n",
       "</style>\n",
       "<table border=\"1\" class=\"dataframe\">\n",
       "  <thead>\n",
       "    <tr style=\"text-align: right;\">\n",
       "      <th></th>\n",
       "      <th>Quantity</th>\n",
       "      <th>InvoiceDate</th>\n",
       "      <th>UnitPrice</th>\n",
       "      <th>CustomerID</th>\n",
       "    </tr>\n",
       "  </thead>\n",
       "  <tbody>\n",
       "    <tr>\n",
       "      <th>count</th>\n",
       "      <td>536641.000000</td>\n",
       "      <td>536641</td>\n",
       "      <td>536641.000000</td>\n",
       "      <td>536641.000000</td>\n",
       "    </tr>\n",
       "    <tr>\n",
       "      <th>mean</th>\n",
       "      <td>9.620029</td>\n",
       "      <td>2011-07-04 08:57:06.087421952</td>\n",
       "      <td>4.632656</td>\n",
       "      <td>11435.653019</td>\n",
       "    </tr>\n",
       "    <tr>\n",
       "      <th>min</th>\n",
       "      <td>-80995.000000</td>\n",
       "      <td>2010-12-01 08:26:00</td>\n",
       "      <td>-11062.060000</td>\n",
       "      <td>-1.000000</td>\n",
       "    </tr>\n",
       "    <tr>\n",
       "      <th>25%</th>\n",
       "      <td>1.000000</td>\n",
       "      <td>2011-03-28 10:52:00</td>\n",
       "      <td>1.250000</td>\n",
       "      <td>-1.000000</td>\n",
       "    </tr>\n",
       "    <tr>\n",
       "      <th>50%</th>\n",
       "      <td>3.000000</td>\n",
       "      <td>2011-07-19 14:04:00</td>\n",
       "      <td>2.080000</td>\n",
       "      <td>14336.000000</td>\n",
       "    </tr>\n",
       "    <tr>\n",
       "      <th>75%</th>\n",
       "      <td>10.000000</td>\n",
       "      <td>2011-10-18 17:05:00</td>\n",
       "      <td>4.130000</td>\n",
       "      <td>16241.000000</td>\n",
       "    </tr>\n",
       "    <tr>\n",
       "      <th>max</th>\n",
       "      <td>80995.000000</td>\n",
       "      <td>2011-12-09 12:50:00</td>\n",
       "      <td>38970.000000</td>\n",
       "      <td>18287.000000</td>\n",
       "    </tr>\n",
       "    <tr>\n",
       "      <th>std</th>\n",
       "      <td>219.130156</td>\n",
       "      <td>NaN</td>\n",
       "      <td>97.233118</td>\n",
       "      <td>6795.467745</td>\n",
       "    </tr>\n",
       "  </tbody>\n",
       "</table>\n",
       "</div>"
      ],
      "text/plain": [
       "            Quantity                    InvoiceDate      UnitPrice  \\\n",
       "count  536641.000000                         536641  536641.000000   \n",
       "mean        9.620029  2011-07-04 08:57:06.087421952       4.632656   \n",
       "min    -80995.000000            2010-12-01 08:26:00  -11062.060000   \n",
       "25%         1.000000            2011-03-28 10:52:00       1.250000   \n",
       "50%         3.000000            2011-07-19 14:04:00       2.080000   \n",
       "75%        10.000000            2011-10-18 17:05:00       4.130000   \n",
       "max     80995.000000            2011-12-09 12:50:00   38970.000000   \n",
       "std       219.130156                            NaN      97.233118   \n",
       "\n",
       "          CustomerID  \n",
       "count  536641.000000  \n",
       "mean    11435.653019  \n",
       "min        -1.000000  \n",
       "25%        -1.000000  \n",
       "50%     14336.000000  \n",
       "75%     16241.000000  \n",
       "max     18287.000000  \n",
       "std      6795.467745  "
      ]
     },
     "execution_count": 31,
     "metadata": {},
     "output_type": "execute_result"
    }
   ],
   "source": [
    "df.describe()"
   ]
  },
  {
   "cell_type": "code",
   "execution_count": 32,
   "id": "4c21654a-a315-424e-8eab-fac517739daf",
   "metadata": {},
   "outputs": [
    {
     "data": {
      "image/png": "[encoded data removed]",
      "text/plain": [
       "<Figure size 640x480 with 1 Axes>"
      ]
     },
     "metadata": {},
     "output_type": "display_data"
    }
   ],
   "source": [
    "sns.boxplot(x=\"UnitPrice\",data=newdf)\n",
    "plt.show()"
   ]
  },
  {
   "cell_type": "code",
   "execution_count": 33,
   "id": "a1476d4f-5035-4e33-9e86-4fd985cad68e",
   "metadata": {},
   "outputs": [],
   "source": [
    "Q1=1.250000\t\n",
    "Q3=4.130000\n",
    "IQR=Q3-Q1"
   ]
  },
  {
   "cell_type": "code",
   "execution_count": 34,
   "id": "a0f8e620-f3da-4624-9b0c-100f2540924f",
   "metadata": {},
   "outputs": [
    {
     "data": {
      "text/plain": [
       "(-3.0700000000000003, 8.45)"
      ]
     },
     "execution_count": 34,
     "metadata": {},
     "output_type": "execute_result"
    }
   ],
   "source": [
    "min_range= Q1-(1.5*IQR)\n",
    "max_range= Q3+(1.5*IQR)\n",
    "min_range,max_range\n"
   ]
  },
  {
   "cell_type": "code",
   "execution_count": 35,
   "id": "041d8b38-05e3-4e49-b277-e2134f089b8b",
   "metadata": {},
   "outputs": [],
   "source": [
    "newdff= newdf[(newdf['UnitPrice']>min_range) & (newdf['UnitPrice']<max_range)] "
   ]
  },
  {
   "cell_type": "code",
   "execution_count": 36,
   "id": "62445459-5104-4c4e-adf6-7cb1279f4b22",
   "metadata": {},
   "outputs": [
    {
     "data": {
      "text/plain": [
       "(439135, 8)"
      ]
     },
     "execution_count": 36,
     "metadata": {},
     "output_type": "execute_result"
    }
   ],
   "source": [
    "newdff.shape"
   ]
  },
  {
   "cell_type": "code",
   "execution_count": 37,
   "id": "206d83ed-0452-4c14-80b2-e83450ab7ce6",
   "metadata": {},
   "outputs": [
    {
     "data": {
      "image/png": "[encoded data removed]",
      "text/plain": [
       "<Figure size 640x480 with 1 Axes>"
      ]
     },
     "metadata": {},
     "output_type": "display_data"
    }
   ],
   "source": [
    "sns.boxplot(x=\"UnitPrice\",data=newdff)\n",
    "plt.show()"
   ]
  },
  {
   "cell_type": "code",
   "execution_count": 38,
   "id": "750f361f-60ab-4f24-b80b-b372a4faa35c",
   "metadata": {},
   "outputs": [
    {
     "data": {
      "text/html": [
       "<div>\n",
       "<style scoped>\n",
       "    .dataframe tbody tr th:only-of-type {\n",
       "        vertical-align: middle;\n",
       "    }\n",
       "\n",
       "    .dataframe tbody tr th {\n",
       "        vertical-align: top;\n",
       "    }\n",
       "\n",
       "    .dataframe thead th {\n",
       "        text-align: right;\n",
       "    }\n",
       "</style>\n",
       "<table border=\"1\" class=\"dataframe\">\n",
       "  <thead>\n",
       "    <tr style=\"text-align: right;\">\n",
       "      <th></th>\n",
       "      <th>Quantity</th>\n",
       "      <th>InvoiceDate</th>\n",
       "      <th>UnitPrice</th>\n",
       "      <th>CustomerID</th>\n",
       "    </tr>\n",
       "  </thead>\n",
       "  <tbody>\n",
       "    <tr>\n",
       "      <th>count</th>\n",
       "      <td>439135.000000</td>\n",
       "      <td>439135</td>\n",
       "      <td>439135.000000</td>\n",
       "      <td>439135.000000</td>\n",
       "    </tr>\n",
       "    <tr>\n",
       "      <th>mean</th>\n",
       "      <td>4.833596</td>\n",
       "      <td>2011-07-05 12:03:17.051157504</td>\n",
       "      <td>2.700595</td>\n",
       "      <td>11266.083601</td>\n",
       "    </tr>\n",
       "    <tr>\n",
       "      <th>min</th>\n",
       "      <td>-12.000000</td>\n",
       "      <td>2010-12-01 08:26:00</td>\n",
       "      <td>0.000000</td>\n",
       "      <td>-1.000000</td>\n",
       "    </tr>\n",
       "    <tr>\n",
       "      <th>25%</th>\n",
       "      <td>1.000000</td>\n",
       "      <td>2011-03-28 14:23:00</td>\n",
       "      <td>1.250000</td>\n",
       "      <td>-1.000000</td>\n",
       "    </tr>\n",
       "    <tr>\n",
       "      <th>50%</th>\n",
       "      <td>3.000000</td>\n",
       "      <td>2011-07-20 15:44:00</td>\n",
       "      <td>2.080000</td>\n",
       "      <td>14367.000000</td>\n",
       "    </tr>\n",
       "    <tr>\n",
       "      <th>75%</th>\n",
       "      <td>8.000000</td>\n",
       "      <td>2011-10-20 11:51:00</td>\n",
       "      <td>3.750000</td>\n",
       "      <td>16274.000000</td>\n",
       "    </tr>\n",
       "    <tr>\n",
       "      <th>max</th>\n",
       "      <td>23.000000</td>\n",
       "      <td>2011-12-09 12:50:00</td>\n",
       "      <td>8.330000</td>\n",
       "      <td>18287.000000</td>\n",
       "    </tr>\n",
       "    <tr>\n",
       "      <th>std</th>\n",
       "      <td>4.624864</td>\n",
       "      <td>NaN</td>\n",
       "      <td>1.932749</td>\n",
       "      <td>6929.288537</td>\n",
       "    </tr>\n",
       "  </tbody>\n",
       "</table>\n",
       "</div>"
      ],
      "text/plain": [
       "            Quantity                    InvoiceDate      UnitPrice  \\\n",
       "count  439135.000000                         439135  439135.000000   \n",
       "mean        4.833596  2011-07-05 12:03:17.051157504       2.700595   \n",
       "min       -12.000000            2010-12-01 08:26:00       0.000000   \n",
       "25%         1.000000            2011-03-28 14:23:00       1.250000   \n",
       "50%         3.000000            2011-07-20 15:44:00       2.080000   \n",
       "75%         8.000000            2011-10-20 11:51:00       3.750000   \n",
       "max        23.000000            2011-12-09 12:50:00       8.330000   \n",
       "std         4.624864                            NaN       1.932749   \n",
       "\n",
       "          CustomerID  \n",
       "count  439135.000000  \n",
       "mean    11266.083601  \n",
       "min        -1.000000  \n",
       "25%        -1.000000  \n",
       "50%     14367.000000  \n",
       "75%     16274.000000  \n",
       "max     18287.000000  \n",
       "std      6929.288537  "
      ]
     },
     "execution_count": 38,
     "metadata": {},
     "output_type": "execute_result"
    }
   ],
   "source": [
    "newdff.describe()"
   ]
  },
  {
   "cell_type": "code",
   "execution_count": 39,
   "id": "1d2c34cc-2ee3-4dd2-a83d-331fc6acace9",
   "metadata": {},
   "outputs": [
    {
     "data": {
      "text/plain": [
       "(-12.5, 23.5)"
      ]
     },
     "execution_count": 39,
     "metadata": {},
     "output_type": "execute_result"
    }
   ],
   "source": [
    "Q1=1.000000\n",
    "Q3=10.000000\t\n",
    "IQR= Q3-Q1\n",
    "min_range= Q1-(1.5*IQR)\n",
    "max_range= Q3+(1.5*IQR)\n",
    "min_range,max_range"
   ]
  },
  {
   "cell_type": "code",
   "execution_count": 40,
   "id": "0b288f94-96c3-4b6f-ab45-86f60d55cbd9",
   "metadata": {},
   "outputs": [],
   "source": [
    "outlierdf= df[(df['Quantity']<min_range) | (df['Quantity']>max_range)|(df['UnitPrice']<min_range) | (df['UnitPrice']>max_range)] #|(df['UnitPrice']<min_range) | (df['UnitPrice']>max_range)"
   ]
  },
  {
   "cell_type": "code",
   "execution_count": 41,
   "id": "2b41ed9e-e71a-4283-9992-0f7739b8943a",
   "metadata": {},
   "outputs": [
    {
     "data": {
      "text/plain": [
       "(61986, 8)"
      ]
     },
     "execution_count": 41,
     "metadata": {},
     "output_type": "execute_result"
    }
   ],
   "source": [
    "outlierdf.shape"
   ]
  },
  {
   "cell_type": "code",
   "execution_count": 42,
   "id": "a01130e6-1f26-43f5-8aff-bd90db34cfb2",
   "metadata": {},
   "outputs": [],
   "source": [
    "#common_rows= pd.merge(newdff,outlierdf,how='inner')"
   ]
  },
  {
   "cell_type": "code",
   "execution_count": 43,
   "id": "d6017e37-57bd-420d-8ec8-76c8565f3a73",
   "metadata": {},
   "outputs": [
    {
     "name": "stdout",
     "output_type": "stream",
     "text": [
      "Unique rows in the outliers dataset: 61986\n",
      "Unique rows in the general dataset: 439135\n"
     ]
    }
   ],
   "source": [
    "print(\"Unique rows in the outliers dataset:\",outlierdf.shape[0])\n",
    "print(\"Unique rows in the general dataset:\",newdff.shape[0])\n",
    "\n"
   ]
  },
  {
   "cell_type": "code",
   "execution_count": 44,
   "id": "121e3f8d-eb66-4e3d-94e8-22b987cbf183",
   "metadata": {},
   "outputs": [
    {
     "data": {
      "text/plain": [
       "np.int64(0)"
      ]
     },
     "execution_count": 44,
     "metadata": {},
     "output_type": "execute_result"
    }
   ],
   "source": [
    "outlierdf.duplicated().sum()"
   ]
  },
  {
   "cell_type": "code",
   "execution_count": 45,
   "id": "3411758c-9567-45b7-aede-e94a0b999c2f",
   "metadata": {},
   "outputs": [
    {
     "data": {
      "text/plain": [
       "np.int64(0)"
      ]
     },
     "execution_count": 45,
     "metadata": {},
     "output_type": "execute_result"
    }
   ],
   "source": [
    "newdff.duplicated().sum()"
   ]
  },
  {
   "cell_type": "code",
   "execution_count": 46,
   "id": "8ff078b5-3e77-494a-87c5-7e72b9a3e192",
   "metadata": {},
   "outputs": [
    {
     "data": {
      "text/plain": [
       "(536641, 8)"
      ]
     },
     "execution_count": 46,
     "metadata": {},
     "output_type": "execute_result"
    }
   ],
   "source": [
    "df.shape"
   ]
  },
  {
   "cell_type": "code",
   "execution_count": 47,
   "id": "bb2ee8d2-6cba-475b-8396-95f300376cf1",
   "metadata": {},
   "outputs": [
    {
     "data": {
      "text/html": [
       "<div>\n",
       "<style scoped>\n",
       "    .dataframe tbody tr th:only-of-type {\n",
       "        vertical-align: middle;\n",
       "    }\n",
       "\n",
       "    .dataframe tbody tr th {\n",
       "        vertical-align: top;\n",
       "    }\n",
       "\n",
       "    .dataframe thead th {\n",
       "        text-align: right;\n",
       "    }\n",
       "</style>\n",
       "<table border=\"1\" class=\"dataframe\">\n",
       "  <thead>\n",
       "    <tr style=\"text-align: right;\">\n",
       "      <th></th>\n",
       "      <th>InvoiceNo</th>\n",
       "      <th>StockCode</th>\n",
       "      <th>Description</th>\n",
       "      <th>Quantity</th>\n",
       "      <th>InvoiceDate</th>\n",
       "      <th>UnitPrice</th>\n",
       "      <th>CustomerID</th>\n",
       "      <th>Country</th>\n",
       "    </tr>\n",
       "  </thead>\n",
       "  <tbody>\n",
       "    <tr>\n",
       "      <th>9</th>\n",
       "      <td>536367</td>\n",
       "      <td>84879</td>\n",
       "      <td>ASSORTED COLOUR BIRD ORNAMENT</td>\n",
       "      <td>32</td>\n",
       "      <td>2010-12-01 08:34:00</td>\n",
       "      <td>1.69</td>\n",
       "      <td>13047.0</td>\n",
       "      <td>United Kingdom</td>\n",
       "    </tr>\n",
       "    <tr>\n",
       "      <th>26</th>\n",
       "      <td>536370</td>\n",
       "      <td>22728</td>\n",
       "      <td>ALARM CLOCK BAKELIKE PINK</td>\n",
       "      <td>24</td>\n",
       "      <td>2010-12-01 08:45:00</td>\n",
       "      <td>3.75</td>\n",
       "      <td>12583.0</td>\n",
       "      <td>France</td>\n",
       "    </tr>\n",
       "    <tr>\n",
       "      <th>27</th>\n",
       "      <td>536370</td>\n",
       "      <td>22727</td>\n",
       "      <td>ALARM CLOCK BAKELIKE RED</td>\n",
       "      <td>24</td>\n",
       "      <td>2010-12-01 08:45:00</td>\n",
       "      <td>3.75</td>\n",
       "      <td>12583.0</td>\n",
       "      <td>France</td>\n",
       "    </tr>\n",
       "    <tr>\n",
       "      <th>30</th>\n",
       "      <td>536370</td>\n",
       "      <td>21883</td>\n",
       "      <td>STARS GIFT TAPE</td>\n",
       "      <td>24</td>\n",
       "      <td>2010-12-01 08:45:00</td>\n",
       "      <td>0.65</td>\n",
       "      <td>12583.0</td>\n",
       "      <td>France</td>\n",
       "    </tr>\n",
       "    <tr>\n",
       "      <th>31</th>\n",
       "      <td>536370</td>\n",
       "      <td>10002</td>\n",
       "      <td>INFLATABLE POLITICAL GLOBE</td>\n",
       "      <td>48</td>\n",
       "      <td>2010-12-01 08:45:00</td>\n",
       "      <td>0.85</td>\n",
       "      <td>12583.0</td>\n",
       "      <td>France</td>\n",
       "    </tr>\n",
       "    <tr>\n",
       "      <th>...</th>\n",
       "      <td>...</td>\n",
       "      <td>...</td>\n",
       "      <td>...</td>\n",
       "      <td>...</td>\n",
       "      <td>...</td>\n",
       "      <td>...</td>\n",
       "      <td>...</td>\n",
       "      <td>...</td>\n",
       "    </tr>\n",
       "    <tr>\n",
       "      <th>410</th>\n",
       "      <td>536404</td>\n",
       "      <td>21975</td>\n",
       "      <td>PACK OF 60 DINOSAUR CAKE CASES</td>\n",
       "      <td>24</td>\n",
       "      <td>2010-12-01 11:29:00</td>\n",
       "      <td>0.55</td>\n",
       "      <td>16218.0</td>\n",
       "      <td>United Kingdom</td>\n",
       "    </tr>\n",
       "    <tr>\n",
       "      <th>414</th>\n",
       "      <td>536404</td>\n",
       "      <td>22296</td>\n",
       "      <td>HEART IVORY TRELLIS LARGE</td>\n",
       "      <td>24</td>\n",
       "      <td>2010-12-01 11:29:00</td>\n",
       "      <td>1.65</td>\n",
       "      <td>16218.0</td>\n",
       "      <td>United Kingdom</td>\n",
       "    </tr>\n",
       "    <tr>\n",
       "      <th>415</th>\n",
       "      <td>536405</td>\n",
       "      <td>20914</td>\n",
       "      <td>SET/5 RED RETROSPOT LID GLASS BOWLS</td>\n",
       "      <td>128</td>\n",
       "      <td>2010-12-01 11:32:00</td>\n",
       "      <td>2.55</td>\n",
       "      <td>14045.0</td>\n",
       "      <td>United Kingdom</td>\n",
       "    </tr>\n",
       "    <tr>\n",
       "      <th>431</th>\n",
       "      <td>536406</td>\n",
       "      <td>22803</td>\n",
       "      <td>IVORY EMBROIDERED QUILT</td>\n",
       "      <td>2</td>\n",
       "      <td>2010-12-01 11:33:00</td>\n",
       "      <td>35.75</td>\n",
       "      <td>17850.0</td>\n",
       "      <td>United Kingdom</td>\n",
       "    </tr>\n",
       "    <tr>\n",
       "      <th>435</th>\n",
       "      <td>536408</td>\n",
       "      <td>22537</td>\n",
       "      <td>MAGIC DRAWING SLATE DINOSAUR</td>\n",
       "      <td>24</td>\n",
       "      <td>2010-12-01 11:41:00</td>\n",
       "      <td>0.42</td>\n",
       "      <td>14307.0</td>\n",
       "      <td>United Kingdom</td>\n",
       "    </tr>\n",
       "  </tbody>\n",
       "</table>\n",
       "<p>100 rows × 8 columns</p>\n",
       "</div>"
      ],
      "text/plain": [
       "    InvoiceNo StockCode                          Description  Quantity  \\\n",
       "9      536367     84879        ASSORTED COLOUR BIRD ORNAMENT        32   \n",
       "26     536370     22728            ALARM CLOCK BAKELIKE PINK        24   \n",
       "27     536370     22727            ALARM CLOCK BAKELIKE RED         24   \n",
       "30     536370     21883                     STARS GIFT TAPE         24   \n",
       "31     536370     10002          INFLATABLE POLITICAL GLOBE         48   \n",
       "..        ...       ...                                  ...       ...   \n",
       "410    536404     21975       PACK OF 60 DINOSAUR CAKE CASES        24   \n",
       "414    536404     22296            HEART IVORY TRELLIS LARGE        24   \n",
       "415    536405     20914  SET/5 RED RETROSPOT LID GLASS BOWLS       128   \n",
       "431    536406     22803             IVORY EMBROIDERED QUILT          2   \n",
       "435    536408     22537         MAGIC DRAWING SLATE DINOSAUR        24   \n",
       "\n",
       "            InvoiceDate  UnitPrice  CustomerID         Country  \n",
       "9   2010-12-01 08:34:00       1.69     13047.0  United Kingdom  \n",
       "26  2010-12-01 08:45:00       3.75     12583.0          France  \n",
       "27  2010-12-01 08:45:00       3.75     12583.0          France  \n",
       "30  2010-12-01 08:45:00       0.65     12583.0          France  \n",
       "31  2010-12-01 08:45:00       0.85     12583.0          France  \n",
       "..                  ...        ...         ...             ...  \n",
       "410 2010-12-01 11:29:00       0.55     16218.0  United Kingdom  \n",
       "414 2010-12-01 11:29:00       1.65     16218.0  United Kingdom  \n",
       "415 2010-12-01 11:32:00       2.55     14045.0  United Kingdom  \n",
       "431 2010-12-01 11:33:00      35.75     17850.0  United Kingdom  \n",
       "435 2010-12-01 11:41:00       0.42     14307.0  United Kingdom  \n",
       "\n",
       "[100 rows x 8 columns]"
      ]
     },
     "execution_count": 47,
     "metadata": {},
     "output_type": "execute_result"
    }
   ],
   "source": [
    "outlierdf.head(100)"
   ]
  },
  {
   "cell_type": "code",
   "execution_count": 48,
   "id": "af0b07dd-8f51-4707-a678-020905a60b31",
   "metadata": {},
   "outputs": [
    {
     "data": {
      "image/png": "[encoded data removed]",
      "text/plain": [
       "<Figure size 640x480 with 1 Axes>"
      ]
     },
     "metadata": {},
     "output_type": "display_data"
    }
   ],
   "source": [
    "sns.boxplot(x='UnitPrice',data= outlierdf)\n",
    "plt.show()"
   ]
  },
  {
   "cell_type": "code",
   "execution_count": 49,
   "id": "ed647ff3-1b4f-4e2b-b0f6-074ceaa9e015",
   "metadata": {},
   "outputs": [],
   "source": [
    "outlierdf= outlierdf[outlierdf['UnitPrice']>=0]"
   ]
  },
  {
   "cell_type": "code",
   "execution_count": 50,
   "id": "3473f23a-85d9-4de8-bab9-1c83ec9ace3f",
   "metadata": {},
   "outputs": [
    {
     "data": {
      "text/plain": [
       "(61984, 8)"
      ]
     },
     "execution_count": 50,
     "metadata": {},
     "output_type": "execute_result"
    }
   ],
   "source": [
    "outlierdf.shape"
   ]
  },
  {
   "cell_type": "code",
   "execution_count": 51,
   "id": "0c250b67-2d08-48df-b7b2-a6dfeb8c7a0c",
   "metadata": {},
   "outputs": [
    {
     "data": {
      "image/png": "[encoded data removed]",
      "text/plain": [
       "<Figure size 640x480 with 1 Axes>"
      ]
     },
     "metadata": {},
     "output_type": "display_data"
    }
   ],
   "source": [
    "sns.boxplot(x='UnitPrice',data= outlierdf)\n",
    "plt.show()"
   ]
  },
  {
   "cell_type": "code",
   "execution_count": 52,
   "id": "504665ce-5b75-4622-9aaa-fb00d47c787b",
   "metadata": {},
   "outputs": [],
   "source": [
    "#now we have two datasets one is for general insifhts 'newdff' and another one is 'outlierdf' for outliers can include seasonalsale,vip customer"
   ]
  },
  {
   "cell_type": "code",
   "execution_count": 53,
   "id": "0a343a25-1148-4593-8093-039bed639026",
   "metadata": {},
   "outputs": [
    {
     "data": {
      "text/html": [
       "<div>\n",
       "<style scoped>\n",
       "    .dataframe tbody tr th:only-of-type {\n",
       "        vertical-align: middle;\n",
       "    }\n",
       "\n",
       "    .dataframe tbody tr th {\n",
       "        vertical-align: top;\n",
       "    }\n",
       "\n",
       "    .dataframe thead th {\n",
       "        text-align: right;\n",
       "    }\n",
       "</style>\n",
       "<table border=\"1\" class=\"dataframe\">\n",
       "  <thead>\n",
       "    <tr style=\"text-align: right;\">\n",
       "      <th></th>\n",
       "      <th>InvoiceNo</th>\n",
       "      <th>StockCode</th>\n",
       "      <th>Description</th>\n",
       "      <th>Quantity</th>\n",
       "      <th>InvoiceDate</th>\n",
       "      <th>UnitPrice</th>\n",
       "      <th>CustomerID</th>\n",
       "      <th>Country</th>\n",
       "    </tr>\n",
       "  </thead>\n",
       "  <tbody>\n",
       "    <tr>\n",
       "      <th>0</th>\n",
       "      <td>536365</td>\n",
       "      <td>85123A</td>\n",
       "      <td>WHITE HANGING HEART T-LIGHT HOLDER</td>\n",
       "      <td>6</td>\n",
       "      <td>2010-12-01 08:26:00</td>\n",
       "      <td>2.55</td>\n",
       "      <td>17850.0</td>\n",
       "      <td>United Kingdom</td>\n",
       "    </tr>\n",
       "    <tr>\n",
       "      <th>1</th>\n",
       "      <td>536365</td>\n",
       "      <td>71053</td>\n",
       "      <td>WHITE METAL LANTERN</td>\n",
       "      <td>6</td>\n",
       "      <td>2010-12-01 08:26:00</td>\n",
       "      <td>3.39</td>\n",
       "      <td>17850.0</td>\n",
       "      <td>United Kingdom</td>\n",
       "    </tr>\n",
       "    <tr>\n",
       "      <th>2</th>\n",
       "      <td>536365</td>\n",
       "      <td>84406B</td>\n",
       "      <td>CREAM CUPID HEARTS COAT HANGER</td>\n",
       "      <td>8</td>\n",
       "      <td>2010-12-01 08:26:00</td>\n",
       "      <td>2.75</td>\n",
       "      <td>17850.0</td>\n",
       "      <td>United Kingdom</td>\n",
       "    </tr>\n",
       "    <tr>\n",
       "      <th>3</th>\n",
       "      <td>536365</td>\n",
       "      <td>84029G</td>\n",
       "      <td>KNITTED UNION FLAG HOT WATER BOTTLE</td>\n",
       "      <td>6</td>\n",
       "      <td>2010-12-01 08:26:00</td>\n",
       "      <td>3.39</td>\n",
       "      <td>17850.0</td>\n",
       "      <td>United Kingdom</td>\n",
       "    </tr>\n",
       "  </tbody>\n",
       "</table>\n",
       "</div>"
      ],
      "text/plain": [
       "  InvoiceNo StockCode                          Description  Quantity  \\\n",
       "0    536365    85123A   WHITE HANGING HEART T-LIGHT HOLDER         6   \n",
       "1    536365     71053                  WHITE METAL LANTERN         6   \n",
       "2    536365    84406B       CREAM CUPID HEARTS COAT HANGER         8   \n",
       "3    536365    84029G  KNITTED UNION FLAG HOT WATER BOTTLE         6   \n",
       "\n",
       "          InvoiceDate  UnitPrice  CustomerID         Country  \n",
       "0 2010-12-01 08:26:00       2.55     17850.0  United Kingdom  \n",
       "1 2010-12-01 08:26:00       3.39     17850.0  United Kingdom  \n",
       "2 2010-12-01 08:26:00       2.75     17850.0  United Kingdom  \n",
       "3 2010-12-01 08:26:00       3.39     17850.0  United Kingdom  "
      ]
     },
     "execution_count": 53,
     "metadata": {},
     "output_type": "execute_result"
    }
   ],
   "source": [
    "newdff.head(4)"
   ]
  },
  {
   "cell_type": "code",
   "execution_count": 54,
   "id": "a8ea6d7c-3822-46aa-9f91-4e36156954b3",
   "metadata": {},
   "outputs": [],
   "source": [
    "df['InvoiceDate'] = pd.to_datetime(df['InvoiceDate'], format= '%d-%m-%Y  %H:%M')\n"
   ]
  },
  {
   "cell_type": "code",
   "execution_count": 55,
   "id": "d6748a80-b19f-4593-8ed5-359bdf2f6216",
   "metadata": {},
   "outputs": [
    {
     "name": "stdout",
     "output_type": "stream",
     "text": [
      "(439135,)\n"
     ]
    }
   ],
   "source": [
    "print(newdff['Country'].shape)"
   ]
  },
  {
   "cell_type": "code",
   "execution_count": 56,
   "id": "2efa4c89-212b-4aa4-b521-7c3e2ab8f0bd",
   "metadata": {},
   "outputs": [
    {
     "data": {
      "text/html": [
       "<div>\n",
       "<style scoped>\n",
       "    .dataframe tbody tr th:only-of-type {\n",
       "        vertical-align: middle;\n",
       "    }\n",
       "\n",
       "    .dataframe tbody tr th {\n",
       "        vertical-align: top;\n",
       "    }\n",
       "\n",
       "    .dataframe thead th {\n",
       "        text-align: right;\n",
       "    }\n",
       "</style>\n",
       "<table border=\"1\" class=\"dataframe\">\n",
       "  <thead>\n",
       "    <tr style=\"text-align: right;\">\n",
       "      <th></th>\n",
       "      <th>InvoiceNo</th>\n",
       "      <th>StockCode</th>\n",
       "      <th>Description</th>\n",
       "      <th>Quantity</th>\n",
       "      <th>InvoiceDate</th>\n",
       "      <th>UnitPrice</th>\n",
       "      <th>CustomerID</th>\n",
       "      <th>Country</th>\n",
       "    </tr>\n",
       "  </thead>\n",
       "  <tbody>\n",
       "    <tr>\n",
       "      <th>0</th>\n",
       "      <td>536365</td>\n",
       "      <td>85123A</td>\n",
       "      <td>WHITE HANGING HEART T-LIGHT HOLDER</td>\n",
       "      <td>6</td>\n",
       "      <td>2010-12-01 08:26:00</td>\n",
       "      <td>2.55</td>\n",
       "      <td>17850.0</td>\n",
       "      <td>United Kingdom</td>\n",
       "    </tr>\n",
       "  </tbody>\n",
       "</table>\n",
       "</div>"
      ],
      "text/plain": [
       "  InvoiceNo StockCode                         Description  Quantity  \\\n",
       "0    536365    85123A  WHITE HANGING HEART T-LIGHT HOLDER         6   \n",
       "\n",
       "          InvoiceDate  UnitPrice  CustomerID         Country  \n",
       "0 2010-12-01 08:26:00       2.55     17850.0  United Kingdom  "
      ]
     },
     "execution_count": 56,
     "metadata": {},
     "output_type": "execute_result"
    }
   ],
   "source": [
    "newdff.head(1)"
   ]
  },
  {
   "cell_type": "code",
   "execution_count": 57,
   "id": "ba2d0fda-b7c4-43c4-ab97-e71731f49f58",
   "metadata": {},
   "outputs": [
    {
     "name": "stdout",
     "output_type": "stream",
     "text": [
      "0\n"
     ]
    }
   ],
   "source": [
    "print(newdff['CustomerID'].isnull().sum())"
   ]
  },
  {
   "cell_type": "code",
   "execution_count": 58,
   "id": "4c3cd7e0-9275-44b5-9877-72672781bf40",
   "metadata": {},
   "outputs": [
    {
     "name": "stdout",
     "output_type": "stream",
     "text": [
      "0\n"
     ]
    }
   ],
   "source": [
    "print(newdff['InvoiceNo'].isnull().sum())"
   ]
  },
  {
   "cell_type": "code",
   "execution_count": 59,
   "id": "e9c6cdba-c1e7-45f0-94c5-652d82987fc1",
   "metadata": {},
   "outputs": [],
   "source": [
    "# Reset the index if needed\n",
    "newdff.reset_index(drop=True, inplace=True)\n"
   ]
  },
  {
   "cell_type": "code",
   "execution_count": 60,
   "id": "e03c3a8c-ccd6-4c5d-926a-b97d550c4d74",
   "metadata": {},
   "outputs": [],
   "source": [
    "identified_cust= newdff[newdff['CustomerID']>-1]"
   ]
  },
  {
   "cell_type": "code",
   "execution_count": 61,
   "id": "b2d906af-6a40-4b4a-bce0-b0cce5f0ffb3",
   "metadata": {},
   "outputs": [],
   "source": [
    "uniden=newdff[newdff['CustomerID']==-1]"
   ]
  },
  {
   "cell_type": "code",
   "execution_count": 62,
   "id": "5d206c42-e0e6-423c-9700-59765c0288c4",
   "metadata": {},
   "outputs": [
    {
     "data": {
      "text/plain": [
       "1116     -1.0\n",
       "1117     -1.0\n",
       "1118     -1.0\n",
       "1119     -1.0\n",
       "1120     -1.0\n",
       "         ... \n",
       "438851   -1.0\n",
       "438852   -1.0\n",
       "438853   -1.0\n",
       "438854   -1.0\n",
       "438855   -1.0\n",
       "Name: CustomerID, Length: 116575, dtype: float64"
      ]
     },
     "execution_count": 62,
     "metadata": {},
     "output_type": "execute_result"
    }
   ],
   "source": [
    "uniden['CustomerID']"
   ]
  },
  {
   "cell_type": "code",
   "execution_count": 63,
   "id": "b72b2d2f-2750-443c-b981-5d9a9ccfa7db",
   "metadata": {},
   "outputs": [
    {
     "data": {
      "text/plain": [
       "np.int64(322560)"
      ]
     },
     "execution_count": 63,
     "metadata": {},
     "output_type": "execute_result"
    }
   ],
   "source": [
    "identified_cust['CustomerID'].count()"
   ]
  },
  {
   "cell_type": "code",
   "execution_count": 64,
   "id": "f3ef48f2-719d-4389-b73c-e30efb972bbd",
   "metadata": {},
   "outputs": [
    {
     "name": "stdout",
     "output_type": "stream",
     "text": [
      "<class 'pandas.core.frame.DataFrame'>\n",
      "Index: 322560 entries, 0 to 439134\n",
      "Data columns (total 8 columns):\n",
      " #   Column       Non-Null Count   Dtype         \n",
      "---  ------       --------------   -----         \n",
      " 0   InvoiceNo    322560 non-null  object        \n",
      " 1   StockCode    322560 non-null  object        \n",
      " 2   Description  322560 non-null  object        \n",
      " 3   Quantity     322560 non-null  int64         \n",
      " 4   InvoiceDate  322560 non-null  datetime64[ns]\n",
      " 5   UnitPrice    322560 non-null  float64       \n",
      " 6   CustomerID   322560 non-null  float64       \n",
      " 7   Country      322560 non-null  object        \n",
      "dtypes: datetime64[ns](1), float64(2), int64(1), object(4)\n",
      "memory usage: 22.1+ MB\n"
     ]
    }
   ],
   "source": [
    "identified_cust.info()"
   ]
  },
  {
   "cell_type": "code",
   "execution_count": 65,
   "id": "9cc3b46f-e9a2-4e5c-bbf5-9f7b85930602",
   "metadata": {},
   "outputs": [
    {
     "name": "stdout",
     "output_type": "stream",
     "text": [
      "<class 'pandas.core.frame.DataFrame'>\n",
      "RangeIndex: 439135 entries, 0 to 439134\n",
      "Data columns (total 8 columns):\n",
      " #   Column       Non-Null Count   Dtype         \n",
      "---  ------       --------------   -----         \n",
      " 0   InvoiceNo    439135 non-null  object        \n",
      " 1   StockCode    439135 non-null  object        \n",
      " 2   Description  439135 non-null  object        \n",
      " 3   Quantity     439135 non-null  int64         \n",
      " 4   InvoiceDate  439135 non-null  datetime64[ns]\n",
      " 5   UnitPrice    439135 non-null  float64       \n",
      " 6   CustomerID   439135 non-null  float64       \n",
      " 7   Country      439135 non-null  object        \n",
      "dtypes: datetime64[ns](1), float64(2), int64(1), object(4)\n",
      "memory usage: 26.8+ MB\n"
     ]
    }
   ],
   "source": [
    "newdff.info()"
   ]
  },
  {
   "cell_type": "code",
   "execution_count": 75,
   "id": "13c79df8-19c9-49a0-82e3-b74b2af148fd",
   "metadata": {},
   "outputs": [
    {
     "name": "stdout",
     "output_type": "stream",
     "text": [
      "CustomerID\n",
      "-1.0        838188.95\n",
      " 12347.0      2866.77\n",
      " 12348.0        17.00\n",
      " 12349.0      1155.75\n",
      " 12350.0       274.00\n",
      "              ...    \n",
      " 18280.0       160.70\n",
      " 18281.0        46.92\n",
      " 18282.0       111.68\n",
      " 18283.0      2002.63\n",
      " 18287.0       571.48\n",
      "Name: Total_spending, Length: 4200, dtype: float64\n"
     ]
    },
    {
     "name": "stderr",
     "output_type": "stream",
     "text": [
      "C:\\Users\\admin\\AppData\\Local\\Temp\\ipykernel_12420\\308204589.py:1: SettingWithCopyWarning: \n",
      "A value is trying to be set on a copy of a slice from a DataFrame.\n",
      "Try using .loc[row_indexer,col_indexer] = value instead\n",
      "\n",
      "See the caveats in the documentation: https://pandas.pydata.org/pandas-docs/stable/user_guide/indexing.html#returning-a-view-versus-a-copy\n",
      "  newdff['Total_spending']=newdff['Quantity'] * newdff['UnitPrice']\n"
     ]
    }
   ],
   "source": [
    "newdff['Total_spending']=newdff['Quantity'] * newdff['UnitPrice']\n",
    "customer_spending= newdff.groupby('CustomerID')['Total_spending'].sum()\n",
    "print(customer_spending)"
   ]
  },
  {
   "cell_type": "code",
   "execution_count": 208,
   "id": "44f312ed-2133-4656-8f26-be9a89881744",
   "metadata": {},
   "outputs": [
    {
     "data": {
      "text/html": [
       "<div>\n",
       "<style scoped>\n",
       "    .dataframe tbody tr th:only-of-type {\n",
       "        vertical-align: middle;\n",
       "    }\n",
       "\n",
       "    .dataframe tbody tr th {\n",
       "        vertical-align: top;\n",
       "    }\n",
       "\n",
       "    .dataframe thead th {\n",
       "        text-align: right;\n",
       "    }\n",
       "</style>\n",
       "<table border=\"1\" class=\"dataframe\">\n",
       "  <thead>\n",
       "    <tr style=\"text-align: right;\">\n",
       "      <th></th>\n",
       "      <th>total_order_value</th>\n",
       "      <th>total_orders</th>\n",
       "    </tr>\n",
       "    <tr>\n",
       "      <th>CustomerID</th>\n",
       "      <th></th>\n",
       "      <th></th>\n",
       "    </tr>\n",
       "  </thead>\n",
       "  <tbody>\n",
       "    <tr>\n",
       "      <th>-1.0</th>\n",
       "      <td>838188.95</td>\n",
       "      <td>2341</td>\n",
       "    </tr>\n",
       "  </tbody>\n",
       "</table>\n",
       "</div>"
      ],
      "text/plain": [
       "            total_order_value  total_orders\n",
       "CustomerID                                 \n",
       "-1.0                838188.95          2341"
      ]
     },
     "execution_count": 208,
     "metadata": {},
     "output_type": "execute_result"
    }
   ],
   "source": [
    "customer_order_da=  newdff.groupby('CustomerID').agg(\n",
    "    total_order_value=('Total_spending', 'sum'),\n",
    "    total_orders=('InvoiceNo', 'nunique')\n",
    ")\n",
    "customer_order_da.head(1)"
   ]
  },
  {
   "cell_type": "code",
   "execution_count": 210,
   "id": "39113298-5af9-44e3-8118-bb2f939e9385",
   "metadata": {},
   "outputs": [],
   "source": [
    "regular_customer= customer_order_da[customer_order_da['total_orders'] > 1]\n"
   ]
  },
  {
   "cell_type": "code",
   "execution_count": 214,
   "id": "cc2e22d1-0935-4133-87dc-fe965b85b563",
   "metadata": {},
   "outputs": [
    {
     "data": {
      "text/html": [
       "<div>\n",
       "<style scoped>\n",
       "    .dataframe tbody tr th:only-of-type {\n",
       "        vertical-align: middle;\n",
       "    }\n",
       "\n",
       "    .dataframe tbody tr th {\n",
       "        vertical-align: top;\n",
       "    }\n",
       "\n",
       "    .dataframe thead th {\n",
       "        text-align: right;\n",
       "    }\n",
       "</style>\n",
       "<table border=\"1\" class=\"dataframe\">\n",
       "  <thead>\n",
       "    <tr style=\"text-align: right;\">\n",
       "      <th></th>\n",
       "      <th>total_order_value</th>\n",
       "      <th>total_orders</th>\n",
       "    </tr>\n",
       "    <tr>\n",
       "      <th>CustomerID</th>\n",
       "      <th></th>\n",
       "      <th></th>\n",
       "    </tr>\n",
       "  </thead>\n",
       "  <tbody>\n",
       "    <tr>\n",
       "      <th>-1.0</th>\n",
       "      <td>838188.95</td>\n",
       "      <td>2341</td>\n",
       "    </tr>\n",
       "  </tbody>\n",
       "</table>\n",
       "</div>"
      ],
      "text/plain": [
       "            total_order_value  total_orders\n",
       "CustomerID                                 \n",
       "-1.0                838188.95          2341"
      ]
     },
     "execution_count": 214,
     "metadata": {},
     "output_type": "execute_result"
    }
   ],
   "source": [
    "regular_customer.head(1) "
   ]
  },
  {
   "cell_type": "code",
   "execution_count": 283,
   "id": "d4f544bd-5337-4af6-a3e4-413e5b053c8e",
   "metadata": {},
   "outputs": [
    {
     "data": {
      "text/html": [
       "<div>\n",
       "<style scoped>\n",
       "    .dataframe tbody tr th:only-of-type {\n",
       "        vertical-align: middle;\n",
       "    }\n",
       "\n",
       "    .dataframe tbody tr th {\n",
       "        vertical-align: top;\n",
       "    }\n",
       "\n",
       "    .dataframe thead th {\n",
       "        text-align: right;\n",
       "    }\n",
       "</style>\n",
       "<table border=\"1\" class=\"dataframe\">\n",
       "  <thead>\n",
       "    <tr style=\"text-align: right;\">\n",
       "      <th></th>\n",
       "      <th>CustomerID</th>\n",
       "      <th>total_order_value</th>\n",
       "      <th>total_orders</th>\n",
       "    </tr>\n",
       "  </thead>\n",
       "  <tbody>\n",
       "    <tr>\n",
       "      <th>0</th>\n",
       "      <td>-1.0</td>\n",
       "      <td>838188.95</td>\n",
       "      <td>2341</td>\n",
       "    </tr>\n",
       "    <tr>\n",
       "      <th>1</th>\n",
       "      <td>12347.0</td>\n",
       "      <td>2866.77</td>\n",
       "      <td>7</td>\n",
       "    </tr>\n",
       "    <tr>\n",
       "      <th>2</th>\n",
       "      <td>12352.0</td>\n",
       "      <td>1027.11</td>\n",
       "      <td>8</td>\n",
       "    </tr>\n",
       "    <tr>\n",
       "      <th>3</th>\n",
       "      <td>12356.0</td>\n",
       "      <td>444.56</td>\n",
       "      <td>2</td>\n",
       "    </tr>\n",
       "    <tr>\n",
       "      <th>4</th>\n",
       "      <td>12358.0</td>\n",
       "      <td>456.36</td>\n",
       "      <td>2</td>\n",
       "    </tr>\n",
       "  </tbody>\n",
       "</table>\n",
       "</div>"
      ],
      "text/plain": [
       "   CustomerID  total_order_value  total_orders\n",
       "0        -1.0          838188.95          2341\n",
       "1     12347.0            2866.77             7\n",
       "2     12352.0            1027.11             8\n",
       "3     12356.0             444.56             2\n",
       "4     12358.0             456.36             2"
      ]
     },
     "execution_count": 283,
     "metadata": {},
     "output_type": "execute_result"
    }
   ],
   "source": [
    "regular_cust_df= regular_customer.reset_index()\n",
    "regular_cust_df.head()"
   ]
  },
  {
   "cell_type": "code",
   "execution_count": 285,
   "id": "112bc0fa-4907-4c21-b42f-99e19951eab5",
   "metadata": {},
   "outputs": [
    {
     "data": {
      "image/png": "[encoded data removed]",
      "text/plain": [
       "<Figure size 800x500 with 1 Axes>"
      ]
     },
     "metadata": {},
     "output_type": "display_data"
    }
   ],
   "source": [
    "\n",
    "# Step 1: Calculate total orders for each customer group\n",
    "regular_total_orders = regular_cust_df['total_orders'].sum()\n",
    "new_total_orders = new_cust['total_orders'].sum()\n",
    "\n",
    "# Step 2: Create a DataFrame for visualization\n",
    "order_data = {\n",
    "    'Customer Type': ['Regular Customers', 'New Customers'],\n",
    "    'Total Orders': [regular_total_orders, new_total_orders]\n",
    "}\n",
    "order_df = pd.DataFrame(order_data)\n",
    "\n",
    "# Step 3: Plotting the bar chart\n",
    "plt.figure(figsize=(8, 5))\n",
    "plt.bar(order_df['Customer Type'], order_df['Total Orders'], color=['#4caf50', '#2196f3'])\n",
    "plt.xlabel('Customer Type')\n",
    "plt.ylabel('Total Orders')\n",
    "plt.title('Comparison of Total Orders: Regular vs. New Customers')\n",
    "plt.xticks(rotation=0)\n",
    "plt.grid(axis='y', linestyle='--', alpha=0.7)\n",
    "plt.show()\n"
   ]
  },
  {
   "cell_type": "code",
   "execution_count": 212,
   "id": "fcfd32b2-9041-43c5-b9ed-2a40e5725bf5",
   "metadata": {},
   "outputs": [],
   "source": [
    "new_cust=customer_order_da[customer_order_da['total_orders'] == 1] "
   ]
  },
  {
   "cell_type": "code",
   "execution_count": 213,
   "id": "b9008db0-a537-42d4-a2c0-21fd08d0ed37",
   "metadata": {},
   "outputs": [
    {
     "data": {
      "text/html": [
       "<div>\n",
       "<style scoped>\n",
       "    .dataframe tbody tr th:only-of-type {\n",
       "        vertical-align: middle;\n",
       "    }\n",
       "\n",
       "    .dataframe tbody tr th {\n",
       "        vertical-align: top;\n",
       "    }\n",
       "\n",
       "    .dataframe thead th {\n",
       "        text-align: right;\n",
       "    }\n",
       "</style>\n",
       "<table border=\"1\" class=\"dataframe\">\n",
       "  <thead>\n",
       "    <tr style=\"text-align: right;\">\n",
       "      <th></th>\n",
       "      <th>total_order_value</th>\n",
       "      <th>total_orders</th>\n",
       "    </tr>\n",
       "    <tr>\n",
       "      <th>CustomerID</th>\n",
       "      <th></th>\n",
       "      <th></th>\n",
       "    </tr>\n",
       "  </thead>\n",
       "  <tbody>\n",
       "    <tr>\n",
       "      <th>12348.0</th>\n",
       "      <td>17.00</td>\n",
       "      <td>1</td>\n",
       "    </tr>\n",
       "    <tr>\n",
       "      <th>12349.0</th>\n",
       "      <td>1155.75</td>\n",
       "      <td>1</td>\n",
       "    </tr>\n",
       "    <tr>\n",
       "      <th>12350.0</th>\n",
       "      <td>274.00</td>\n",
       "      <td>1</td>\n",
       "    </tr>\n",
       "    <tr>\n",
       "      <th>12353.0</th>\n",
       "      <td>29.30</td>\n",
       "      <td>1</td>\n",
       "    </tr>\n",
       "    <tr>\n",
       "      <th>12354.0</th>\n",
       "      <td>651.55</td>\n",
       "      <td>1</td>\n",
       "    </tr>\n",
       "    <tr>\n",
       "      <th>...</th>\n",
       "      <td>...</td>\n",
       "      <td>...</td>\n",
       "    </tr>\n",
       "    <tr>\n",
       "      <th>18262.0</th>\n",
       "      <td>117.32</td>\n",
       "      <td>1</td>\n",
       "    </tr>\n",
       "    <tr>\n",
       "      <th>18277.0</th>\n",
       "      <td>103.42</td>\n",
       "      <td>1</td>\n",
       "    </tr>\n",
       "    <tr>\n",
       "      <th>18278.0</th>\n",
       "      <td>173.90</td>\n",
       "      <td>1</td>\n",
       "    </tr>\n",
       "    <tr>\n",
       "      <th>18280.0</th>\n",
       "      <td>160.70</td>\n",
       "      <td>1</td>\n",
       "    </tr>\n",
       "    <tr>\n",
       "      <th>18281.0</th>\n",
       "      <td>46.92</td>\n",
       "      <td>1</td>\n",
       "    </tr>\n",
       "  </tbody>\n",
       "</table>\n",
       "<p>1337 rows × 2 columns</p>\n",
       "</div>"
      ],
      "text/plain": [
       "            total_order_value  total_orders\n",
       "CustomerID                                 \n",
       "12348.0                 17.00             1\n",
       "12349.0               1155.75             1\n",
       "12350.0                274.00             1\n",
       "12353.0                 29.30             1\n",
       "12354.0                651.55             1\n",
       "...                       ...           ...\n",
       "18262.0                117.32             1\n",
       "18277.0                103.42             1\n",
       "18278.0                173.90             1\n",
       "18280.0                160.70             1\n",
       "18281.0                 46.92             1\n",
       "\n",
       "[1337 rows x 2 columns]"
      ]
     },
     "execution_count": 213,
     "metadata": {},
     "output_type": "execute_result"
    }
   ],
   "source": [
    "new_cust"
   ]
  },
  {
   "cell_type": "code",
   "execution_count": 117,
   "id": "342ebcc0-9b94-45f4-987c-3808741b9b4b",
   "metadata": {},
   "outputs": [
    {
     "name": "stdout",
     "output_type": "stream",
     "text": [
      "Total_spending\n",
      "Medium       1822\n",
      "Very High    1051\n",
      "High          808\n",
      "Low           474\n",
      "Name: count, dtype: int64\n"
     ]
    }
   ],
   "source": [
    "customer_segments=pd.cut(customer_spending, bins=[0,100,500,1000,float('inf')],labels=['Low','Medium','High','Very High'])\n",
    "print(customer_segments.value_counts())"
   ]
  },
  {
   "cell_type": "code",
   "execution_count": null,
   "id": "7e29500a-4475-4378-9180-e8440c62cce4",
   "metadata": {},
   "outputs": [],
   "source": [
    "# percentage of cust for each segments medium 43%,very high 25%, high 19%,low 11%"
   ]
  },
  {
   "cell_type": "code",
   "execution_count": 294,
   "id": "32d048fb-bb0b-4240-930c-5ccd3308d57e",
   "metadata": {},
   "outputs": [
    {
     "data": {
      "image/png": "[encoded data removed]",
      "text/plain": [
       "<Figure size 400x400 with 1 Axes>"
      ]
     },
     "metadata": {},
     "output_type": "display_data"
    }
   ],
   "source": [
    "# Count the number of customers in each segment\n",
    "segment_counts = customer_segments.value_counts()\n",
    "\n",
    "# Convert counts to percentages\n",
    "segment_percentages = (segment_counts / segment_counts.sum()) * 100\n",
    "\n",
    "# Plotting\n",
    "plt.figure(figsize=(4, 4))\n",
    "plt.pie(segment_percentages, labels=segment_percentages.index, autopct='%1.1f%%', startangle=140, colors=sns.color_palette(\"viridis\", len(segment_percentages)))\n",
    "\n",
    "# Draw a white circle at the center to create the donut shape\n",
    "center_circle = plt.Circle((0, 0), 0.70, color='white')\n",
    "plt.gca().add_artist(center_circle)\n",
    "\n",
    "# Set title\n",
    "plt.title('Percentage of Customers by Spending Segment')\n",
    "\n",
    "# Display\n",
    "plt.show()\n",
    "\n"
   ]
  },
  {
   "cell_type": "code",
   "execution_count": 292,
   "id": "d6063128-8871-4427-abc5-f2ffe375d990",
   "metadata": {},
   "outputs": [
    {
     "name": "stderr",
     "output_type": "stream",
     "text": [
      "C:\\Users\\admin\\AppData\\Local\\Temp\\ipykernel_12420\\3497106679.py:2: FutureWarning: The default of observed=False is deprecated and will be changed to True in a future version of pandas. Pass observed=False to retain current behavior or observed=True to adopt the future default and silence this warning.\n",
      "  customer_spending_segmented = customer_spending.groupby(customer_segments).sum()\n"
     ]
    },
    {
     "data": {
      "image/png": "[encoded data removed]",
      "text/plain": [
       "<Figure size 400x400 with 1 Axes>"
      ]
     },
     "metadata": {},
     "output_type": "display_data"
    }
   ],
   "source": [
    "# Calculate revenue by segment\n",
    "customer_spending_segmented = customer_spending.groupby(customer_segments).sum()\n",
    "\n",
    "# Convert revenue values to percentages\n",
    "revenue_percentages = (customer_spending_segmented / customer_spending_segmented.sum()) * 100\n",
    "\n",
    "# Plotting the donut chart\n",
    "plt.figure(figsize=(4, 4))\n",
    "plt.pie(revenue_percentages, labels=revenue_percentages.index, autopct='%1.1f%%', startangle=140, colors=sns.color_palette('coolwarm', len(revenue_percentages)))\n",
    "\n",
    "# Draw a white circle at the center to create the donut effect\n",
    "center_circle = plt.Circle((0, 0), 0.70, color='white')\n",
    "plt.gca().add_artist(center_circle)\n",
    "\n",
    "# Set the title\n",
    "plt.title('Percentage of Total Revenue by Customer Segment')\n",
    "plt.show()"
   ]
  },
  {
   "cell_type": "code",
   "execution_count": 77,
   "id": "cbdbe006-04d3-4abd-9730-62aa3cf19de0",
   "metadata": {},
   "outputs": [],
   "source": [
    "# Group by month or year and calculate total sales\n",
    "#newdff['MonthYear'] = newdff['InvoiceDate'].dt.to_period('M')''' .dt is a special accessor in Pandas for datetime-like properties.\n",
    "#It allows you to extract various components like the year, month, day, hour, and so on.\n",
    "#.dt.to_period('M'):\n",
    "\n",
    "#The to_period('M') function converts the datetime values into a period.\n",
    "#By passing 'M', you are specifically telling Pandas to convert the dates into monthly periods. So, it converts each date to just year and month. '''\n",
    "#monthly_sales = newdff.groupby('MonthYear')['Total_Spending'].sum()\n",
    "#print(monthly_sales). # this is for explanation dont run this script(warning)"
   ]
  },
  {
   "cell_type": "code",
   "execution_count": 78,
   "id": "fb11aa9b-d3b3-4c7c-a17d-3926e96ec333",
   "metadata": {},
   "outputs": [
    {
     "name": "stderr",
     "output_type": "stream",
     "text": [
      "C:\\Users\\admin\\AppData\\Local\\Temp\\ipykernel_12420\\1628629920.py:1: SettingWithCopyWarning: \n",
      "A value is trying to be set on a copy of a slice from a DataFrame.\n",
      "Try using .loc[row_indexer,col_indexer] = value instead\n",
      "\n",
      "See the caveats in the documentation: https://pandas.pydata.org/pandas-docs/stable/user_guide/indexing.html#returning-a-view-versus-a-copy\n",
      "  newdff['monthyear']= newdff['InvoiceDate'].dt.to_period('M')\n"
     ]
    }
   ],
   "source": [
    "newdff['monthyear']= newdff['InvoiceDate'].dt.to_period('M')"
   ]
  },
  {
   "cell_type": "code",
   "execution_count": 79,
   "id": "09d7e64e-4131-4c19-a38a-6f040155a6d3",
   "metadata": {},
   "outputs": [
    {
     "data": {
      "text/plain": [
       "period[M]"
      ]
     },
     "execution_count": 79,
     "metadata": {},
     "output_type": "execute_result"
    }
   ],
   "source": [
    "newdff['monthyear'].dtype"
   ]
  },
  {
   "cell_type": "code",
   "execution_count": 80,
   "id": "551ad86c-0909-4d3f-bf52-78ab7bd0254d",
   "metadata": {},
   "outputs": [],
   "source": [
    "monthly_sales=  newdff.groupby('monthyear')['Total_spending'].sum()"
   ]
  },
  {
   "cell_type": "code",
   "execution_count": 81,
   "id": "42188c63-e386-4080-a504-957b4c9ee23b",
   "metadata": {},
   "outputs": [
    {
     "name": "stdout",
     "output_type": "stream",
     "text": [
      "monthyear\n",
      "2010-12    339813.740\n",
      "2011-01    278049.740\n",
      "2011-02    239189.210\n",
      "2011-03    311367.920\n",
      "2011-04    251771.221\n",
      "2011-05    349407.510\n",
      "2011-06    312682.920\n",
      "2011-07    320420.671\n",
      "2011-08    323714.060\n",
      "2011-09    470042.982\n",
      "2011-10    529987.160\n",
      "2011-11    693366.340\n",
      "2011-12    210863.330\n",
      "Freq: M, Name: Total_spending, dtype: float64\n"
     ]
    }
   ],
   "source": [
    "print(monthly_sales)"
   ]
  },
  {
   "cell_type": "code",
   "execution_count": 83,
   "id": "6fbe421d-dc5b-40f8-b2b2-39ce6d985548",
   "metadata": {},
   "outputs": [
    {
     "data": {
      "image/png": "[encoded data removed]",
      "text/plain": [
       "<Figure size 1000x600 with 1 Axes>"
      ]
     },
     "metadata": {},
     "output_type": "display_data"
    }
   ],
   "source": [
    "plt.figure(figsize=(10, 6))\n",
    "\n",
    "# Plot the line for monthly sales\n",
    "plt.plot(monthly_sales.index.astype(str), monthly_sales.values, marker='o', color='b', label='Total Sales')\n",
    "\n",
    "# Add title and labels\n",
    "plt.title('Total Monthly Sales Trend', fontsize=16)\n",
    "plt.xlabel('Month-Year', fontsize=12)\n",
    "plt.ylabel('Total Spending', fontsize=12)\n",
    "\n",
    "# Rotate x-axis labels for better readability\n",
    "plt.xticks(rotation=45)\n",
    "\n",
    "# Add grid for better readability\n",
    "plt.grid(True)\n",
    "\n",
    "# Add a legend\n",
    "plt.legend()\n",
    "\n",
    "# Display the plot\n",
    "plt.tight_layout()\n",
    "plt.show()"
   ]
  },
  {
   "cell_type": "code",
   "execution_count": 84,
   "id": "234d671a-35bb-4797-9426-b18874dd89df",
   "metadata": {},
   "outputs": [
    {
     "name": "stderr",
     "output_type": "stream",
     "text": [
      "C:\\Users\\admin\\AppData\\Local\\Temp\\ipykernel_12420\\3180027421.py:1: SettingWithCopyWarning: \n",
      "A value is trying to be set on a copy of a slice from a DataFrame.\n",
      "Try using .loc[row_indexer,col_indexer] = value instead\n",
      "\n",
      "See the caveats in the documentation: https://pandas.pydata.org/pandas-docs/stable/user_guide/indexing.html#returning-a-view-versus-a-copy\n",
      "  newdff['yearly']= newdff['InvoiceDate'].dt.to_period('Y')\n"
     ]
    }
   ],
   "source": [
    "newdff['yearly']= newdff['InvoiceDate'].dt.to_period('Y')\n"
   ]
  },
  {
   "cell_type": "code",
   "execution_count": 85,
   "id": "abde1be5-fce4-4aa7-bce3-15ccc35bc908",
   "metadata": {},
   "outputs": [],
   "source": [
    "Yearly_sales= newdff.groupby('yearly')['Total_spending'].sum()"
   ]
  },
  {
   "cell_type": "code",
   "execution_count": 86,
   "id": "ba373c9b-179d-44be-9884-87cb092f96a3",
   "metadata": {},
   "outputs": [
    {
     "name": "stdout",
     "output_type": "stream",
     "text": [
      "yearly\n",
      "2010     339813.740\n",
      "2011    4290863.064\n",
      "Freq: Y-DEC, Name: Total_spending, dtype: float64\n"
     ]
    }
   ],
   "source": [
    "print(Yearly_sales)"
   ]
  },
  {
   "cell_type": "code",
   "execution_count": 87,
   "id": "08a0dbeb-d2a8-4c8c-bf6e-60c72117b480",
   "metadata": {},
   "outputs": [
    {
     "data": {
      "text/html": [
       "<div>\n",
       "<style scoped>\n",
       "    .dataframe tbody tr th:only-of-type {\n",
       "        vertical-align: middle;\n",
       "    }\n",
       "\n",
       "    .dataframe tbody tr th {\n",
       "        vertical-align: top;\n",
       "    }\n",
       "\n",
       "    .dataframe thead th {\n",
       "        text-align: right;\n",
       "    }\n",
       "</style>\n",
       "<table border=\"1\" class=\"dataframe\">\n",
       "  <thead>\n",
       "    <tr style=\"text-align: right;\">\n",
       "      <th></th>\n",
       "      <th>InvoiceNo</th>\n",
       "      <th>StockCode</th>\n",
       "      <th>Description</th>\n",
       "      <th>Quantity</th>\n",
       "      <th>InvoiceDate</th>\n",
       "      <th>UnitPrice</th>\n",
       "      <th>CustomerID</th>\n",
       "      <th>Country</th>\n",
       "      <th>Total_spending</th>\n",
       "      <th>monthyear</th>\n",
       "      <th>yearly</th>\n",
       "    </tr>\n",
       "  </thead>\n",
       "  <tbody>\n",
       "    <tr>\n",
       "      <th>0</th>\n",
       "      <td>536365</td>\n",
       "      <td>85123A</td>\n",
       "      <td>WHITE HANGING HEART T-LIGHT HOLDER</td>\n",
       "      <td>6</td>\n",
       "      <td>2010-12-01 08:26:00</td>\n",
       "      <td>2.55</td>\n",
       "      <td>17850.0</td>\n",
       "      <td>United Kingdom</td>\n",
       "      <td>15.30</td>\n",
       "      <td>2010-12</td>\n",
       "      <td>2010</td>\n",
       "    </tr>\n",
       "    <tr>\n",
       "      <th>1</th>\n",
       "      <td>536365</td>\n",
       "      <td>71053</td>\n",
       "      <td>WHITE METAL LANTERN</td>\n",
       "      <td>6</td>\n",
       "      <td>2010-12-01 08:26:00</td>\n",
       "      <td>3.39</td>\n",
       "      <td>17850.0</td>\n",
       "      <td>United Kingdom</td>\n",
       "      <td>20.34</td>\n",
       "      <td>2010-12</td>\n",
       "      <td>2010</td>\n",
       "    </tr>\n",
       "  </tbody>\n",
       "</table>\n",
       "</div>"
      ],
      "text/plain": [
       "  InvoiceNo StockCode                         Description  Quantity  \\\n",
       "0    536365    85123A  WHITE HANGING HEART T-LIGHT HOLDER         6   \n",
       "1    536365     71053                 WHITE METAL LANTERN         6   \n",
       "\n",
       "          InvoiceDate  UnitPrice  CustomerID         Country  Total_spending  \\\n",
       "0 2010-12-01 08:26:00       2.55     17850.0  United Kingdom           15.30   \n",
       "1 2010-12-01 08:26:00       3.39     17850.0  United Kingdom           20.34   \n",
       "\n",
       "  monthyear yearly  \n",
       "0   2010-12   2010  \n",
       "1   2010-12   2010  "
      ]
     },
     "execution_count": 87,
     "metadata": {},
     "output_type": "execute_result"
    }
   ],
   "source": [
    "newdff.head(2)"
   ]
  },
  {
   "cell_type": "code",
   "execution_count": 90,
   "id": "24312f89-65e8-4106-9387-85428af8a1d2",
   "metadata": {},
   "outputs": [
    {
     "data": {
      "image/png": "[encoded data removed]",
      "text/plain": [
       "<Figure size 1000x600 with 1 Axes>"
      ]
     },
     "metadata": {},
     "output_type": "display_data"
    }
   ],
   "source": [
    "\n",
    "\n",
    "# Assuming 'top_selling_products' is your DataFrame\n",
    "top_selling_products = newdff.groupby('StockCode')['Quantity'].sum().sort_values(ascending=False).reset_index()\n",
    "\n",
    "# Get the top 10 selling products\n",
    "top_10 = top_selling_products.head(10)\n",
    "\n",
    "# Create a bar plot for the top 10 selling products\n",
    "plt.figure(figsize=(10, 6))\n",
    "plt.bar(top_10['StockCode'], top_10['Quantity'], color='skyblue')\n",
    "\n",
    "# Add labels and title\n",
    "plt.xlabel('Product (StockCode)')\n",
    "plt.ylabel('Total Quantity Sold')\n",
    "plt.title('Top 10 Selling Products')\n",
    "plt.xticks(rotation=45, ha=\"right\")  # Rotate x-axis labels for better readability\n",
    "\n",
    "# Show the plot\n",
    "plt.tight_layout()\n",
    "plt.show()\n"
   ]
  },
  {
   "cell_type": "code",
   "execution_count": 91,
   "id": "ade964a7-8928-4170-a0c6-41334fb5924c",
   "metadata": {},
   "outputs": [
    {
     "name": "stdout",
     "output_type": "stream",
     "text": [
      "     yearly StockCode  Quantity\n",
      "2221   2010    85123A      1078\n",
      "1567   2010     22961       916\n",
      "847    2010     22086       904\n",
      "1166   2010     22469       835\n",
      "1524   2010     22910       751\n",
      "...     ...       ...       ...\n",
      "5521   2011    84750A       -13\n",
      "5703   2011    85017A       -13\n",
      "5593   2011    84872A       -15\n",
      "6280   2011         S       -16\n",
      "3030   2011     21361       -17\n",
      "\n",
      "[6283 rows x 3 columns]\n"
     ]
    }
   ],
   "source": [
    "# Assuming 'StockCode' represents the product category\n",
    "category_sales = newdff.groupby(['yearly', 'StockCode'])['Quantity'].sum().reset_index()\n",
    "\n",
    "# Sort to find the product category with the most sales for each year\n",
    "category_sales_sorted = category_sales.sort_values(by=['yearly', 'Quantity'], ascending=[True, False])\n",
    "\n",
    "print(category_sales_sorted) \n"
   ]
  },
  {
   "cell_type": "code",
   "execution_count": 92,
   "id": "1ce1a021-1fba-4695-9bfc-7c5292cb5ae1",
   "metadata": {},
   "outputs": [
    {
     "name": "stdout",
     "output_type": "stream",
     "text": [
      "Country\n",
      "United Kingdom          4084425.704\n",
      "Germany                  120057.780\n",
      "France                   105150.310\n",
      "EIRE                      99910.620\n",
      "Spain                     26390.270\n",
      "Switzerland               25580.510\n",
      "Belgium                   25337.810\n",
      "Portugal                  18753.560\n",
      "Norway                    14055.200\n",
      "Netherlands               11711.420\n",
      "Italy                     11479.180\n",
      "Channel Islands           10636.330\n",
      "Australia                 10120.370\n",
      "Finland                    9428.750\n",
      "Cyprus                     7002.980\n",
      "Austria                    5767.190\n",
      "Denmark                    5267.400\n",
      "Singapore                  4261.080\n",
      "Poland                     4182.920\n",
      "Sweden                     4051.130\n",
      "Hong Kong                  3925.890\n",
      "Israel                     3433.440\n",
      "Unspecified                3355.140\n",
      "Greece                     2878.510\n",
      "Iceland                    2866.770\n",
      "Canada                     1670.600\n",
      "Malta                      1325.880\n",
      "United Arab Emirates       1061.980\n",
      "Lithuania                  1027.100\n",
      "Lebanon                     971.480\n",
      "USA                         960.050\n",
      "European Community          911.450\n",
      "Japan                       854.930\n",
      "RSA                         783.860\n",
      "Brazil                      523.440\n",
      "Bahrain                     218.300\n",
      "Czech Republic              206.300\n",
      "Saudi Arabia                131.170\n",
      "Name: Total_spending, dtype: float64\n"
     ]
    }
   ],
   "source": [
    "# revenue by country region\n",
    "countrywise_sales= newdff.groupby('Country')['Total_spending'].sum().sort_values(ascending=False)\n",
    "print(countrywise_sales)"
   ]
  },
  {
   "cell_type": "code",
   "execution_count": 93,
   "id": "ea12eca6-6fb3-4019-b367-1a89710ecd6f",
   "metadata": {},
   "outputs": [
    {
     "data": {
      "text/html": [
       "<div style=\"width:100%;\"><div style=\"position:relative;width:100%;height:0;padding-bottom:60%;\"><span style=\"color:#565656\">Make this Notebook Trusted to load map: File -> Trust Notebook</span><iframe srcdoc=\"&lt;!DOCTYPE html&gt;\n",
       "&lt;html&gt;\n",
       "&lt;head&gt;\n",
       "    \n",
       "    &lt;meta http-equiv=&quot;content-type&quot; content=&quot;text/html; charset=UTF-8&quot; /&gt;\n",
       "    \n",
       "        &lt;script&gt;\n",
       "            L_NO_TOUCH = false;\n",
       "            L_DISABLE_3D = false;\n",
       "        &lt;/script&gt;\n",
       "    \n",
       "    &lt;style&gt;html, body {width: 100%;height: 100%;margin: 0;padding: 0;}&lt;/style&gt;\n",
       "    &lt;style&gt;#map {position:absolute;top:0;bottom:0;right:0;left:0;}&lt;/style&gt;\n",
       "    &lt;script src=&quot;https://cdn.jsdelivr.net/npm/leaflet@1.9.3/dist/leaflet.js&quot;&gt;&lt;/script&gt;\n",
       "    &lt;script src=&quot;https://code.jquery.com/jquery-3.7.1.min.js&quot;&gt;&lt;/script&gt;\n",
       "    &lt;script src=&quot;https://cdn.jsdelivr.net/npm/bootstrap@5.2.2/dist/js/bootstrap.bundle.min.js&quot;&gt;&lt;/script&gt;\n",
       "    &lt;script src=&quot;https://cdnjs.cloudflare.com/ajax/libs/Leaflet.awesome-markers/2.0.2/leaflet.awesome-markers.js&quot;&gt;&lt;/script&gt;\n",
       "    &lt;link rel=&quot;stylesheet&quot; href=&quot;https://cdn.jsdelivr.net/npm/leaflet@1.9.3/dist/leaflet.css&quot;/&gt;\n",
       "    &lt;link rel=&quot;stylesheet&quot; href=&quot;https://cdn.jsdelivr.net/npm/bootstrap@5.2.2/dist/css/bootstrap.min.css&quot;/&gt;\n",
       "    &lt;link rel=&quot;stylesheet&quot; href=&quot;https://netdna.bootstrapcdn.com/bootstrap/3.0.0/css/bootstrap-glyphicons.css&quot;/&gt;\n",
       "    &lt;link rel=&quot;stylesheet&quot; href=&quot;https://cdn.jsdelivr.net/npm/@fortawesome/fontawesome-free@6.2.0/css/all.min.css&quot;/&gt;\n",
       "    &lt;link rel=&quot;stylesheet&quot; href=&quot;https://cdnjs.cloudflare.com/ajax/libs/Leaflet.awesome-markers/2.0.2/leaflet.awesome-markers.css&quot;/&gt;\n",
       "    &lt;link rel=&quot;stylesheet&quot; href=&quot;https://cdn.jsdelivr.net/gh/python-visualization/folium/folium/templates/leaflet.awesome.rotate.min.css&quot;/&gt;\n",
       "    \n",
       "            &lt;meta name=&quot;viewport&quot; content=&quot;width=device-width,\n",
       "                initial-scale=1.0, maximum-scale=1.0, user-scalable=no&quot; /&gt;\n",
       "            &lt;style&gt;\n",
       "                #map_90b99fe833f7fe3347746bcd37068972 {\n",
       "                    position: relative;\n",
       "                    width: 100.0%;\n",
       "                    height: 100.0%;\n",
       "                    left: 0.0%;\n",
       "                    top: 0.0%;\n",
       "                }\n",
       "                .leaflet-container { font-size: 1rem; }\n",
       "            &lt;/style&gt;\n",
       "        \n",
       "&lt;/head&gt;\n",
       "&lt;body&gt;\n",
       "    \n",
       "    \n",
       "            &lt;div class=&quot;folium-map&quot; id=&quot;map_90b99fe833f7fe3347746bcd37068972&quot; &gt;&lt;/div&gt;\n",
       "        \n",
       "&lt;/body&gt;\n",
       "&lt;script&gt;\n",
       "    \n",
       "    \n",
       "            var map_90b99fe833f7fe3347746bcd37068972 = L.map(\n",
       "                &quot;map_90b99fe833f7fe3347746bcd37068972&quot;,\n",
       "                {\n",
       "                    center: [20.0, 0.0],\n",
       "                    crs: L.CRS.EPSG3857,\n",
       "                    zoom: 2,\n",
       "                    zoomControl: true,\n",
       "                    preferCanvas: false,\n",
       "                }\n",
       "            );\n",
       "\n",
       "            \n",
       "\n",
       "        \n",
       "    \n",
       "            var tile_layer_231c96dc3ea05f2a25d9e3885e295fd5 = L.tileLayer(\n",
       "                &quot;https://tile.openstreetmap.org/{z}/{x}/{y}.png&quot;,\n",
       "                {&quot;attribution&quot;: &quot;\\u0026copy; \\u003ca href=\\&quot;https://www.openstreetmap.org/copyright\\&quot;\\u003eOpenStreetMap\\u003c/a\\u003e contributors&quot;, &quot;detectRetina&quot;: false, &quot;maxNativeZoom&quot;: 19, &quot;maxZoom&quot;: 19, &quot;minZoom&quot;: 0, &quot;noWrap&quot;: false, &quot;opacity&quot;: 1, &quot;subdomains&quot;: &quot;abc&quot;, &quot;tms&quot;: false}\n",
       "            );\n",
       "        \n",
       "    \n",
       "            tile_layer_231c96dc3ea05f2a25d9e3885e295fd5.addTo(map_90b99fe833f7fe3347746bcd37068972);\n",
       "        \n",
       "    \n",
       "            var circle_marker_d677056239e9ee61448720223ef28e00 = L.circleMarker(\n",
       "                [54.7023545, -3.2765753],\n",
       "                {&quot;bubblingMouseEvents&quot;: true, &quot;color&quot;: &quot;blue&quot;, &quot;dashArray&quot;: null, &quot;dashOffset&quot;: null, &quot;fill&quot;: true, &quot;fillColor&quot;: &quot;green&quot;, &quot;fillOpacity&quot;: 0.6, &quot;fillRule&quot;: &quot;evenodd&quot;, &quot;lineCap&quot;: &quot;round&quot;, &quot;lineJoin&quot;: &quot;round&quot;, &quot;opacity&quot;: 1.0, &quot;radius&quot;: 4.084425704, &quot;stroke&quot;: true, &quot;weight&quot;: 3}\n",
       "            ).addTo(map_90b99fe833f7fe3347746bcd37068972);\n",
       "        \n",
       "    \n",
       "        var popup_ccf04e381aa05b960564ba18a3f506a4 = L.popup({&quot;maxWidth&quot;: &quot;100%&quot;});\n",
       "\n",
       "        \n",
       "            \n",
       "                var html_6731dce561062832847556931c35566b = $(`&lt;div id=&quot;html_6731dce561062832847556931c35566b&quot; style=&quot;width: 100.0%; height: 100.0%;&quot;&gt;United Kingdom: $4,084,425.70&lt;/div&gt;`)[0];\n",
       "                popup_ccf04e381aa05b960564ba18a3f506a4.setContent(html_6731dce561062832847556931c35566b);\n",
       "            \n",
       "        \n",
       "\n",
       "        circle_marker_d677056239e9ee61448720223ef28e00.bindPopup(popup_ccf04e381aa05b960564ba18a3f506a4)\n",
       "        ;\n",
       "\n",
       "        \n",
       "    \n",
       "    \n",
       "            var circle_marker_2f6ce2a6ac4ac022752d9db1cd6020ce = L.circleMarker(\n",
       "                [51.1638175, 10.4478313],\n",
       "                {&quot;bubblingMouseEvents&quot;: true, &quot;color&quot;: &quot;blue&quot;, &quot;dashArray&quot;: null, &quot;dashOffset&quot;: null, &quot;fill&quot;: true, &quot;fillColor&quot;: &quot;green&quot;, &quot;fillOpacity&quot;: 0.6, &quot;fillRule&quot;: &quot;evenodd&quot;, &quot;lineCap&quot;: &quot;round&quot;, &quot;lineJoin&quot;: &quot;round&quot;, &quot;opacity&quot;: 1.0, &quot;radius&quot;: 0.12005778, &quot;stroke&quot;: true, &quot;weight&quot;: 3}\n",
       "            ).addTo(map_90b99fe833f7fe3347746bcd37068972);\n",
       "        \n",
       "    \n",
       "        var popup_2ad829ff3f0035598ba09a1f1cf59e90 = L.popup({&quot;maxWidth&quot;: &quot;100%&quot;});\n",
       "\n",
       "        \n",
       "            \n",
       "                var html_9a14e7c17346e0940c59329da4e492eb = $(`&lt;div id=&quot;html_9a14e7c17346e0940c59329da4e492eb&quot; style=&quot;width: 100.0%; height: 100.0%;&quot;&gt;Germany: $120,057.78&lt;/div&gt;`)[0];\n",
       "                popup_2ad829ff3f0035598ba09a1f1cf59e90.setContent(html_9a14e7c17346e0940c59329da4e492eb);\n",
       "            \n",
       "        \n",
       "\n",
       "        circle_marker_2f6ce2a6ac4ac022752d9db1cd6020ce.bindPopup(popup_2ad829ff3f0035598ba09a1f1cf59e90)\n",
       "        ;\n",
       "\n",
       "        \n",
       "    \n",
       "    \n",
       "            var circle_marker_2f625bba6657192c62077d0f844e5632 = L.circleMarker(\n",
       "                [46.603354, 1.8883335],\n",
       "                {&quot;bubblingMouseEvents&quot;: true, &quot;color&quot;: &quot;blue&quot;, &quot;dashArray&quot;: null, &quot;dashOffset&quot;: null, &quot;fill&quot;: true, &quot;fillColor&quot;: &quot;green&quot;, &quot;fillOpacity&quot;: 0.6, &quot;fillRule&quot;: &quot;evenodd&quot;, &quot;lineCap&quot;: &quot;round&quot;, &quot;lineJoin&quot;: &quot;round&quot;, &quot;opacity&quot;: 1.0, &quot;radius&quot;: 0.10515031, &quot;stroke&quot;: true, &quot;weight&quot;: 3}\n",
       "            ).addTo(map_90b99fe833f7fe3347746bcd37068972);\n",
       "        \n",
       "    \n",
       "        var popup_649d701d64188ad31c3ef9aacadf1bd4 = L.popup({&quot;maxWidth&quot;: &quot;100%&quot;});\n",
       "\n",
       "        \n",
       "            \n",
       "                var html_cf02df690066e545f13dd3fb7a427632 = $(`&lt;div id=&quot;html_cf02df690066e545f13dd3fb7a427632&quot; style=&quot;width: 100.0%; height: 100.0%;&quot;&gt;France: $105,150.31&lt;/div&gt;`)[0];\n",
       "                popup_649d701d64188ad31c3ef9aacadf1bd4.setContent(html_cf02df690066e545f13dd3fb7a427632);\n",
       "            \n",
       "        \n",
       "\n",
       "        circle_marker_2f625bba6657192c62077d0f844e5632.bindPopup(popup_649d701d64188ad31c3ef9aacadf1bd4)\n",
       "        ;\n",
       "\n",
       "        \n",
       "    \n",
       "    \n",
       "            var circle_marker_25c08237fca6f39b02148b42c6cd79ec = L.circleMarker(\n",
       "                [52.865196, -7.9794599],\n",
       "                {&quot;bubblingMouseEvents&quot;: true, &quot;color&quot;: &quot;blue&quot;, &quot;dashArray&quot;: null, &quot;dashOffset&quot;: null, &quot;fill&quot;: true, &quot;fillColor&quot;: &quot;green&quot;, &quot;fillOpacity&quot;: 0.6, &quot;fillRule&quot;: &quot;evenodd&quot;, &quot;lineCap&quot;: &quot;round&quot;, &quot;lineJoin&quot;: &quot;round&quot;, &quot;opacity&quot;: 1.0, &quot;radius&quot;: 0.09991061999999999, &quot;stroke&quot;: true, &quot;weight&quot;: 3}\n",
       "            ).addTo(map_90b99fe833f7fe3347746bcd37068972);\n",
       "        \n",
       "    \n",
       "        var popup_c78560643c98c19f74549e552a4b6277 = L.popup({&quot;maxWidth&quot;: &quot;100%&quot;});\n",
       "\n",
       "        \n",
       "            \n",
       "                var html_153878bf778ec2602a84dcbdf43d6eaa = $(`&lt;div id=&quot;html_153878bf778ec2602a84dcbdf43d6eaa&quot; style=&quot;width: 100.0%; height: 100.0%;&quot;&gt;EIRE: $99,910.62&lt;/div&gt;`)[0];\n",
       "                popup_c78560643c98c19f74549e552a4b6277.setContent(html_153878bf778ec2602a84dcbdf43d6eaa);\n",
       "            \n",
       "        \n",
       "\n",
       "        circle_marker_25c08237fca6f39b02148b42c6cd79ec.bindPopup(popup_c78560643c98c19f74549e552a4b6277)\n",
       "        ;\n",
       "\n",
       "        \n",
       "    \n",
       "    \n",
       "            var circle_marker_ea224b93a9005a51da098f37feaeccd6 = L.circleMarker(\n",
       "                [39.3260685, -4.8379791],\n",
       "                {&quot;bubblingMouseEvents&quot;: true, &quot;color&quot;: &quot;blue&quot;, &quot;dashArray&quot;: null, &quot;dashOffset&quot;: null, &quot;fill&quot;: true, &quot;fillColor&quot;: &quot;green&quot;, &quot;fillOpacity&quot;: 0.6, &quot;fillRule&quot;: &quot;evenodd&quot;, &quot;lineCap&quot;: &quot;round&quot;, &quot;lineJoin&quot;: &quot;round&quot;, &quot;opacity&quot;: 1.0, &quot;radius&quot;: 0.02639027, &quot;stroke&quot;: true, &quot;weight&quot;: 3}\n",
       "            ).addTo(map_90b99fe833f7fe3347746bcd37068972);\n",
       "        \n",
       "    \n",
       "        var popup_0135c62fe26adf993ec3c8d1b4804354 = L.popup({&quot;maxWidth&quot;: &quot;100%&quot;});\n",
       "\n",
       "        \n",
       "            \n",
       "                var html_459f596f3b7a8feba5ac8266f2c5072e = $(`&lt;div id=&quot;html_459f596f3b7a8feba5ac8266f2c5072e&quot; style=&quot;width: 100.0%; height: 100.0%;&quot;&gt;Spain: $26,390.27&lt;/div&gt;`)[0];\n",
       "                popup_0135c62fe26adf993ec3c8d1b4804354.setContent(html_459f596f3b7a8feba5ac8266f2c5072e);\n",
       "            \n",
       "        \n",
       "\n",
       "        circle_marker_ea224b93a9005a51da098f37feaeccd6.bindPopup(popup_0135c62fe26adf993ec3c8d1b4804354)\n",
       "        ;\n",
       "\n",
       "        \n",
       "    \n",
       "    \n",
       "            var circle_marker_a51e62c7e3936f109339e6dc18c14963 = L.circleMarker(\n",
       "                [46.7985624, 8.2319736],\n",
       "                {&quot;bubblingMouseEvents&quot;: true, &quot;color&quot;: &quot;blue&quot;, &quot;dashArray&quot;: null, &quot;dashOffset&quot;: null, &quot;fill&quot;: true, &quot;fillColor&quot;: &quot;green&quot;, &quot;fillOpacity&quot;: 0.6, &quot;fillRule&quot;: &quot;evenodd&quot;, &quot;lineCap&quot;: &quot;round&quot;, &quot;lineJoin&quot;: &quot;round&quot;, &quot;opacity&quot;: 1.0, &quot;radius&quot;: 0.02558051, &quot;stroke&quot;: true, &quot;weight&quot;: 3}\n",
       "            ).addTo(map_90b99fe833f7fe3347746bcd37068972);\n",
       "        \n",
       "    \n",
       "        var popup_8fd448ef5c5fe00720f60627e1c6b9e7 = L.popup({&quot;maxWidth&quot;: &quot;100%&quot;});\n",
       "\n",
       "        \n",
       "            \n",
       "                var html_ca630d7b86a16011c9aa45873e08d985 = $(`&lt;div id=&quot;html_ca630d7b86a16011c9aa45873e08d985&quot; style=&quot;width: 100.0%; height: 100.0%;&quot;&gt;Switzerland: $25,580.51&lt;/div&gt;`)[0];\n",
       "                popup_8fd448ef5c5fe00720f60627e1c6b9e7.setContent(html_ca630d7b86a16011c9aa45873e08d985);\n",
       "            \n",
       "        \n",
       "\n",
       "        circle_marker_a51e62c7e3936f109339e6dc18c14963.bindPopup(popup_8fd448ef5c5fe00720f60627e1c6b9e7)\n",
       "        ;\n",
       "\n",
       "        \n",
       "    \n",
       "    \n",
       "            var circle_marker_83215d6bbeac82ace142c6fbf048db09 = L.circleMarker(\n",
       "                [50.6402809, 4.6667145],\n",
       "                {&quot;bubblingMouseEvents&quot;: true, &quot;color&quot;: &quot;blue&quot;, &quot;dashArray&quot;: null, &quot;dashOffset&quot;: null, &quot;fill&quot;: true, &quot;fillColor&quot;: &quot;green&quot;, &quot;fillOpacity&quot;: 0.6, &quot;fillRule&quot;: &quot;evenodd&quot;, &quot;lineCap&quot;: &quot;round&quot;, &quot;lineJoin&quot;: &quot;round&quot;, &quot;opacity&quot;: 1.0, &quot;radius&quot;: 0.025337810000000002, &quot;stroke&quot;: true, &quot;weight&quot;: 3}\n",
       "            ).addTo(map_90b99fe833f7fe3347746bcd37068972);\n",
       "        \n",
       "    \n",
       "        var popup_16655814cdd9f383208259b4d9f167ea = L.popup({&quot;maxWidth&quot;: &quot;100%&quot;});\n",
       "\n",
       "        \n",
       "            \n",
       "                var html_b30abb055b3dba95e2a46c8e927cd77c = $(`&lt;div id=&quot;html_b30abb055b3dba95e2a46c8e927cd77c&quot; style=&quot;width: 100.0%; height: 100.0%;&quot;&gt;Belgium: $25,337.81&lt;/div&gt;`)[0];\n",
       "                popup_16655814cdd9f383208259b4d9f167ea.setContent(html_b30abb055b3dba95e2a46c8e927cd77c);\n",
       "            \n",
       "        \n",
       "\n",
       "        circle_marker_83215d6bbeac82ace142c6fbf048db09.bindPopup(popup_16655814cdd9f383208259b4d9f167ea)\n",
       "        ;\n",
       "\n",
       "        \n",
       "    \n",
       "    \n",
       "            var circle_marker_4523d3a5abb79efa4f7d14c81ee8c88f = L.circleMarker(\n",
       "                [39.6621648, -8.1353519],\n",
       "                {&quot;bubblingMouseEvents&quot;: true, &quot;color&quot;: &quot;blue&quot;, &quot;dashArray&quot;: null, &quot;dashOffset&quot;: null, &quot;fill&quot;: true, &quot;fillColor&quot;: &quot;green&quot;, &quot;fillOpacity&quot;: 0.6, &quot;fillRule&quot;: &quot;evenodd&quot;, &quot;lineCap&quot;: &quot;round&quot;, &quot;lineJoin&quot;: &quot;round&quot;, &quot;opacity&quot;: 1.0, &quot;radius&quot;: 0.018753560000000002, &quot;stroke&quot;: true, &quot;weight&quot;: 3}\n",
       "            ).addTo(map_90b99fe833f7fe3347746bcd37068972);\n",
       "        \n",
       "    \n",
       "        var popup_c335df1d6405f36b13a1c65a4bac5c47 = L.popup({&quot;maxWidth&quot;: &quot;100%&quot;});\n",
       "\n",
       "        \n",
       "            \n",
       "                var html_cffa67f1c53f9faadb3e3c8f380156a1 = $(`&lt;div id=&quot;html_cffa67f1c53f9faadb3e3c8f380156a1&quot; style=&quot;width: 100.0%; height: 100.0%;&quot;&gt;Portugal: $18,753.56&lt;/div&gt;`)[0];\n",
       "                popup_c335df1d6405f36b13a1c65a4bac5c47.setContent(html_cffa67f1c53f9faadb3e3c8f380156a1);\n",
       "            \n",
       "        \n",
       "\n",
       "        circle_marker_4523d3a5abb79efa4f7d14c81ee8c88f.bindPopup(popup_c335df1d6405f36b13a1c65a4bac5c47)\n",
       "        ;\n",
       "\n",
       "        \n",
       "    \n",
       "    \n",
       "            var circle_marker_b57166c50476c0f332e3351a3897a883 = L.circleMarker(\n",
       "                [64.5731537, 11.52803643954819],\n",
       "                {&quot;bubblingMouseEvents&quot;: true, &quot;color&quot;: &quot;blue&quot;, &quot;dashArray&quot;: null, &quot;dashOffset&quot;: null, &quot;fill&quot;: true, &quot;fillColor&quot;: &quot;green&quot;, &quot;fillOpacity&quot;: 0.6, &quot;fillRule&quot;: &quot;evenodd&quot;, &quot;lineCap&quot;: &quot;round&quot;, &quot;lineJoin&quot;: &quot;round&quot;, &quot;opacity&quot;: 1.0, &quot;radius&quot;: 0.0140552, &quot;stroke&quot;: true, &quot;weight&quot;: 3}\n",
       "            ).addTo(map_90b99fe833f7fe3347746bcd37068972);\n",
       "        \n",
       "    \n",
       "        var popup_0fe5accce778850f9a5d44c57ff0cc89 = L.popup({&quot;maxWidth&quot;: &quot;100%&quot;});\n",
       "\n",
       "        \n",
       "            \n",
       "                var html_4950b589f2f72a74ac94a26c9db2e58d = $(`&lt;div id=&quot;html_4950b589f2f72a74ac94a26c9db2e58d&quot; style=&quot;width: 100.0%; height: 100.0%;&quot;&gt;Norway: $14,055.20&lt;/div&gt;`)[0];\n",
       "                popup_0fe5accce778850f9a5d44c57ff0cc89.setContent(html_4950b589f2f72a74ac94a26c9db2e58d);\n",
       "            \n",
       "        \n",
       "\n",
       "        circle_marker_b57166c50476c0f332e3351a3897a883.bindPopup(popup_0fe5accce778850f9a5d44c57ff0cc89)\n",
       "        ;\n",
       "\n",
       "        \n",
       "    \n",
       "    \n",
       "            var circle_marker_d3543fd0efc137fc8c8797f0fc4c6427 = L.circleMarker(\n",
       "                [52.2434979, 5.6343227],\n",
       "                {&quot;bubblingMouseEvents&quot;: true, &quot;color&quot;: &quot;blue&quot;, &quot;dashArray&quot;: null, &quot;dashOffset&quot;: null, &quot;fill&quot;: true, &quot;fillColor&quot;: &quot;green&quot;, &quot;fillOpacity&quot;: 0.6, &quot;fillRule&quot;: &quot;evenodd&quot;, &quot;lineCap&quot;: &quot;round&quot;, &quot;lineJoin&quot;: &quot;round&quot;, &quot;opacity&quot;: 1.0, &quot;radius&quot;: 0.01171142, &quot;stroke&quot;: true, &quot;weight&quot;: 3}\n",
       "            ).addTo(map_90b99fe833f7fe3347746bcd37068972);\n",
       "        \n",
       "    \n",
       "        var popup_29fcf2373b06dea112015f0a09598b7a = L.popup({&quot;maxWidth&quot;: &quot;100%&quot;});\n",
       "\n",
       "        \n",
       "            \n",
       "                var html_0875ae8b2838612d7d3d1f7af9e12e89 = $(`&lt;div id=&quot;html_0875ae8b2838612d7d3d1f7af9e12e89&quot; style=&quot;width: 100.0%; height: 100.0%;&quot;&gt;Netherlands: $11,711.42&lt;/div&gt;`)[0];\n",
       "                popup_29fcf2373b06dea112015f0a09598b7a.setContent(html_0875ae8b2838612d7d3d1f7af9e12e89);\n",
       "            \n",
       "        \n",
       "\n",
       "        circle_marker_d3543fd0efc137fc8c8797f0fc4c6427.bindPopup(popup_29fcf2373b06dea112015f0a09598b7a)\n",
       "        ;\n",
       "\n",
       "        \n",
       "    \n",
       "    \n",
       "            var circle_marker_5654ad83702c1cc5e74d887e2787834c = L.circleMarker(\n",
       "                [42.6384261, 12.674297],\n",
       "                {&quot;bubblingMouseEvents&quot;: true, &quot;color&quot;: &quot;blue&quot;, &quot;dashArray&quot;: null, &quot;dashOffset&quot;: null, &quot;fill&quot;: true, &quot;fillColor&quot;: &quot;green&quot;, &quot;fillOpacity&quot;: 0.6, &quot;fillRule&quot;: &quot;evenodd&quot;, &quot;lineCap&quot;: &quot;round&quot;, &quot;lineJoin&quot;: &quot;round&quot;, &quot;opacity&quot;: 1.0, &quot;radius&quot;: 0.01147918, &quot;stroke&quot;: true, &quot;weight&quot;: 3}\n",
       "            ).addTo(map_90b99fe833f7fe3347746bcd37068972);\n",
       "        \n",
       "    \n",
       "        var popup_37aea6d62fa805470d3d2cc870b6e86b = L.popup({&quot;maxWidth&quot;: &quot;100%&quot;});\n",
       "\n",
       "        \n",
       "            \n",
       "                var html_a5d7bec5454b3ca669dc05b32a61017d = $(`&lt;div id=&quot;html_a5d7bec5454b3ca669dc05b32a61017d&quot; style=&quot;width: 100.0%; height: 100.0%;&quot;&gt;Italy: $11,479.18&lt;/div&gt;`)[0];\n",
       "                popup_37aea6d62fa805470d3d2cc870b6e86b.setContent(html_a5d7bec5454b3ca669dc05b32a61017d);\n",
       "            \n",
       "        \n",
       "\n",
       "        circle_marker_5654ad83702c1cc5e74d887e2787834c.bindPopup(popup_37aea6d62fa805470d3d2cc870b6e86b)\n",
       "        ;\n",
       "\n",
       "        \n",
       "    \n",
       "    \n",
       "            var circle_marker_119fe394810a0b743e679b87e1f5721d = L.circleMarker(\n",
       "                [49.21230655, -2.1255999596428845],\n",
       "                {&quot;bubblingMouseEvents&quot;: true, &quot;color&quot;: &quot;blue&quot;, &quot;dashArray&quot;: null, &quot;dashOffset&quot;: null, &quot;fill&quot;: true, &quot;fillColor&quot;: &quot;green&quot;, &quot;fillOpacity&quot;: 0.6, &quot;fillRule&quot;: &quot;evenodd&quot;, &quot;lineCap&quot;: &quot;round&quot;, &quot;lineJoin&quot;: &quot;round&quot;, &quot;opacity&quot;: 1.0, &quot;radius&quot;: 0.01063633, &quot;stroke&quot;: true, &quot;weight&quot;: 3}\n",
       "            ).addTo(map_90b99fe833f7fe3347746bcd37068972);\n",
       "        \n",
       "    \n",
       "        var popup_7ca99a0bbf0fff15ff4a9145ce2f7cb7 = L.popup({&quot;maxWidth&quot;: &quot;100%&quot;});\n",
       "\n",
       "        \n",
       "            \n",
       "                var html_28e66ad06b2decd194e71193e30d31ef = $(`&lt;div id=&quot;html_28e66ad06b2decd194e71193e30d31ef&quot; style=&quot;width: 100.0%; height: 100.0%;&quot;&gt;Channel Islands: $10,636.33&lt;/div&gt;`)[0];\n",
       "                popup_7ca99a0bbf0fff15ff4a9145ce2f7cb7.setContent(html_28e66ad06b2decd194e71193e30d31ef);\n",
       "            \n",
       "        \n",
       "\n",
       "        circle_marker_119fe394810a0b743e679b87e1f5721d.bindPopup(popup_7ca99a0bbf0fff15ff4a9145ce2f7cb7)\n",
       "        ;\n",
       "\n",
       "        \n",
       "    \n",
       "    \n",
       "            var circle_marker_f28149930f4acbd832725765656b38c1 = L.circleMarker(\n",
       "                [-24.7761086, 134.755],\n",
       "                {&quot;bubblingMouseEvents&quot;: true, &quot;color&quot;: &quot;blue&quot;, &quot;dashArray&quot;: null, &quot;dashOffset&quot;: null, &quot;fill&quot;: true, &quot;fillColor&quot;: &quot;green&quot;, &quot;fillOpacity&quot;: 0.6, &quot;fillRule&quot;: &quot;evenodd&quot;, &quot;lineCap&quot;: &quot;round&quot;, &quot;lineJoin&quot;: &quot;round&quot;, &quot;opacity&quot;: 1.0, &quot;radius&quot;: 0.01012037, &quot;stroke&quot;: true, &quot;weight&quot;: 3}\n",
       "            ).addTo(map_90b99fe833f7fe3347746bcd37068972);\n",
       "        \n",
       "    \n",
       "        var popup_552bd767eefa66707bcd3bdf1c75233e = L.popup({&quot;maxWidth&quot;: &quot;100%&quot;});\n",
       "\n",
       "        \n",
       "            \n",
       "                var html_e756456c3928d1b19de3b655e1e95a3a = $(`&lt;div id=&quot;html_e756456c3928d1b19de3b655e1e95a3a&quot; style=&quot;width: 100.0%; height: 100.0%;&quot;&gt;Australia: $10,120.37&lt;/div&gt;`)[0];\n",
       "                popup_552bd767eefa66707bcd3bdf1c75233e.setContent(html_e756456c3928d1b19de3b655e1e95a3a);\n",
       "            \n",
       "        \n",
       "\n",
       "        circle_marker_f28149930f4acbd832725765656b38c1.bindPopup(popup_552bd767eefa66707bcd3bdf1c75233e)\n",
       "        ;\n",
       "\n",
       "        \n",
       "    \n",
       "    \n",
       "            var circle_marker_ad3f8a3b32c477b191c1715b9ec6209f = L.circleMarker(\n",
       "                [63.2467777, 25.9209164],\n",
       "                {&quot;bubblingMouseEvents&quot;: true, &quot;color&quot;: &quot;blue&quot;, &quot;dashArray&quot;: null, &quot;dashOffset&quot;: null, &quot;fill&quot;: true, &quot;fillColor&quot;: &quot;green&quot;, &quot;fillOpacity&quot;: 0.6, &quot;fillRule&quot;: &quot;evenodd&quot;, &quot;lineCap&quot;: &quot;round&quot;, &quot;lineJoin&quot;: &quot;round&quot;, &quot;opacity&quot;: 1.0, &quot;radius&quot;: 0.00942875, &quot;stroke&quot;: true, &quot;weight&quot;: 3}\n",
       "            ).addTo(map_90b99fe833f7fe3347746bcd37068972);\n",
       "        \n",
       "    \n",
       "        var popup_235864a737944b5de0e17258f103f0c5 = L.popup({&quot;maxWidth&quot;: &quot;100%&quot;});\n",
       "\n",
       "        \n",
       "            \n",
       "                var html_9d76b10eb4bb17237f3baa2842c97883 = $(`&lt;div id=&quot;html_9d76b10eb4bb17237f3baa2842c97883&quot; style=&quot;width: 100.0%; height: 100.0%;&quot;&gt;Finland: $9,428.75&lt;/div&gt;`)[0];\n",
       "                popup_235864a737944b5de0e17258f103f0c5.setContent(html_9d76b10eb4bb17237f3baa2842c97883);\n",
       "            \n",
       "        \n",
       "\n",
       "        circle_marker_ad3f8a3b32c477b191c1715b9ec6209f.bindPopup(popup_235864a737944b5de0e17258f103f0c5)\n",
       "        ;\n",
       "\n",
       "        \n",
       "    \n",
       "    \n",
       "            var circle_marker_c548fe826cd6a7876269318fda986f30 = L.circleMarker(\n",
       "                [34.9174159, 32.889902651331866],\n",
       "                {&quot;bubblingMouseEvents&quot;: true, &quot;color&quot;: &quot;blue&quot;, &quot;dashArray&quot;: null, &quot;dashOffset&quot;: null, &quot;fill&quot;: true, &quot;fillColor&quot;: &quot;green&quot;, &quot;fillOpacity&quot;: 0.6, &quot;fillRule&quot;: &quot;evenodd&quot;, &quot;lineCap&quot;: &quot;round&quot;, &quot;lineJoin&quot;: &quot;round&quot;, &quot;opacity&quot;: 1.0, &quot;radius&quot;: 0.007002980000000001, &quot;stroke&quot;: true, &quot;weight&quot;: 3}\n",
       "            ).addTo(map_90b99fe833f7fe3347746bcd37068972);\n",
       "        \n",
       "    \n",
       "        var popup_8d7206a2137d52c5b727e2c3ffec63e2 = L.popup({&quot;maxWidth&quot;: &quot;100%&quot;});\n",
       "\n",
       "        \n",
       "            \n",
       "                var html_a2b6d47401798428e11be95bb97a958d = $(`&lt;div id=&quot;html_a2b6d47401798428e11be95bb97a958d&quot; style=&quot;width: 100.0%; height: 100.0%;&quot;&gt;Cyprus: $7,002.98&lt;/div&gt;`)[0];\n",
       "                popup_8d7206a2137d52c5b727e2c3ffec63e2.setContent(html_a2b6d47401798428e11be95bb97a958d);\n",
       "            \n",
       "        \n",
       "\n",
       "        circle_marker_c548fe826cd6a7876269318fda986f30.bindPopup(popup_8d7206a2137d52c5b727e2c3ffec63e2)\n",
       "        ;\n",
       "\n",
       "        \n",
       "    \n",
       "    \n",
       "            var circle_marker_19a2ddc11a6247f599f82694d075e4db = L.circleMarker(\n",
       "                [47.59397, 14.12456],\n",
       "                {&quot;bubblingMouseEvents&quot;: true, &quot;color&quot;: &quot;blue&quot;, &quot;dashArray&quot;: null, &quot;dashOffset&quot;: null, &quot;fill&quot;: true, &quot;fillColor&quot;: &quot;green&quot;, &quot;fillOpacity&quot;: 0.6, &quot;fillRule&quot;: &quot;evenodd&quot;, &quot;lineCap&quot;: &quot;round&quot;, &quot;lineJoin&quot;: &quot;round&quot;, &quot;opacity&quot;: 1.0, &quot;radius&quot;: 0.00576719, &quot;stroke&quot;: true, &quot;weight&quot;: 3}\n",
       "            ).addTo(map_90b99fe833f7fe3347746bcd37068972);\n",
       "        \n",
       "    \n",
       "        var popup_77519bca71f9f9803ef639f09febeb73 = L.popup({&quot;maxWidth&quot;: &quot;100%&quot;});\n",
       "\n",
       "        \n",
       "            \n",
       "                var html_a2dab6fafcb8b7c0e57bf144adc48f5b = $(`&lt;div id=&quot;html_a2dab6fafcb8b7c0e57bf144adc48f5b&quot; style=&quot;width: 100.0%; height: 100.0%;&quot;&gt;Austria: $5,767.19&lt;/div&gt;`)[0];\n",
       "                popup_77519bca71f9f9803ef639f09febeb73.setContent(html_a2dab6fafcb8b7c0e57bf144adc48f5b);\n",
       "            \n",
       "        \n",
       "\n",
       "        circle_marker_19a2ddc11a6247f599f82694d075e4db.bindPopup(popup_77519bca71f9f9803ef639f09febeb73)\n",
       "        ;\n",
       "\n",
       "        \n",
       "    \n",
       "    \n",
       "            var circle_marker_e4bbd0dfe0e9e1f81129663594911653 = L.circleMarker(\n",
       "                [55.670249, 10.3333283],\n",
       "                {&quot;bubblingMouseEvents&quot;: true, &quot;color&quot;: &quot;blue&quot;, &quot;dashArray&quot;: null, &quot;dashOffset&quot;: null, &quot;fill&quot;: true, &quot;fillColor&quot;: &quot;green&quot;, &quot;fillOpacity&quot;: 0.6, &quot;fillRule&quot;: &quot;evenodd&quot;, &quot;lineCap&quot;: &quot;round&quot;, &quot;lineJoin&quot;: &quot;round&quot;, &quot;opacity&quot;: 1.0, &quot;radius&quot;: 0.005267399999999999, &quot;stroke&quot;: true, &quot;weight&quot;: 3}\n",
       "            ).addTo(map_90b99fe833f7fe3347746bcd37068972);\n",
       "        \n",
       "    \n",
       "        var popup_5a62fd6a8de121d34dc17c296ec2c627 = L.popup({&quot;maxWidth&quot;: &quot;100%&quot;});\n",
       "\n",
       "        \n",
       "            \n",
       "                var html_9516953c0838586f4547812477c05cec = $(`&lt;div id=&quot;html_9516953c0838586f4547812477c05cec&quot; style=&quot;width: 100.0%; height: 100.0%;&quot;&gt;Denmark: $5,267.40&lt;/div&gt;`)[0];\n",
       "                popup_5a62fd6a8de121d34dc17c296ec2c627.setContent(html_9516953c0838586f4547812477c05cec);\n",
       "            \n",
       "        \n",
       "\n",
       "        circle_marker_e4bbd0dfe0e9e1f81129663594911653.bindPopup(popup_5a62fd6a8de121d34dc17c296ec2c627)\n",
       "        ;\n",
       "\n",
       "        \n",
       "    \n",
       "    \n",
       "            var circle_marker_80989af3630eace7babe81f099df6c3c = L.circleMarker(\n",
       "                [1.357107, 103.8194992],\n",
       "                {&quot;bubblingMouseEvents&quot;: true, &quot;color&quot;: &quot;blue&quot;, &quot;dashArray&quot;: null, &quot;dashOffset&quot;: null, &quot;fill&quot;: true, &quot;fillColor&quot;: &quot;green&quot;, &quot;fillOpacity&quot;: 0.6, &quot;fillRule&quot;: &quot;evenodd&quot;, &quot;lineCap&quot;: &quot;round&quot;, &quot;lineJoin&quot;: &quot;round&quot;, &quot;opacity&quot;: 1.0, &quot;radius&quot;: 0.0042610799999999996, &quot;stroke&quot;: true, &quot;weight&quot;: 3}\n",
       "            ).addTo(map_90b99fe833f7fe3347746bcd37068972);\n",
       "        \n",
       "    \n",
       "        var popup_64b9b4ba0ca35c3d3382a4307a6061d1 = L.popup({&quot;maxWidth&quot;: &quot;100%&quot;});\n",
       "\n",
       "        \n",
       "            \n",
       "                var html_1dd4458551a2f31f8d005c6eca0b2ecf = $(`&lt;div id=&quot;html_1dd4458551a2f31f8d005c6eca0b2ecf&quot; style=&quot;width: 100.0%; height: 100.0%;&quot;&gt;Singapore: $4,261.08&lt;/div&gt;`)[0];\n",
       "                popup_64b9b4ba0ca35c3d3382a4307a6061d1.setContent(html_1dd4458551a2f31f8d005c6eca0b2ecf);\n",
       "            \n",
       "        \n",
       "\n",
       "        circle_marker_80989af3630eace7babe81f099df6c3c.bindPopup(popup_64b9b4ba0ca35c3d3382a4307a6061d1)\n",
       "        ;\n",
       "\n",
       "        \n",
       "    \n",
       "    \n",
       "            var circle_marker_74b9525059b9e28ac459b89af16f7ece = L.circleMarker(\n",
       "                [52.215933, 19.134422],\n",
       "                {&quot;bubblingMouseEvents&quot;: true, &quot;color&quot;: &quot;blue&quot;, &quot;dashArray&quot;: null, &quot;dashOffset&quot;: null, &quot;fill&quot;: true, &quot;fillColor&quot;: &quot;green&quot;, &quot;fillOpacity&quot;: 0.6, &quot;fillRule&quot;: &quot;evenodd&quot;, &quot;lineCap&quot;: &quot;round&quot;, &quot;lineJoin&quot;: &quot;round&quot;, &quot;opacity&quot;: 1.0, &quot;radius&quot;: 0.00418292, &quot;stroke&quot;: true, &quot;weight&quot;: 3}\n",
       "            ).addTo(map_90b99fe833f7fe3347746bcd37068972);\n",
       "        \n",
       "    \n",
       "        var popup_7d12023ef3e8f2823c4e5ba47dd8cb94 = L.popup({&quot;maxWidth&quot;: &quot;100%&quot;});\n",
       "\n",
       "        \n",
       "            \n",
       "                var html_ddf8f529aefcd172715b6d71e4575e1f = $(`&lt;div id=&quot;html_ddf8f529aefcd172715b6d71e4575e1f&quot; style=&quot;width: 100.0%; height: 100.0%;&quot;&gt;Poland: $4,182.92&lt;/div&gt;`)[0];\n",
       "                popup_7d12023ef3e8f2823c4e5ba47dd8cb94.setContent(html_ddf8f529aefcd172715b6d71e4575e1f);\n",
       "            \n",
       "        \n",
       "\n",
       "        circle_marker_74b9525059b9e28ac459b89af16f7ece.bindPopup(popup_7d12023ef3e8f2823c4e5ba47dd8cb94)\n",
       "        ;\n",
       "\n",
       "        \n",
       "    \n",
       "    \n",
       "            var circle_marker_ff98c1b5ca78f6a0ae68faaa75a7b321 = L.circleMarker(\n",
       "                [59.6749712, 14.5208584],\n",
       "                {&quot;bubblingMouseEvents&quot;: true, &quot;color&quot;: &quot;blue&quot;, &quot;dashArray&quot;: null, &quot;dashOffset&quot;: null, &quot;fill&quot;: true, &quot;fillColor&quot;: &quot;green&quot;, &quot;fillOpacity&quot;: 0.6, &quot;fillRule&quot;: &quot;evenodd&quot;, &quot;lineCap&quot;: &quot;round&quot;, &quot;lineJoin&quot;: &quot;round&quot;, &quot;opacity&quot;: 1.0, &quot;radius&quot;: 0.00405113, &quot;stroke&quot;: true, &quot;weight&quot;: 3}\n",
       "            ).addTo(map_90b99fe833f7fe3347746bcd37068972);\n",
       "        \n",
       "    \n",
       "        var popup_b80e90b1320f29a14b685004193d96aa = L.popup({&quot;maxWidth&quot;: &quot;100%&quot;});\n",
       "\n",
       "        \n",
       "            \n",
       "                var html_32dab3a0bb419780f8f3b902e340ee18 = $(`&lt;div id=&quot;html_32dab3a0bb419780f8f3b902e340ee18&quot; style=&quot;width: 100.0%; height: 100.0%;&quot;&gt;Sweden: $4,051.13&lt;/div&gt;`)[0];\n",
       "                popup_b80e90b1320f29a14b685004193d96aa.setContent(html_32dab3a0bb419780f8f3b902e340ee18);\n",
       "            \n",
       "        \n",
       "\n",
       "        circle_marker_ff98c1b5ca78f6a0ae68faaa75a7b321.bindPopup(popup_b80e90b1320f29a14b685004193d96aa)\n",
       "        ;\n",
       "\n",
       "        \n",
       "    \n",
       "    \n",
       "            var circle_marker_656ca2c698be38fd9f1b6d73d1816ac7 = L.circleMarker(\n",
       "                [22.2793278, 114.1628131],\n",
       "                {&quot;bubblingMouseEvents&quot;: true, &quot;color&quot;: &quot;blue&quot;, &quot;dashArray&quot;: null, &quot;dashOffset&quot;: null, &quot;fill&quot;: true, &quot;fillColor&quot;: &quot;green&quot;, &quot;fillOpacity&quot;: 0.6, &quot;fillRule&quot;: &quot;evenodd&quot;, &quot;lineCap&quot;: &quot;round&quot;, &quot;lineJoin&quot;: &quot;round&quot;, &quot;opacity&quot;: 1.0, &quot;radius&quot;: 0.0039258900000000005, &quot;stroke&quot;: true, &quot;weight&quot;: 3}\n",
       "            ).addTo(map_90b99fe833f7fe3347746bcd37068972);\n",
       "        \n",
       "    \n",
       "        var popup_019e3574ff7836bb701864852fdaff19 = L.popup({&quot;maxWidth&quot;: &quot;100%&quot;});\n",
       "\n",
       "        \n",
       "            \n",
       "                var html_983b4365eb6c80016a2017bf7a3703b5 = $(`&lt;div id=&quot;html_983b4365eb6c80016a2017bf7a3703b5&quot; style=&quot;width: 100.0%; height: 100.0%;&quot;&gt;Hong Kong: $3,925.89&lt;/div&gt;`)[0];\n",
       "                popup_019e3574ff7836bb701864852fdaff19.setContent(html_983b4365eb6c80016a2017bf7a3703b5);\n",
       "            \n",
       "        \n",
       "\n",
       "        circle_marker_656ca2c698be38fd9f1b6d73d1816ac7.bindPopup(popup_019e3574ff7836bb701864852fdaff19)\n",
       "        ;\n",
       "\n",
       "        \n",
       "    \n",
       "    \n",
       "            var circle_marker_86de221df4c600139077b94c62e29a7f = L.circleMarker(\n",
       "                [30.8124247, 34.8594762],\n",
       "                {&quot;bubblingMouseEvents&quot;: true, &quot;color&quot;: &quot;blue&quot;, &quot;dashArray&quot;: null, &quot;dashOffset&quot;: null, &quot;fill&quot;: true, &quot;fillColor&quot;: &quot;green&quot;, &quot;fillOpacity&quot;: 0.6, &quot;fillRule&quot;: &quot;evenodd&quot;, &quot;lineCap&quot;: &quot;round&quot;, &quot;lineJoin&quot;: &quot;round&quot;, &quot;opacity&quot;: 1.0, &quot;radius&quot;: 0.00343344, &quot;stroke&quot;: true, &quot;weight&quot;: 3}\n",
       "            ).addTo(map_90b99fe833f7fe3347746bcd37068972);\n",
       "        \n",
       "    \n",
       "        var popup_63647d937235cd23b7ff54e4b91a5368 = L.popup({&quot;maxWidth&quot;: &quot;100%&quot;});\n",
       "\n",
       "        \n",
       "            \n",
       "                var html_5e829fc0e4b2bcd23677146c940cf965 = $(`&lt;div id=&quot;html_5e829fc0e4b2bcd23677146c940cf965&quot; style=&quot;width: 100.0%; height: 100.0%;&quot;&gt;Israel: $3,433.44&lt;/div&gt;`)[0];\n",
       "                popup_63647d937235cd23b7ff54e4b91a5368.setContent(html_5e829fc0e4b2bcd23677146c940cf965);\n",
       "            \n",
       "        \n",
       "\n",
       "        circle_marker_86de221df4c600139077b94c62e29a7f.bindPopup(popup_63647d937235cd23b7ff54e4b91a5368)\n",
       "        ;\n",
       "\n",
       "        \n",
       "    \n",
       "    \n",
       "            var circle_marker_8e9e7ab8c68eb59fe1702ebef5257827 = L.circleMarker(\n",
       "                [27.1556836, 65.6101216],\n",
       "                {&quot;bubblingMouseEvents&quot;: true, &quot;color&quot;: &quot;blue&quot;, &quot;dashArray&quot;: null, &quot;dashOffset&quot;: null, &quot;fill&quot;: true, &quot;fillColor&quot;: &quot;green&quot;, &quot;fillOpacity&quot;: 0.6, &quot;fillRule&quot;: &quot;evenodd&quot;, &quot;lineCap&quot;: &quot;round&quot;, &quot;lineJoin&quot;: &quot;round&quot;, &quot;opacity&quot;: 1.0, &quot;radius&quot;: 0.00335514, &quot;stroke&quot;: true, &quot;weight&quot;: 3}\n",
       "            ).addTo(map_90b99fe833f7fe3347746bcd37068972);\n",
       "        \n",
       "    \n",
       "        var popup_7a4f7a35834d6e48770f5d4a5ff35019 = L.popup({&quot;maxWidth&quot;: &quot;100%&quot;});\n",
       "\n",
       "        \n",
       "            \n",
       "                var html_b6c5c4314391ec796321f8a1dbb607e3 = $(`&lt;div id=&quot;html_b6c5c4314391ec796321f8a1dbb607e3&quot; style=&quot;width: 100.0%; height: 100.0%;&quot;&gt;Unspecified: $3,355.14&lt;/div&gt;`)[0];\n",
       "                popup_7a4f7a35834d6e48770f5d4a5ff35019.setContent(html_b6c5c4314391ec796321f8a1dbb607e3);\n",
       "            \n",
       "        \n",
       "\n",
       "        circle_marker_8e9e7ab8c68eb59fe1702ebef5257827.bindPopup(popup_7a4f7a35834d6e48770f5d4a5ff35019)\n",
       "        ;\n",
       "\n",
       "        \n",
       "    \n",
       "    \n",
       "            var circle_marker_f277dc4b2f44ba5c2dcb1fc4323444ac = L.circleMarker(\n",
       "                [38.9953683, 21.9877132],\n",
       "                {&quot;bubblingMouseEvents&quot;: true, &quot;color&quot;: &quot;blue&quot;, &quot;dashArray&quot;: null, &quot;dashOffset&quot;: null, &quot;fill&quot;: true, &quot;fillColor&quot;: &quot;green&quot;, &quot;fillOpacity&quot;: 0.6, &quot;fillRule&quot;: &quot;evenodd&quot;, &quot;lineCap&quot;: &quot;round&quot;, &quot;lineJoin&quot;: &quot;round&quot;, &quot;opacity&quot;: 1.0, &quot;radius&quot;: 0.0028785100000000004, &quot;stroke&quot;: true, &quot;weight&quot;: 3}\n",
       "            ).addTo(map_90b99fe833f7fe3347746bcd37068972);\n",
       "        \n",
       "    \n",
       "        var popup_74271de16941eb604d0c6843940a3d38 = L.popup({&quot;maxWidth&quot;: &quot;100%&quot;});\n",
       "\n",
       "        \n",
       "            \n",
       "                var html_354b70e6bab7ab72e24ab205dd82b7e8 = $(`&lt;div id=&quot;html_354b70e6bab7ab72e24ab205dd82b7e8&quot; style=&quot;width: 100.0%; height: 100.0%;&quot;&gt;Greece: $2,878.51&lt;/div&gt;`)[0];\n",
       "                popup_74271de16941eb604d0c6843940a3d38.setContent(html_354b70e6bab7ab72e24ab205dd82b7e8);\n",
       "            \n",
       "        \n",
       "\n",
       "        circle_marker_f277dc4b2f44ba5c2dcb1fc4323444ac.bindPopup(popup_74271de16941eb604d0c6843940a3d38)\n",
       "        ;\n",
       "\n",
       "        \n",
       "    \n",
       "    \n",
       "            var circle_marker_139261f031d0c89e397e9a2977648eab = L.circleMarker(\n",
       "                [64.9841821, -18.1059013],\n",
       "                {&quot;bubblingMouseEvents&quot;: true, &quot;color&quot;: &quot;blue&quot;, &quot;dashArray&quot;: null, &quot;dashOffset&quot;: null, &quot;fill&quot;: true, &quot;fillColor&quot;: &quot;green&quot;, &quot;fillOpacity&quot;: 0.6, &quot;fillRule&quot;: &quot;evenodd&quot;, &quot;lineCap&quot;: &quot;round&quot;, &quot;lineJoin&quot;: &quot;round&quot;, &quot;opacity&quot;: 1.0, &quot;radius&quot;: 0.00286677, &quot;stroke&quot;: true, &quot;weight&quot;: 3}\n",
       "            ).addTo(map_90b99fe833f7fe3347746bcd37068972);\n",
       "        \n",
       "    \n",
       "        var popup_bcdc2852fdec19ad69855a500bb1ab13 = L.popup({&quot;maxWidth&quot;: &quot;100%&quot;});\n",
       "\n",
       "        \n",
       "            \n",
       "                var html_ae72386c71a40bbc06e705d45c245451 = $(`&lt;div id=&quot;html_ae72386c71a40bbc06e705d45c245451&quot; style=&quot;width: 100.0%; height: 100.0%;&quot;&gt;Iceland: $2,866.77&lt;/div&gt;`)[0];\n",
       "                popup_bcdc2852fdec19ad69855a500bb1ab13.setContent(html_ae72386c71a40bbc06e705d45c245451);\n",
       "            \n",
       "        \n",
       "\n",
       "        circle_marker_139261f031d0c89e397e9a2977648eab.bindPopup(popup_bcdc2852fdec19ad69855a500bb1ab13)\n",
       "        ;\n",
       "\n",
       "        \n",
       "    \n",
       "    \n",
       "            var circle_marker_f07b4eb3917293daabb9fd42525fc110 = L.circleMarker(\n",
       "                [61.0666922, -107.991707],\n",
       "                {&quot;bubblingMouseEvents&quot;: true, &quot;color&quot;: &quot;blue&quot;, &quot;dashArray&quot;: null, &quot;dashOffset&quot;: null, &quot;fill&quot;: true, &quot;fillColor&quot;: &quot;green&quot;, &quot;fillOpacity&quot;: 0.6, &quot;fillRule&quot;: &quot;evenodd&quot;, &quot;lineCap&quot;: &quot;round&quot;, &quot;lineJoin&quot;: &quot;round&quot;, &quot;opacity&quot;: 1.0, &quot;radius&quot;: 0.0016706, &quot;stroke&quot;: true, &quot;weight&quot;: 3}\n",
       "            ).addTo(map_90b99fe833f7fe3347746bcd37068972);\n",
       "        \n",
       "    \n",
       "        var popup_68a188435205ac22b728008294da2d7f = L.popup({&quot;maxWidth&quot;: &quot;100%&quot;});\n",
       "\n",
       "        \n",
       "            \n",
       "                var html_3812bfed173b66fba79dbcc5a378bc29 = $(`&lt;div id=&quot;html_3812bfed173b66fba79dbcc5a378bc29&quot; style=&quot;width: 100.0%; height: 100.0%;&quot;&gt;Canada: $1,670.60&lt;/div&gt;`)[0];\n",
       "                popup_68a188435205ac22b728008294da2d7f.setContent(html_3812bfed173b66fba79dbcc5a378bc29);\n",
       "            \n",
       "        \n",
       "\n",
       "        circle_marker_f07b4eb3917293daabb9fd42525fc110.bindPopup(popup_68a188435205ac22b728008294da2d7f)\n",
       "        ;\n",
       "\n",
       "        \n",
       "    \n",
       "    \n",
       "            var circle_marker_ba55132e236c341ad0415ef408f1ba5c = L.circleMarker(\n",
       "                [35.8885993, 14.4476911],\n",
       "                {&quot;bubblingMouseEvents&quot;: true, &quot;color&quot;: &quot;blue&quot;, &quot;dashArray&quot;: null, &quot;dashOffset&quot;: null, &quot;fill&quot;: true, &quot;fillColor&quot;: &quot;green&quot;, &quot;fillOpacity&quot;: 0.6, &quot;fillRule&quot;: &quot;evenodd&quot;, &quot;lineCap&quot;: &quot;round&quot;, &quot;lineJoin&quot;: &quot;round&quot;, &quot;opacity&quot;: 1.0, &quot;radius&quot;: 0.0013258800000000002, &quot;stroke&quot;: true, &quot;weight&quot;: 3}\n",
       "            ).addTo(map_90b99fe833f7fe3347746bcd37068972);\n",
       "        \n",
       "    \n",
       "        var popup_c23d6fceccdd8c98ec1d6a28e93cb767 = L.popup({&quot;maxWidth&quot;: &quot;100%&quot;});\n",
       "\n",
       "        \n",
       "            \n",
       "                var html_a3096ae556c15934908ae750d05af712 = $(`&lt;div id=&quot;html_a3096ae556c15934908ae750d05af712&quot; style=&quot;width: 100.0%; height: 100.0%;&quot;&gt;Malta: $1,325.88&lt;/div&gt;`)[0];\n",
       "                popup_c23d6fceccdd8c98ec1d6a28e93cb767.setContent(html_a3096ae556c15934908ae750d05af712);\n",
       "            \n",
       "        \n",
       "\n",
       "        circle_marker_ba55132e236c341ad0415ef408f1ba5c.bindPopup(popup_c23d6fceccdd8c98ec1d6a28e93cb767)\n",
       "        ;\n",
       "\n",
       "        \n",
       "    \n",
       "    \n",
       "            var circle_marker_763630ab1dd3eaa8a78812b639c4c26f = L.circleMarker(\n",
       "                [24.0002488, 53.9994829],\n",
       "                {&quot;bubblingMouseEvents&quot;: true, &quot;color&quot;: &quot;blue&quot;, &quot;dashArray&quot;: null, &quot;dashOffset&quot;: null, &quot;fill&quot;: true, &quot;fillColor&quot;: &quot;green&quot;, &quot;fillOpacity&quot;: 0.6, &quot;fillRule&quot;: &quot;evenodd&quot;, &quot;lineCap&quot;: &quot;round&quot;, &quot;lineJoin&quot;: &quot;round&quot;, &quot;opacity&quot;: 1.0, &quot;radius&quot;: 0.00106198, &quot;stroke&quot;: true, &quot;weight&quot;: 3}\n",
       "            ).addTo(map_90b99fe833f7fe3347746bcd37068972);\n",
       "        \n",
       "    \n",
       "        var popup_19a9c09174f6ffe2ed9aed26aaff9085 = L.popup({&quot;maxWidth&quot;: &quot;100%&quot;});\n",
       "\n",
       "        \n",
       "            \n",
       "                var html_6bc5e90be48a004f635a681d627187e0 = $(`&lt;div id=&quot;html_6bc5e90be48a004f635a681d627187e0&quot; style=&quot;width: 100.0%; height: 100.0%;&quot;&gt;United Arab Emirates: $1,061.98&lt;/div&gt;`)[0];\n",
       "                popup_19a9c09174f6ffe2ed9aed26aaff9085.setContent(html_6bc5e90be48a004f635a681d627187e0);\n",
       "            \n",
       "        \n",
       "\n",
       "        circle_marker_763630ab1dd3eaa8a78812b639c4c26f.bindPopup(popup_19a9c09174f6ffe2ed9aed26aaff9085)\n",
       "        ;\n",
       "\n",
       "        \n",
       "    \n",
       "    \n",
       "            var circle_marker_dfbd710a91f1596305e444b92ad2bb1d = L.circleMarker(\n",
       "                [55.3500003, 23.7499997],\n",
       "                {&quot;bubblingMouseEvents&quot;: true, &quot;color&quot;: &quot;blue&quot;, &quot;dashArray&quot;: null, &quot;dashOffset&quot;: null, &quot;fill&quot;: true, &quot;fillColor&quot;: &quot;green&quot;, &quot;fillOpacity&quot;: 0.6, &quot;fillRule&quot;: &quot;evenodd&quot;, &quot;lineCap&quot;: &quot;round&quot;, &quot;lineJoin&quot;: &quot;round&quot;, &quot;opacity&quot;: 1.0, &quot;radius&quot;: 0.0010271, &quot;stroke&quot;: true, &quot;weight&quot;: 3}\n",
       "            ).addTo(map_90b99fe833f7fe3347746bcd37068972);\n",
       "        \n",
       "    \n",
       "        var popup_445406c604951fffb359912ad7de5bcf = L.popup({&quot;maxWidth&quot;: &quot;100%&quot;});\n",
       "\n",
       "        \n",
       "            \n",
       "                var html_d13128d0d660d219c68b859f9005d129 = $(`&lt;div id=&quot;html_d13128d0d660d219c68b859f9005d129&quot; style=&quot;width: 100.0%; height: 100.0%;&quot;&gt;Lithuania: $1,027.10&lt;/div&gt;`)[0];\n",
       "                popup_445406c604951fffb359912ad7de5bcf.setContent(html_d13128d0d660d219c68b859f9005d129);\n",
       "            \n",
       "        \n",
       "\n",
       "        circle_marker_dfbd710a91f1596305e444b92ad2bb1d.bindPopup(popup_445406c604951fffb359912ad7de5bcf)\n",
       "        ;\n",
       "\n",
       "        \n",
       "    \n",
       "    \n",
       "            var circle_marker_c63fb12448f137ad658493ae22da5920 = L.circleMarker(\n",
       "                [40.375713, -76.4626118],\n",
       "                {&quot;bubblingMouseEvents&quot;: true, &quot;color&quot;: &quot;blue&quot;, &quot;dashArray&quot;: null, &quot;dashOffset&quot;: null, &quot;fill&quot;: true, &quot;fillColor&quot;: &quot;green&quot;, &quot;fillOpacity&quot;: 0.6, &quot;fillRule&quot;: &quot;evenodd&quot;, &quot;lineCap&quot;: &quot;round&quot;, &quot;lineJoin&quot;: &quot;round&quot;, &quot;opacity&quot;: 1.0, &quot;radius&quot;: 0.00097148, &quot;stroke&quot;: true, &quot;weight&quot;: 3}\n",
       "            ).addTo(map_90b99fe833f7fe3347746bcd37068972);\n",
       "        \n",
       "    \n",
       "        var popup_9c1fda9bc37bc96b2c79c0cab9ad5d9a = L.popup({&quot;maxWidth&quot;: &quot;100%&quot;});\n",
       "\n",
       "        \n",
       "            \n",
       "                var html_1a19ee5503366b92949792fab19c23c7 = $(`&lt;div id=&quot;html_1a19ee5503366b92949792fab19c23c7&quot; style=&quot;width: 100.0%; height: 100.0%;&quot;&gt;Lebanon: $971.48&lt;/div&gt;`)[0];\n",
       "                popup_9c1fda9bc37bc96b2c79c0cab9ad5d9a.setContent(html_1a19ee5503366b92949792fab19c23c7);\n",
       "            \n",
       "        \n",
       "\n",
       "        circle_marker_c63fb12448f137ad658493ae22da5920.bindPopup(popup_9c1fda9bc37bc96b2c79c0cab9ad5d9a)\n",
       "        ;\n",
       "\n",
       "        \n",
       "    \n",
       "    \n",
       "            var circle_marker_aaca5f7b9ace17be96c4e6c5bddca33d = L.circleMarker(\n",
       "                [39.7837304, -100.445882],\n",
       "                {&quot;bubblingMouseEvents&quot;: true, &quot;color&quot;: &quot;blue&quot;, &quot;dashArray&quot;: null, &quot;dashOffset&quot;: null, &quot;fill&quot;: true, &quot;fillColor&quot;: &quot;green&quot;, &quot;fillOpacity&quot;: 0.6, &quot;fillRule&quot;: &quot;evenodd&quot;, &quot;lineCap&quot;: &quot;round&quot;, &quot;lineJoin&quot;: &quot;round&quot;, &quot;opacity&quot;: 1.0, &quot;radius&quot;: 0.0009600499999999999, &quot;stroke&quot;: true, &quot;weight&quot;: 3}\n",
       "            ).addTo(map_90b99fe833f7fe3347746bcd37068972);\n",
       "        \n",
       "    \n",
       "        var popup_30fc33cf9d83bb24e780807c23b07e9a = L.popup({&quot;maxWidth&quot;: &quot;100%&quot;});\n",
       "\n",
       "        \n",
       "            \n",
       "                var html_fe5942dc1a8fbb8e8ccdce1b2ada38a9 = $(`&lt;div id=&quot;html_fe5942dc1a8fbb8e8ccdce1b2ada38a9&quot; style=&quot;width: 100.0%; height: 100.0%;&quot;&gt;USA: $960.05&lt;/div&gt;`)[0];\n",
       "                popup_30fc33cf9d83bb24e780807c23b07e9a.setContent(html_fe5942dc1a8fbb8e8ccdce1b2ada38a9);\n",
       "            \n",
       "        \n",
       "\n",
       "        circle_marker_aaca5f7b9ace17be96c4e6c5bddca33d.bindPopup(popup_30fc33cf9d83bb24e780807c23b07e9a)\n",
       "        ;\n",
       "\n",
       "        \n",
       "    \n",
       "    \n",
       "            var circle_marker_1b5537acbb630021ab1fef49caa6ef8a = L.circleMarker(\n",
       "                [24.2222445, 120.6898197],\n",
       "                {&quot;bubblingMouseEvents&quot;: true, &quot;color&quot;: &quot;blue&quot;, &quot;dashArray&quot;: null, &quot;dashOffset&quot;: null, &quot;fill&quot;: true, &quot;fillColor&quot;: &quot;green&quot;, &quot;fillOpacity&quot;: 0.6, &quot;fillRule&quot;: &quot;evenodd&quot;, &quot;lineCap&quot;: &quot;round&quot;, &quot;lineJoin&quot;: &quot;round&quot;, &quot;opacity&quot;: 1.0, &quot;radius&quot;: 0.0009114500000000001, &quot;stroke&quot;: true, &quot;weight&quot;: 3}\n",
       "            ).addTo(map_90b99fe833f7fe3347746bcd37068972);\n",
       "        \n",
       "    \n",
       "        var popup_66ee49640190cb70f7842cebf16901d3 = L.popup({&quot;maxWidth&quot;: &quot;100%&quot;});\n",
       "\n",
       "        \n",
       "            \n",
       "                var html_ac93abe0b3bad69001c417a7b5123578 = $(`&lt;div id=&quot;html_ac93abe0b3bad69001c417a7b5123578&quot; style=&quot;width: 100.0%; height: 100.0%;&quot;&gt;European Community: $911.45&lt;/div&gt;`)[0];\n",
       "                popup_66ee49640190cb70f7842cebf16901d3.setContent(html_ac93abe0b3bad69001c417a7b5123578);\n",
       "            \n",
       "        \n",
       "\n",
       "        circle_marker_1b5537acbb630021ab1fef49caa6ef8a.bindPopup(popup_66ee49640190cb70f7842cebf16901d3)\n",
       "        ;\n",
       "\n",
       "        \n",
       "    \n",
       "    \n",
       "            var circle_marker_ce0f5cdee9877d45479cdac59758f3bb = L.circleMarker(\n",
       "                [36.5748441, 139.2394179],\n",
       "                {&quot;bubblingMouseEvents&quot;: true, &quot;color&quot;: &quot;blue&quot;, &quot;dashArray&quot;: null, &quot;dashOffset&quot;: null, &quot;fill&quot;: true, &quot;fillColor&quot;: &quot;green&quot;, &quot;fillOpacity&quot;: 0.6, &quot;fillRule&quot;: &quot;evenodd&quot;, &quot;lineCap&quot;: &quot;round&quot;, &quot;lineJoin&quot;: &quot;round&quot;, &quot;opacity&quot;: 1.0, &quot;radius&quot;: 0.0008549300000000001, &quot;stroke&quot;: true, &quot;weight&quot;: 3}\n",
       "            ).addTo(map_90b99fe833f7fe3347746bcd37068972);\n",
       "        \n",
       "    \n",
       "        var popup_c4ac481a5b4c1a2359374d242719f3e3 = L.popup({&quot;maxWidth&quot;: &quot;100%&quot;});\n",
       "\n",
       "        \n",
       "            \n",
       "                var html_116e27be8fb6a0b1069e7355a2c435f2 = $(`&lt;div id=&quot;html_116e27be8fb6a0b1069e7355a2c435f2&quot; style=&quot;width: 100.0%; height: 100.0%;&quot;&gt;Japan: $854.93&lt;/div&gt;`)[0];\n",
       "                popup_c4ac481a5b4c1a2359374d242719f3e3.setContent(html_116e27be8fb6a0b1069e7355a2c435f2);\n",
       "            \n",
       "        \n",
       "\n",
       "        circle_marker_ce0f5cdee9877d45479cdac59758f3bb.bindPopup(popup_c4ac481a5b4c1a2359374d242719f3e3)\n",
       "        ;\n",
       "\n",
       "        \n",
       "    \n",
       "    \n",
       "            var circle_marker_152bb62b87703368608a6ae713ac143b = L.circleMarker(\n",
       "                [-28.8166236, 24.991639],\n",
       "                {&quot;bubblingMouseEvents&quot;: true, &quot;color&quot;: &quot;blue&quot;, &quot;dashArray&quot;: null, &quot;dashOffset&quot;: null, &quot;fill&quot;: true, &quot;fillColor&quot;: &quot;green&quot;, &quot;fillOpacity&quot;: 0.6, &quot;fillRule&quot;: &quot;evenodd&quot;, &quot;lineCap&quot;: &quot;round&quot;, &quot;lineJoin&quot;: &quot;round&quot;, &quot;opacity&quot;: 1.0, &quot;radius&quot;: 0.00078386, &quot;stroke&quot;: true, &quot;weight&quot;: 3}\n",
       "            ).addTo(map_90b99fe833f7fe3347746bcd37068972);\n",
       "        \n",
       "    \n",
       "        var popup_5dd4bdfe435eb0ad20543c038cfefae3 = L.popup({&quot;maxWidth&quot;: &quot;100%&quot;});\n",
       "\n",
       "        \n",
       "            \n",
       "                var html_7a542b74be7dc62be6e4c2e2d8b1f855 = $(`&lt;div id=&quot;html_7a542b74be7dc62be6e4c2e2d8b1f855&quot; style=&quot;width: 100.0%; height: 100.0%;&quot;&gt;RSA: $783.86&lt;/div&gt;`)[0];\n",
       "                popup_5dd4bdfe435eb0ad20543c038cfefae3.setContent(html_7a542b74be7dc62be6e4c2e2d8b1f855);\n",
       "            \n",
       "        \n",
       "\n",
       "        circle_marker_152bb62b87703368608a6ae713ac143b.bindPopup(popup_5dd4bdfe435eb0ad20543c038cfefae3)\n",
       "        ;\n",
       "\n",
       "        \n",
       "    \n",
       "    \n",
       "            var circle_marker_997ad5c509b3a0f16e89deb404bb886b = L.circleMarker(\n",
       "                [-10.3333333, -53.2],\n",
       "                {&quot;bubblingMouseEvents&quot;: true, &quot;color&quot;: &quot;blue&quot;, &quot;dashArray&quot;: null, &quot;dashOffset&quot;: null, &quot;fill&quot;: true, &quot;fillColor&quot;: &quot;green&quot;, &quot;fillOpacity&quot;: 0.6, &quot;fillRule&quot;: &quot;evenodd&quot;, &quot;lineCap&quot;: &quot;round&quot;, &quot;lineJoin&quot;: &quot;round&quot;, &quot;opacity&quot;: 1.0, &quot;radius&quot;: 0.00052344, &quot;stroke&quot;: true, &quot;weight&quot;: 3}\n",
       "            ).addTo(map_90b99fe833f7fe3347746bcd37068972);\n",
       "        \n",
       "    \n",
       "        var popup_a9d3494a3cee6514e75b9c6c73fedb50 = L.popup({&quot;maxWidth&quot;: &quot;100%&quot;});\n",
       "\n",
       "        \n",
       "            \n",
       "                var html_30fe7ba3b603cad5ffd07a4c551b9835 = $(`&lt;div id=&quot;html_30fe7ba3b603cad5ffd07a4c551b9835&quot; style=&quot;width: 100.0%; height: 100.0%;&quot;&gt;Brazil: $523.44&lt;/div&gt;`)[0];\n",
       "                popup_a9d3494a3cee6514e75b9c6c73fedb50.setContent(html_30fe7ba3b603cad5ffd07a4c551b9835);\n",
       "            \n",
       "        \n",
       "\n",
       "        circle_marker_997ad5c509b3a0f16e89deb404bb886b.bindPopup(popup_a9d3494a3cee6514e75b9c6c73fedb50)\n",
       "        ;\n",
       "\n",
       "        \n",
       "    \n",
       "    \n",
       "            var circle_marker_af0d632adaedb3d4780a7e6f92781e6b = L.circleMarker(\n",
       "                [26.030093, 50.553336789123236],\n",
       "                {&quot;bubblingMouseEvents&quot;: true, &quot;color&quot;: &quot;blue&quot;, &quot;dashArray&quot;: null, &quot;dashOffset&quot;: null, &quot;fill&quot;: true, &quot;fillColor&quot;: &quot;green&quot;, &quot;fillOpacity&quot;: 0.6, &quot;fillRule&quot;: &quot;evenodd&quot;, &quot;lineCap&quot;: &quot;round&quot;, &quot;lineJoin&quot;: &quot;round&quot;, &quot;opacity&quot;: 1.0, &quot;radius&quot;: 0.00021830000000000002, &quot;stroke&quot;: true, &quot;weight&quot;: 3}\n",
       "            ).addTo(map_90b99fe833f7fe3347746bcd37068972);\n",
       "        \n",
       "    \n",
       "        var popup_e97f7d1917f838b65f5af98a9d321489 = L.popup({&quot;maxWidth&quot;: &quot;100%&quot;});\n",
       "\n",
       "        \n",
       "            \n",
       "                var html_833c8a23e23a40acc9190f7e25bbeb8f = $(`&lt;div id=&quot;html_833c8a23e23a40acc9190f7e25bbeb8f&quot; style=&quot;width: 100.0%; height: 100.0%;&quot;&gt;Bahrain: $218.30&lt;/div&gt;`)[0];\n",
       "                popup_e97f7d1917f838b65f5af98a9d321489.setContent(html_833c8a23e23a40acc9190f7e25bbeb8f);\n",
       "            \n",
       "        \n",
       "\n",
       "        circle_marker_af0d632adaedb3d4780a7e6f92781e6b.bindPopup(popup_e97f7d1917f838b65f5af98a9d321489)\n",
       "        ;\n",
       "\n",
       "        \n",
       "    \n",
       "    \n",
       "            var circle_marker_c343dbc3d5da3a7e7274b9635067c929 = L.circleMarker(\n",
       "                [49.7439047, 15.3381061],\n",
       "                {&quot;bubblingMouseEvents&quot;: true, &quot;color&quot;: &quot;blue&quot;, &quot;dashArray&quot;: null, &quot;dashOffset&quot;: null, &quot;fill&quot;: true, &quot;fillColor&quot;: &quot;green&quot;, &quot;fillOpacity&quot;: 0.6, &quot;fillRule&quot;: &quot;evenodd&quot;, &quot;lineCap&quot;: &quot;round&quot;, &quot;lineJoin&quot;: &quot;round&quot;, &quot;opacity&quot;: 1.0, &quot;radius&quot;: 0.0002063, &quot;stroke&quot;: true, &quot;weight&quot;: 3}\n",
       "            ).addTo(map_90b99fe833f7fe3347746bcd37068972);\n",
       "        \n",
       "    \n",
       "        var popup_c1226bc71c2c25df8c574bffcb5ac068 = L.popup({&quot;maxWidth&quot;: &quot;100%&quot;});\n",
       "\n",
       "        \n",
       "            \n",
       "                var html_6272b54ebe1e2cd81bff1f284709753f = $(`&lt;div id=&quot;html_6272b54ebe1e2cd81bff1f284709753f&quot; style=&quot;width: 100.0%; height: 100.0%;&quot;&gt;Czech Republic: $206.30&lt;/div&gt;`)[0];\n",
       "                popup_c1226bc71c2c25df8c574bffcb5ac068.setContent(html_6272b54ebe1e2cd81bff1f284709753f);\n",
       "            \n",
       "        \n",
       "\n",
       "        circle_marker_c343dbc3d5da3a7e7274b9635067c929.bindPopup(popup_c1226bc71c2c25df8c574bffcb5ac068)\n",
       "        ;\n",
       "\n",
       "        \n",
       "    \n",
       "    \n",
       "            var circle_marker_4dd34a95b2f533637bf106782e1aed0a = L.circleMarker(\n",
       "                [25.6242618, 42.3528328],\n",
       "                {&quot;bubblingMouseEvents&quot;: true, &quot;color&quot;: &quot;blue&quot;, &quot;dashArray&quot;: null, &quot;dashOffset&quot;: null, &quot;fill&quot;: true, &quot;fillColor&quot;: &quot;green&quot;, &quot;fillOpacity&quot;: 0.6, &quot;fillRule&quot;: &quot;evenodd&quot;, &quot;lineCap&quot;: &quot;round&quot;, &quot;lineJoin&quot;: &quot;round&quot;, &quot;opacity&quot;: 1.0, &quot;radius&quot;: 0.00013116999999999998, &quot;stroke&quot;: true, &quot;weight&quot;: 3}\n",
       "            ).addTo(map_90b99fe833f7fe3347746bcd37068972);\n",
       "        \n",
       "    \n",
       "        var popup_d34ad9c7eabebf1a9d0a632f9edaeeb3 = L.popup({&quot;maxWidth&quot;: &quot;100%&quot;});\n",
       "\n",
       "        \n",
       "            \n",
       "                var html_d6e160d99af0cb56dbd9b2c77926cbd3 = $(`&lt;div id=&quot;html_d6e160d99af0cb56dbd9b2c77926cbd3&quot; style=&quot;width: 100.0%; height: 100.0%;&quot;&gt;Saudi Arabia: $131.17&lt;/div&gt;`)[0];\n",
       "                popup_d34ad9c7eabebf1a9d0a632f9edaeeb3.setContent(html_d6e160d99af0cb56dbd9b2c77926cbd3);\n",
       "            \n",
       "        \n",
       "\n",
       "        circle_marker_4dd34a95b2f533637bf106782e1aed0a.bindPopup(popup_d34ad9c7eabebf1a9d0a632f9edaeeb3)\n",
       "        ;\n",
       "\n",
       "        \n",
       "    \n",
       "    \n",
       "            tile_layer_231c96dc3ea05f2a25d9e3885e295fd5.addTo(map_90b99fe833f7fe3347746bcd37068972);\n",
       "        \n",
       "&lt;/script&gt;\n",
       "&lt;/html&gt;\" style=\"position:absolute;width:100%;height:100%;left:0;top:0;border:none !important;\" allowfullscreen webkitallowfullscreen mozallowfullscreen></iframe></div></div>"
      ],
      "text/plain": [
       "<folium.folium.Map at 0x1a7bb71c650>"
      ]
     },
     "execution_count": 93,
     "metadata": {},
     "output_type": "execute_result"
    }
   ],
   "source": [
    "import pandas as pd\n",
    "import folium\n",
    "from geopy.geocoders import Nominatim # geopy is used to get latitude and longi of each country and nominatim is api which provide service for requesting from server named OpenStreetMap server.\n",
    "                                    # and this server returns lat and log of each countries\n",
    "# Assuming you already have the countrywise_sales data\n",
    "countrywise_sales = newdff.groupby('Country')['Total_spending'].sum().sort_values(ascending=False)\n",
    "\n",
    "# Convert to a DataFrame\n",
    "country_sales_df = countrywise_sales.reset_index()\n",
    "country_sales_df.columns = ['Country', 'Total_Spending']\n",
    "\n",
    "# Initialize Geolocator\n",
    "geolocator = Nominatim(user_agent=\"geoapiExercisesbuddy\")  # we are creating object named geolocotor also creating different id to identify us from server\n",
    "\n",
    "# Function to get latitude and longitude\n",
    "def get_lat_long(country):\n",
    "    try:\n",
    "        location = geolocator.geocode(country)\n",
    "        return location.latitude, location.longitude\n",
    "    except:\n",
    "        return None, None\n",
    "\n",
    "# Create new columns for Latitude and Longitude\n",
    "country_sales_df['Latitude'] = country_sales_df['Country'].apply(lambda x: get_lat_long(x)[0])\n",
    "country_sales_df['Longitude'] = country_sales_df['Country'].apply(lambda x: get_lat_long(x)[1])\n",
    "\n",
    "# Remove rows with missing coordinates\n",
    "country_sales_df.dropna(subset=['Latitude', 'Longitude'], inplace=True)\n",
    "\n",
    "# Initialize a Folium map centered around a global location\n",
    "map_revenue = folium.Map(location=[20, 0], zoom_start=2)\n",
    "\n",
    "# Add country markers to the map\n",
    "for index, row in country_sales_df.iterrows(): # iterrows() gives values of each countries like country name in index and pandas series( o whole row of cols,revenue,coordinates)\n",
    "    folium.CircleMarker(\n",
    "        location=[row['Latitude'], row['Longitude']],# it is used to access the values from row which we discussed above\n",
    "        radius=row['Total_Spending'] / 1e6,  # Adjust radius for visibility , here we are dividing from 100000\n",
    "        color='blue',\n",
    "        fill=True,\n",
    "        fill_color='green',\n",
    "        fill_opacity=0.6,\n",
    "        popup=f\"{row['Country']}: ${row['Total_Spending']:,.2f}\"\n",
    "    ).add_to(map_revenue)\n",
    "\n",
    "# Show the map\n",
    "map_revenue.save(\"Countrywise_Revenue_Map.html\")\n",
    "map_revenue\n"
   ]
  },
  {
   "cell_type": "code",
   "execution_count": 94,
   "id": "8c703d7f-4abb-4b40-9034-e97319efed74",
   "metadata": {},
   "outputs": [
    {
     "data": {
      "text/html": [
       "<div>\n",
       "<style scoped>\n",
       "    .dataframe tbody tr th:only-of-type {\n",
       "        vertical-align: middle;\n",
       "    }\n",
       "\n",
       "    .dataframe tbody tr th {\n",
       "        vertical-align: top;\n",
       "    }\n",
       "\n",
       "    .dataframe thead th {\n",
       "        text-align: right;\n",
       "    }\n",
       "</style>\n",
       "<table border=\"1\" class=\"dataframe\">\n",
       "  <thead>\n",
       "    <tr style=\"text-align: right;\">\n",
       "      <th></th>\n",
       "      <th>InvoiceNo</th>\n",
       "      <th>StockCode</th>\n",
       "      <th>Description</th>\n",
       "      <th>Quantity</th>\n",
       "      <th>InvoiceDate</th>\n",
       "      <th>UnitPrice</th>\n",
       "      <th>CustomerID</th>\n",
       "      <th>Country</th>\n",
       "      <th>revenue</th>\n",
       "    </tr>\n",
       "  </thead>\n",
       "  <tbody>\n",
       "    <tr>\n",
       "      <th>9</th>\n",
       "      <td>536367</td>\n",
       "      <td>84879</td>\n",
       "      <td>ASSORTED COLOUR BIRD ORNAMENT</td>\n",
       "      <td>32</td>\n",
       "      <td>2010-12-01 08:34:00</td>\n",
       "      <td>1.69</td>\n",
       "      <td>13047.0</td>\n",
       "      <td>United Kingdom</td>\n",
       "      <td>54.08</td>\n",
       "    </tr>\n",
       "  </tbody>\n",
       "</table>\n",
       "</div>"
      ],
      "text/plain": [
       "  InvoiceNo StockCode                    Description  Quantity  \\\n",
       "9    536367     84879  ASSORTED COLOUR BIRD ORNAMENT        32   \n",
       "\n",
       "          InvoiceDate  UnitPrice  CustomerID         Country  revenue  \n",
       "9 2010-12-01 08:34:00       1.69     13047.0  United Kingdom    54.08  "
      ]
     },
     "execution_count": 94,
     "metadata": {},
     "output_type": "execute_result"
    }
   ],
   "source": [
    " # now will remove some insights from outliers\n",
    "# first will find top 5%  vip customers from our outliers\n",
    "\n",
    "outlierdf['revenue']= outlierdf['Quantity']*outlierdf['UnitPrice']\n",
    "outlierdf.head(1)"
   ]
  },
  {
   "cell_type": "code",
   "execution_count": 95,
   "id": "6e1bcf7e-85d8-4d6b-98b7-5e5c571d3e50",
   "metadata": {},
   "outputs": [
    {
     "name": "stdout",
     "output_type": "stream",
     "text": [
      "CustomerID\n",
      "-1.0        355747.54\n",
      " 12346.0         0.00\n",
      " 12347.0      1212.18\n",
      " 12348.0      1780.24\n",
      " 12349.0       471.35\n",
      "              ...    \n",
      " 18274.0       -14.22\n",
      " 18276.0        83.40\n",
      " 18277.0         6.96\n",
      " 18282.0        13.92\n",
      " 18287.0      1231.80\n",
      "Name: revenue, Length: 3619, dtype: float64\n"
     ]
    }
   ],
   "source": [
    "# calculate total spending by each customer\n",
    "customer_total_spendings= outlierdf.groupby('CustomerID')['revenue'].sum()\n",
    "print(customer_total_spendings)"
   ]
  },
  {
   "cell_type": "code",
   "execution_count": 96,
   "id": "1ee45c21-7945-4c84-99e7-6d3a6190eec0",
   "metadata": {},
   "outputs": [
    {
     "name": "stdout",
     "output_type": "stream",
     "text": [
      "2693.0039999999985\n"
     ]
    }
   ],
   "source": [
    "# now set the threshhold for top 5%\n",
    "threshhold_value=customer_total_spendings.quantile(0.95)\n",
    "print(threshhold_value)"
   ]
  },
  {
   "cell_type": "code",
   "execution_count": 97,
   "id": "462a6718-cb7b-4d6b-b315-44ebfb9a2ba5",
   "metadata": {},
   "outputs": [
    {
     "name": "stdout",
     "output_type": "stream",
     "text": [
      "CustomerID\n",
      "-1.0        355747.54\n",
      " 12357.0      3316.66\n",
      " 12409.0      9286.12\n",
      " 12415.0    120176.11\n",
      " 12433.0      7951.90\n",
      "              ...    \n",
      " 18102.0    251917.33\n",
      " 18139.0      7549.62\n",
      " 18172.0      3946.24\n",
      " 18198.0      3210.14\n",
      " 18251.0      4314.72\n",
      "Name: revenue, Length: 181, dtype: float64\n"
     ]
    }
   ],
   "source": [
    "vip_customer=customer_total_spendings[customer_total_spendings>=threshhold_value]\n",
    "nonvip_customer=customer_total_spendings[customer_total_spendings<threshhold_value]\n",
    "print(vip_customer)"
   ]
  },
  {
   "cell_type": "code",
   "execution_count": 98,
   "id": "fae1757f-ed4f-440a-9b84-01ad4e542bf1",
   "metadata": {},
   "outputs": [
    {
     "name": "stdout",
     "output_type": "stream",
     "text": [
      "181\n",
      "3438\n"
     ]
    }
   ],
   "source": [
    "num_of_vip =vip_customer.count()\n",
    "num_of_normal= nonvip_customer.count()\n",
    "print(num_of_vip)\n",
    "print(num_of_normal)"
   ]
  },
  {
   "cell_type": "code",
   "execution_count": 99,
   "id": "e6adb570-30c3-4517-975d-8f5cd32f614d",
   "metadata": {},
   "outputs": [],
   "source": [
    "#During which months vips make the most purchases.\n",
    "vipdf= outlierdf[outlierdf['CustomerID'].isin(vip_customer.index)]"
   ]
  },
  {
   "cell_type": "code",
   "execution_count": 100,
   "id": "84222c73-e234-4ee9-91fb-a626362706be",
   "metadata": {},
   "outputs": [
    {
     "data": {
      "text/html": [
       "<div>\n",
       "<style scoped>\n",
       "    .dataframe tbody tr th:only-of-type {\n",
       "        vertical-align: middle;\n",
       "    }\n",
       "\n",
       "    .dataframe tbody tr th {\n",
       "        vertical-align: top;\n",
       "    }\n",
       "\n",
       "    .dataframe thead th {\n",
       "        text-align: right;\n",
       "    }\n",
       "</style>\n",
       "<table border=\"1\" class=\"dataframe\">\n",
       "  <thead>\n",
       "    <tr style=\"text-align: right;\">\n",
       "      <th></th>\n",
       "      <th>InvoiceNo</th>\n",
       "      <th>StockCode</th>\n",
       "      <th>Description</th>\n",
       "      <th>Quantity</th>\n",
       "      <th>InvoiceDate</th>\n",
       "      <th>UnitPrice</th>\n",
       "      <th>CustomerID</th>\n",
       "      <th>Country</th>\n",
       "      <th>revenue</th>\n",
       "    </tr>\n",
       "  </thead>\n",
       "  <tbody>\n",
       "    <tr>\n",
       "      <th>26</th>\n",
       "      <td>536370</td>\n",
       "      <td>22728</td>\n",
       "      <td>ALARM CLOCK BAKELIKE PINK</td>\n",
       "      <td>24</td>\n",
       "      <td>2010-12-01 08:45:00</td>\n",
       "      <td>3.75</td>\n",
       "      <td>12583.0</td>\n",
       "      <td>France</td>\n",
       "      <td>90.0</td>\n",
       "    </tr>\n",
       "  </tbody>\n",
       "</table>\n",
       "</div>"
      ],
      "text/plain": [
       "   InvoiceNo StockCode                Description  Quantity  \\\n",
       "26    536370     22728  ALARM CLOCK BAKELIKE PINK        24   \n",
       "\n",
       "           InvoiceDate  UnitPrice  CustomerID Country  revenue  \n",
       "26 2010-12-01 08:45:00       3.75     12583.0  France     90.0  "
      ]
     },
     "execution_count": 100,
     "metadata": {},
     "output_type": "execute_result"
    }
   ],
   "source": [
    "vipdf.head(1)"
   ]
  },
  {
   "cell_type": "code",
   "execution_count": 101,
   "id": "1dc6b50b-f28c-490b-b79b-8bf4af03934d",
   "metadata": {},
   "outputs": [
    {
     "name": "stderr",
     "output_type": "stream",
     "text": [
      "C:\\Users\\admin\\AppData\\Local\\Temp\\ipykernel_12420\\1520124074.py:1: SettingWithCopyWarning: \n",
      "A value is trying to be set on a copy of a slice from a DataFrame.\n",
      "Try using .loc[row_indexer,col_indexer] = value instead\n",
      "\n",
      "See the caveats in the documentation: https://pandas.pydata.org/pandas-docs/stable/user_guide/indexing.html#returning-a-view-versus-a-copy\n",
      "  vipdf['monthyear']= vipdf['InvoiceDate'].dt.to_period('M')\n"
     ]
    }
   ],
   "source": [
    "vipdf['monthyear']= vipdf['InvoiceDate'].dt.to_period('M')\n",
    "monthly_vip_sales= vipdf.groupby('monthyear')['revenue'].sum()\n"
   ]
  },
  {
   "cell_type": "code",
   "execution_count": 102,
   "id": "843da780-7391-47c5-8d55-f6b58ee83a78",
   "metadata": {},
   "outputs": [
    {
     "name": "stdout",
     "output_type": "stream",
     "text": [
      "StockCode\n",
      "DOT       206065.97\n",
      "22423      81185.95\n",
      "85123A     65171.36\n",
      "85099B     60121.77\n",
      "23084      56985.79\n",
      "47566      54800.20\n",
      "22086      43569.68\n",
      "22197      43011.28\n",
      "22502      41670.00\n",
      "84879      39765.11\n",
      "Name: revenue, dtype: float64\n"
     ]
    }
   ],
   "source": [
    "# Group by product categories and calculate total spending\n",
    "product_sales = outlierdf.groupby('StockCode')['revenue'].sum().sort_values(ascending=False)\n",
    "\n",
    "print(product_sales.head(10))  # Top 10 product categories\n"
   ]
  },
  {
   "cell_type": "code",
   "execution_count": 103,
   "id": "6f7b57ce-c5fc-4707-bbfa-7d3d4081659b",
   "metadata": {},
   "outputs": [],
   "source": [
    "outlierdf['monthyear']=outlierdf['InvoiceDate'].dt.to_period('M')  "
   ]
  },
  {
   "cell_type": "code",
   "execution_count": 104,
   "id": "5b0ff1ab-2a43-4ec8-9274-f80b186c21bb",
   "metadata": {},
   "outputs": [
    {
     "data": {
      "text/html": [
       "<div>\n",
       "<style scoped>\n",
       "    .dataframe tbody tr th:only-of-type {\n",
       "        vertical-align: middle;\n",
       "    }\n",
       "\n",
       "    .dataframe tbody tr th {\n",
       "        vertical-align: top;\n",
       "    }\n",
       "\n",
       "    .dataframe thead th {\n",
       "        text-align: right;\n",
       "    }\n",
       "</style>\n",
       "<table border=\"1\" class=\"dataframe\">\n",
       "  <thead>\n",
       "    <tr style=\"text-align: right;\">\n",
       "      <th></th>\n",
       "      <th>InvoiceNo</th>\n",
       "      <th>StockCode</th>\n",
       "      <th>Description</th>\n",
       "      <th>Quantity</th>\n",
       "      <th>InvoiceDate</th>\n",
       "      <th>UnitPrice</th>\n",
       "      <th>CustomerID</th>\n",
       "      <th>Country</th>\n",
       "      <th>revenue</th>\n",
       "      <th>monthyear</th>\n",
       "    </tr>\n",
       "  </thead>\n",
       "  <tbody>\n",
       "    <tr>\n",
       "      <th>9</th>\n",
       "      <td>536367</td>\n",
       "      <td>84879</td>\n",
       "      <td>ASSORTED COLOUR BIRD ORNAMENT</td>\n",
       "      <td>32</td>\n",
       "      <td>2010-12-01 08:34:00</td>\n",
       "      <td>1.69</td>\n",
       "      <td>13047.0</td>\n",
       "      <td>United Kingdom</td>\n",
       "      <td>54.08</td>\n",
       "      <td>2010-12</td>\n",
       "    </tr>\n",
       "  </tbody>\n",
       "</table>\n",
       "</div>"
      ],
      "text/plain": [
       "  InvoiceNo StockCode                    Description  Quantity  \\\n",
       "9    536367     84879  ASSORTED COLOUR BIRD ORNAMENT        32   \n",
       "\n",
       "          InvoiceDate  UnitPrice  CustomerID         Country  revenue  \\\n",
       "9 2010-12-01 08:34:00       1.69     13047.0  United Kingdom    54.08   \n",
       "\n",
       "  monthyear  \n",
       "9   2010-12  "
      ]
     },
     "execution_count": 104,
     "metadata": {},
     "output_type": "execute_result"
    }
   ],
   "source": [
    "outlierdf.head(1)"
   ]
  },
  {
   "cell_type": "code",
   "execution_count": 105,
   "id": "355a0d9d-1d1e-4af8-89d2-10eb05ce6503",
   "metadata": {},
   "outputs": [],
   "source": [
    "monthly_outlier_sales= outlierdf.groupby('monthyear')['revenue'].sum()"
   ]
  },
  {
   "cell_type": "code",
   "execution_count": 106,
   "id": "8c85bc38-d006-424c-a79f-a7899e79c67f",
   "metadata": {},
   "outputs": [
    {
     "data": {
      "text/plain": [
       "monthyear\n",
       "2010-12    316696.85\n",
       "2011-01    222295.14\n",
       "Freq: M, Name: revenue, dtype: float64"
      ]
     },
     "execution_count": 106,
     "metadata": {},
     "output_type": "execute_result"
    }
   ],
   "source": [
    "monthly_outlier_sales.head(2)"
   ]
  },
  {
   "cell_type": "code",
   "execution_count": null,
   "id": "58c68151-da5b-4ed5-a2d5-1d4b54feacb0",
   "metadata": {},
   "outputs": [],
   "source": []
  },
  {
   "cell_type": "code",
   "execution_count": null,
   "id": "8bdcd8d6-732c-4ae2-9f73-7059808b5d4c",
   "metadata": {},
   "outputs": [],
   "source": []
  },
  {
   "cell_type": "code",
   "execution_count": null,
   "id": "c9fe5f4a-25d6-45e3-9819-b5e1d58a04a5",
   "metadata": {},
   "outputs": [],
   "source": []
  },
  {
   "cell_type": "code",
   "execution_count": 137,
   "id": "d0f389fb-64a3-40cf-9b0f-d19e3b5ae3ad",
   "metadata": {},
   "outputs": [],
   "source": [
    "# Convert customer_segments Series to a DataFrame\n",
    "customer_segments_df = customer_segments.reset_index()\n",
    "\n",
    "# Rename columns for clarity\n",
    "customer_segments_df.columns = ['CustomerID', 'Segment']\n"
   ]
  },
  {
   "cell_type": "code",
   "execution_count": 141,
   "id": "4bcb94f7-d0cf-44b0-8d7b-81d85da2801c",
   "metadata": {},
   "outputs": [],
   "source": [
    "customer_spending_df= customer_spending.reset_index()\n",
    "customer_spending_df.columns  =    ['CustomerID','Total_spending']\n"
   ]
  },
  {
   "cell_type": "code",
   "execution_count": 143,
   "id": "4c045a91-be08-4497-aaaf-75638f1ac0d8",
   "metadata": {},
   "outputs": [
    {
     "data": {
      "text/html": [
       "<div>\n",
       "<style scoped>\n",
       "    .dataframe tbody tr th:only-of-type {\n",
       "        vertical-align: middle;\n",
       "    }\n",
       "\n",
       "    .dataframe tbody tr th {\n",
       "        vertical-align: top;\n",
       "    }\n",
       "\n",
       "    .dataframe thead th {\n",
       "        text-align: right;\n",
       "    }\n",
       "</style>\n",
       "<table border=\"1\" class=\"dataframe\">\n",
       "  <thead>\n",
       "    <tr style=\"text-align: right;\">\n",
       "      <th></th>\n",
       "      <th>CustomerID</th>\n",
       "      <th>Total_spending</th>\n",
       "      <th>Segment</th>\n",
       "    </tr>\n",
       "  </thead>\n",
       "  <tbody>\n",
       "    <tr>\n",
       "      <th>0</th>\n",
       "      <td>-1.0</td>\n",
       "      <td>838188.95</td>\n",
       "      <td>Very High</td>\n",
       "    </tr>\n",
       "    <tr>\n",
       "      <th>1</th>\n",
       "      <td>12347.0</td>\n",
       "      <td>2866.77</td>\n",
       "      <td>Very High</td>\n",
       "    </tr>\n",
       "    <tr>\n",
       "      <th>2</th>\n",
       "      <td>12348.0</td>\n",
       "      <td>17.00</td>\n",
       "      <td>Low</td>\n",
       "    </tr>\n",
       "    <tr>\n",
       "      <th>3</th>\n",
       "      <td>12349.0</td>\n",
       "      <td>1155.75</td>\n",
       "      <td>Very High</td>\n",
       "    </tr>\n",
       "    <tr>\n",
       "      <th>4</th>\n",
       "      <td>12350.0</td>\n",
       "      <td>274.00</td>\n",
       "      <td>Medium</td>\n",
       "    </tr>\n",
       "    <tr>\n",
       "      <th>...</th>\n",
       "      <td>...</td>\n",
       "      <td>...</td>\n",
       "      <td>...</td>\n",
       "    </tr>\n",
       "    <tr>\n",
       "      <th>4195</th>\n",
       "      <td>18280.0</td>\n",
       "      <td>160.70</td>\n",
       "      <td>Medium</td>\n",
       "    </tr>\n",
       "    <tr>\n",
       "      <th>4196</th>\n",
       "      <td>18281.0</td>\n",
       "      <td>46.92</td>\n",
       "      <td>Low</td>\n",
       "    </tr>\n",
       "    <tr>\n",
       "      <th>4197</th>\n",
       "      <td>18282.0</td>\n",
       "      <td>111.68</td>\n",
       "      <td>Medium</td>\n",
       "    </tr>\n",
       "    <tr>\n",
       "      <th>4198</th>\n",
       "      <td>18283.0</td>\n",
       "      <td>2002.63</td>\n",
       "      <td>Very High</td>\n",
       "    </tr>\n",
       "    <tr>\n",
       "      <th>4199</th>\n",
       "      <td>18287.0</td>\n",
       "      <td>571.48</td>\n",
       "      <td>High</td>\n",
       "    </tr>\n",
       "  </tbody>\n",
       "</table>\n",
       "<p>4200 rows × 3 columns</p>\n",
       "</div>"
      ],
      "text/plain": [
       "      CustomerID  Total_spending    Segment\n",
       "0           -1.0       838188.95  Very High\n",
       "1        12347.0         2866.77  Very High\n",
       "2        12348.0           17.00        Low\n",
       "3        12349.0         1155.75  Very High\n",
       "4        12350.0          274.00     Medium\n",
       "...          ...             ...        ...\n",
       "4195     18280.0          160.70     Medium\n",
       "4196     18281.0           46.92        Low\n",
       "4197     18282.0          111.68     Medium\n",
       "4198     18283.0         2002.63  Very High\n",
       "4199     18287.0          571.48       High\n",
       "\n",
       "[4200 rows x 3 columns]"
      ]
     },
     "execution_count": 143,
     "metadata": {},
     "output_type": "execute_result"
    }
   ],
   "source": [
    "# Combine customer spending DataFrame with customer segment DataFrame\n",
    "combined_df = pd.merge(customer_spending_df, customer_segments_df, on='CustomerID', how='left')\n",
    "combined_df"
   ]
  },
  {
   "cell_type": "code",
   "execution_count": 145,
   "id": "a222b7f1-13d1-491d-bddf-2fccc2d1a9f3",
   "metadata": {},
   "outputs": [],
   "source": [
    "# Extract relevant columns from newdff\n",
    "date_df = newdff[['CustomerID', 'monthyear']]\n",
    "\n",
    "# Merge with the combined DataFrame\n",
    "final_df = pd.merge(combined_df, date_df, on='CustomerID', how='left')\n"
   ]
  },
  {
   "cell_type": "code",
   "execution_count": 157,
   "id": "77920024-bb10-44d1-a931-2e6aaee2c7b2",
   "metadata": {},
   "outputs": [
    {
     "data": {
      "text/html": [
       "<div>\n",
       "<style scoped>\n",
       "    .dataframe tbody tr th:only-of-type {\n",
       "        vertical-align: middle;\n",
       "    }\n",
       "\n",
       "    .dataframe tbody tr th {\n",
       "        vertical-align: top;\n",
       "    }\n",
       "\n",
       "    .dataframe thead th {\n",
       "        text-align: right;\n",
       "    }\n",
       "</style>\n",
       "<table border=\"1\" class=\"dataframe\">\n",
       "  <thead>\n",
       "    <tr style=\"text-align: right;\">\n",
       "      <th></th>\n",
       "      <th>CustomerID</th>\n",
       "      <th>Total_spending</th>\n",
       "      <th>Segment</th>\n",
       "      <th>monthyear</th>\n",
       "    </tr>\n",
       "  </thead>\n",
       "  <tbody>\n",
       "    <tr>\n",
       "      <th>0</th>\n",
       "      <td>-1.0</td>\n",
       "      <td>838188.95</td>\n",
       "      <td>Very High</td>\n",
       "      <td>2010-12</td>\n",
       "    </tr>\n",
       "    <tr>\n",
       "      <th>1</th>\n",
       "      <td>-1.0</td>\n",
       "      <td>838188.95</td>\n",
       "      <td>Very High</td>\n",
       "      <td>2010-12</td>\n",
       "    </tr>\n",
       "    <tr>\n",
       "      <th>2</th>\n",
       "      <td>-1.0</td>\n",
       "      <td>838188.95</td>\n",
       "      <td>Very High</td>\n",
       "      <td>2010-12</td>\n",
       "    </tr>\n",
       "    <tr>\n",
       "      <th>3</th>\n",
       "      <td>-1.0</td>\n",
       "      <td>838188.95</td>\n",
       "      <td>Very High</td>\n",
       "      <td>2010-12</td>\n",
       "    </tr>\n",
       "    <tr>\n",
       "      <th>4</th>\n",
       "      <td>-1.0</td>\n",
       "      <td>838188.95</td>\n",
       "      <td>Very High</td>\n",
       "      <td>2010-12</td>\n",
       "    </tr>\n",
       "    <tr>\n",
       "      <th>...</th>\n",
       "      <td>...</td>\n",
       "      <td>...</td>\n",
       "      <td>...</td>\n",
       "      <td>...</td>\n",
       "    </tr>\n",
       "    <tr>\n",
       "      <th>439130</th>\n",
       "      <td>18287.0</td>\n",
       "      <td>571.48</td>\n",
       "      <td>High</td>\n",
       "      <td>2011-10</td>\n",
       "    </tr>\n",
       "    <tr>\n",
       "      <th>439131</th>\n",
       "      <td>18287.0</td>\n",
       "      <td>571.48</td>\n",
       "      <td>High</td>\n",
       "      <td>2011-10</td>\n",
       "    </tr>\n",
       "    <tr>\n",
       "      <th>439132</th>\n",
       "      <td>18287.0</td>\n",
       "      <td>571.48</td>\n",
       "      <td>High</td>\n",
       "      <td>2011-10</td>\n",
       "    </tr>\n",
       "    <tr>\n",
       "      <th>439133</th>\n",
       "      <td>18287.0</td>\n",
       "      <td>571.48</td>\n",
       "      <td>High</td>\n",
       "      <td>2011-10</td>\n",
       "    </tr>\n",
       "    <tr>\n",
       "      <th>439134</th>\n",
       "      <td>18287.0</td>\n",
       "      <td>571.48</td>\n",
       "      <td>High</td>\n",
       "      <td>2011-10</td>\n",
       "    </tr>\n",
       "  </tbody>\n",
       "</table>\n",
       "<p>439135 rows × 4 columns</p>\n",
       "</div>"
      ],
      "text/plain": [
       "        CustomerID  Total_spending    Segment monthyear\n",
       "0             -1.0       838188.95  Very High   2010-12\n",
       "1             -1.0       838188.95  Very High   2010-12\n",
       "2             -1.0       838188.95  Very High   2010-12\n",
       "3             -1.0       838188.95  Very High   2010-12\n",
       "4             -1.0       838188.95  Very High   2010-12\n",
       "...            ...             ...        ...       ...\n",
       "439130     18287.0          571.48       High   2011-10\n",
       "439131     18287.0          571.48       High   2011-10\n",
       "439132     18287.0          571.48       High   2011-10\n",
       "439133     18287.0          571.48       High   2011-10\n",
       "439134     18287.0          571.48       High   2011-10\n",
       "\n",
       "[439135 rows x 4 columns]"
      ]
     },
     "execution_count": 157,
     "metadata": {},
     "output_type": "execute_result"
    }
   ],
   "source": [
    "final_df"
   ]
  },
  {
   "cell_type": "code",
   "execution_count": 176,
   "id": "0d58b489-b2e9-4dcf-b3bb-6a3091cc0120",
   "metadata": {},
   "outputs": [
    {
     "data": {
      "text/html": [
       "<div>\n",
       "<style scoped>\n",
       "    .dataframe tbody tr th:only-of-type {\n",
       "        vertical-align: middle;\n",
       "    }\n",
       "\n",
       "    .dataframe tbody tr th {\n",
       "        vertical-align: top;\n",
       "    }\n",
       "\n",
       "    .dataframe thead th {\n",
       "        text-align: right;\n",
       "    }\n",
       "</style>\n",
       "<table border=\"1\" class=\"dataframe\">\n",
       "  <thead>\n",
       "    <tr style=\"text-align: right;\">\n",
       "      <th></th>\n",
       "      <th>CustomerID</th>\n",
       "      <th>Total_spending</th>\n",
       "      <th>Segment</th>\n",
       "      <th>monthyear</th>\n",
       "    </tr>\n",
       "  </thead>\n",
       "  <tbody>\n",
       "    <tr>\n",
       "      <th>0</th>\n",
       "      <td>-1.0</td>\n",
       "      <td>838188.95</td>\n",
       "      <td>Very High</td>\n",
       "      <td>2010-12</td>\n",
       "    </tr>\n",
       "    <tr>\n",
       "      <th>1</th>\n",
       "      <td>-1.0</td>\n",
       "      <td>838188.95</td>\n",
       "      <td>Very High</td>\n",
       "      <td>2010-12</td>\n",
       "    </tr>\n",
       "    <tr>\n",
       "      <th>2</th>\n",
       "      <td>-1.0</td>\n",
       "      <td>838188.95</td>\n",
       "      <td>Very High</td>\n",
       "      <td>2010-12</td>\n",
       "    </tr>\n",
       "    <tr>\n",
       "      <th>3</th>\n",
       "      <td>-1.0</td>\n",
       "      <td>838188.95</td>\n",
       "      <td>Very High</td>\n",
       "      <td>2010-12</td>\n",
       "    </tr>\n",
       "    <tr>\n",
       "      <th>4</th>\n",
       "      <td>-1.0</td>\n",
       "      <td>838188.95</td>\n",
       "      <td>Very High</td>\n",
       "      <td>2010-12</td>\n",
       "    </tr>\n",
       "    <tr>\n",
       "      <th>...</th>\n",
       "      <td>...</td>\n",
       "      <td>...</td>\n",
       "      <td>...</td>\n",
       "      <td>...</td>\n",
       "    </tr>\n",
       "    <tr>\n",
       "      <th>439098</th>\n",
       "      <td>18283.0</td>\n",
       "      <td>2002.63</td>\n",
       "      <td>Very High</td>\n",
       "      <td>2011-12</td>\n",
       "    </tr>\n",
       "    <tr>\n",
       "      <th>439099</th>\n",
       "      <td>18283.0</td>\n",
       "      <td>2002.63</td>\n",
       "      <td>Very High</td>\n",
       "      <td>2011-12</td>\n",
       "    </tr>\n",
       "    <tr>\n",
       "      <th>439100</th>\n",
       "      <td>18283.0</td>\n",
       "      <td>2002.63</td>\n",
       "      <td>Very High</td>\n",
       "      <td>2011-12</td>\n",
       "    </tr>\n",
       "    <tr>\n",
       "      <th>439101</th>\n",
       "      <td>18283.0</td>\n",
       "      <td>2002.63</td>\n",
       "      <td>Very High</td>\n",
       "      <td>2011-12</td>\n",
       "    </tr>\n",
       "    <tr>\n",
       "      <th>439102</th>\n",
       "      <td>18283.0</td>\n",
       "      <td>2002.63</td>\n",
       "      <td>Very High</td>\n",
       "      <td>2011-12</td>\n",
       "    </tr>\n",
       "  </tbody>\n",
       "</table>\n",
       "<p>335161 rows × 4 columns</p>\n",
       "</div>"
      ],
      "text/plain": [
       "        CustomerID  Total_spending    Segment monthyear\n",
       "0             -1.0       838188.95  Very High   2010-12\n",
       "1             -1.0       838188.95  Very High   2010-12\n",
       "2             -1.0       838188.95  Very High   2010-12\n",
       "3             -1.0       838188.95  Very High   2010-12\n",
       "4             -1.0       838188.95  Very High   2010-12\n",
       "...            ...             ...        ...       ...\n",
       "439098     18283.0         2002.63  Very High   2011-12\n",
       "439099     18283.0         2002.63  Very High   2011-12\n",
       "439100     18283.0         2002.63  Very High   2011-12\n",
       "439101     18283.0         2002.63  Very High   2011-12\n",
       "439102     18283.0         2002.63  Very High   2011-12\n",
       "\n",
       "[335161 rows x 4 columns]"
      ]
     },
     "execution_count": 176,
     "metadata": {},
     "output_type": "execute_result"
    }
   ],
   "source": [
    "very_high_segment = final_df[final_df['Segment'] == 'Very High']\n",
    "very_high_segment"
   ]
  },
  {
   "cell_type": "code",
   "execution_count": 174,
   "id": "af156155-96e9-46a1-bd02-f478442df24b",
   "metadata": {},
   "outputs": [],
   "source": [
    "trend_analysis = very_high_segment.groupby('monthyear')['Total_spending'].sum().astype(int)\n"
   ]
  },
  {
   "cell_type": "code",
   "execution_count": 173,
   "id": "151e971b-2b32-4458-a8cf-66ebcae4aac1",
   "metadata": {},
   "outputs": [
    {
     "data": {
      "image/png": "[encoded data removed]",
      "text/plain": [
       "<Figure size 1200x600 with 1 Axes>"
      ]
     },
     "metadata": {},
     "output_type": "display_data"
    }
   ],
   "source": [
    "plt.figure(figsize=(12, 6))\n",
    "sns.lineplot(x=trend_analysis.index.astype(str), y=trend_analysis.values.astype(int), marker='o', color='purple')\n",
    "plt.xticks(rotation=45)\n",
    "plt.title('Monthly Revenue Trend for \"Very High\" Segment')\n",
    "plt.xlabel('Month-Year')\n",
    "plt.ylabel('Total Revenue')\n",
    "plt.grid(True)\n",
    "plt.show()"
   ]
  },
  {
   "cell_type": "code",
   "execution_count": 218,
   "id": "42e9fd0f-7a9a-4b71-9cf9-51b6db009eb6",
   "metadata": {},
   "outputs": [
    {
     "data": {
      "text/html": [
       "<div>\n",
       "<style scoped>\n",
       "    .dataframe tbody tr th:only-of-type {\n",
       "        vertical-align: middle;\n",
       "    }\n",
       "\n",
       "    .dataframe tbody tr th {\n",
       "        vertical-align: top;\n",
       "    }\n",
       "\n",
       "    .dataframe thead th {\n",
       "        text-align: right;\n",
       "    }\n",
       "</style>\n",
       "<table border=\"1\" class=\"dataframe\">\n",
       "  <thead>\n",
       "    <tr style=\"text-align: right;\">\n",
       "      <th></th>\n",
       "      <th>InvoiceNo</th>\n",
       "      <th>StockCode</th>\n",
       "      <th>Description</th>\n",
       "      <th>Quantity</th>\n",
       "      <th>InvoiceDate</th>\n",
       "      <th>UnitPrice</th>\n",
       "      <th>CustomerID</th>\n",
       "      <th>Country</th>\n",
       "      <th>Total_spending</th>\n",
       "      <th>monthyear</th>\n",
       "      <th>yearly</th>\n",
       "    </tr>\n",
       "  </thead>\n",
       "  <tbody>\n",
       "    <tr>\n",
       "      <th>0</th>\n",
       "      <td>536365</td>\n",
       "      <td>85123A</td>\n",
       "      <td>WHITE HANGING HEART T-LIGHT HOLDER</td>\n",
       "      <td>6</td>\n",
       "      <td>2010-12-01 08:26:00</td>\n",
       "      <td>2.55</td>\n",
       "      <td>17850.0</td>\n",
       "      <td>United Kingdom</td>\n",
       "      <td>15.3</td>\n",
       "      <td>2010-12</td>\n",
       "      <td>2010</td>\n",
       "    </tr>\n",
       "  </tbody>\n",
       "</table>\n",
       "</div>"
      ],
      "text/plain": [
       "  InvoiceNo StockCode                         Description  Quantity  \\\n",
       "0    536365    85123A  WHITE HANGING HEART T-LIGHT HOLDER         6   \n",
       "\n",
       "          InvoiceDate  UnitPrice  CustomerID         Country  Total_spending  \\\n",
       "0 2010-12-01 08:26:00       2.55     17850.0  United Kingdom            15.3   \n",
       "\n",
       "  monthyear yearly  \n",
       "0   2010-12   2010  "
      ]
     },
     "execution_count": 218,
     "metadata": {},
     "output_type": "execute_result"
    }
   ],
   "source": [
    "newdff.head(1)"
   ]
  },
  {
   "cell_type": "code",
   "execution_count": 179,
   "id": "7db66f83-9895-4782-b3cb-4912d715ccbc",
   "metadata": {},
   "outputs": [],
   "source": [
    "county_df = newdff[['CustomerID', 'Country']]\n",
    "\n",
    "# Merge with the combined DataFrame\n",
    "final_dff = pd.merge(combined_df, county_df, on='CustomerID', how='left')"
   ]
  },
  {
   "cell_type": "code",
   "execution_count": 180,
   "id": "8a4df3e3-faf4-4462-aa1b-9811466918b9",
   "metadata": {},
   "outputs": [
    {
     "data": {
      "text/html": [
       "<div>\n",
       "<style scoped>\n",
       "    .dataframe tbody tr th:only-of-type {\n",
       "        vertical-align: middle;\n",
       "    }\n",
       "\n",
       "    .dataframe tbody tr th {\n",
       "        vertical-align: top;\n",
       "    }\n",
       "\n",
       "    .dataframe thead th {\n",
       "        text-align: right;\n",
       "    }\n",
       "</style>\n",
       "<table border=\"1\" class=\"dataframe\">\n",
       "  <thead>\n",
       "    <tr style=\"text-align: right;\">\n",
       "      <th></th>\n",
       "      <th>CustomerID</th>\n",
       "      <th>Total_spending</th>\n",
       "      <th>Segment</th>\n",
       "      <th>Country</th>\n",
       "    </tr>\n",
       "  </thead>\n",
       "  <tbody>\n",
       "    <tr>\n",
       "      <th>0</th>\n",
       "      <td>-1.0</td>\n",
       "      <td>838188.95</td>\n",
       "      <td>Very High</td>\n",
       "      <td>United Kingdom</td>\n",
       "    </tr>\n",
       "    <tr>\n",
       "      <th>1</th>\n",
       "      <td>-1.0</td>\n",
       "      <td>838188.95</td>\n",
       "      <td>Very High</td>\n",
       "      <td>United Kingdom</td>\n",
       "    </tr>\n",
       "    <tr>\n",
       "      <th>2</th>\n",
       "      <td>-1.0</td>\n",
       "      <td>838188.95</td>\n",
       "      <td>Very High</td>\n",
       "      <td>United Kingdom</td>\n",
       "    </tr>\n",
       "    <tr>\n",
       "      <th>3</th>\n",
       "      <td>-1.0</td>\n",
       "      <td>838188.95</td>\n",
       "      <td>Very High</td>\n",
       "      <td>United Kingdom</td>\n",
       "    </tr>\n",
       "    <tr>\n",
       "      <th>4</th>\n",
       "      <td>-1.0</td>\n",
       "      <td>838188.95</td>\n",
       "      <td>Very High</td>\n",
       "      <td>United Kingdom</td>\n",
       "    </tr>\n",
       "    <tr>\n",
       "      <th>...</th>\n",
       "      <td>...</td>\n",
       "      <td>...</td>\n",
       "      <td>...</td>\n",
       "      <td>...</td>\n",
       "    </tr>\n",
       "    <tr>\n",
       "      <th>439130</th>\n",
       "      <td>18287.0</td>\n",
       "      <td>571.48</td>\n",
       "      <td>High</td>\n",
       "      <td>United Kingdom</td>\n",
       "    </tr>\n",
       "    <tr>\n",
       "      <th>439131</th>\n",
       "      <td>18287.0</td>\n",
       "      <td>571.48</td>\n",
       "      <td>High</td>\n",
       "      <td>United Kingdom</td>\n",
       "    </tr>\n",
       "    <tr>\n",
       "      <th>439132</th>\n",
       "      <td>18287.0</td>\n",
       "      <td>571.48</td>\n",
       "      <td>High</td>\n",
       "      <td>United Kingdom</td>\n",
       "    </tr>\n",
       "    <tr>\n",
       "      <th>439133</th>\n",
       "      <td>18287.0</td>\n",
       "      <td>571.48</td>\n",
       "      <td>High</td>\n",
       "      <td>United Kingdom</td>\n",
       "    </tr>\n",
       "    <tr>\n",
       "      <th>439134</th>\n",
       "      <td>18287.0</td>\n",
       "      <td>571.48</td>\n",
       "      <td>High</td>\n",
       "      <td>United Kingdom</td>\n",
       "    </tr>\n",
       "  </tbody>\n",
       "</table>\n",
       "<p>439135 rows × 4 columns</p>\n",
       "</div>"
      ],
      "text/plain": [
       "        CustomerID  Total_spending    Segment         Country\n",
       "0             -1.0       838188.95  Very High  United Kingdom\n",
       "1             -1.0       838188.95  Very High  United Kingdom\n",
       "2             -1.0       838188.95  Very High  United Kingdom\n",
       "3             -1.0       838188.95  Very High  United Kingdom\n",
       "4             -1.0       838188.95  Very High  United Kingdom\n",
       "...            ...             ...        ...             ...\n",
       "439130     18287.0          571.48       High  United Kingdom\n",
       "439131     18287.0          571.48       High  United Kingdom\n",
       "439132     18287.0          571.48       High  United Kingdom\n",
       "439133     18287.0          571.48       High  United Kingdom\n",
       "439134     18287.0          571.48       High  United Kingdom\n",
       "\n",
       "[439135 rows x 4 columns]"
      ]
     },
     "execution_count": 180,
     "metadata": {},
     "output_type": "execute_result"
    }
   ],
   "source": [
    "final_dff"
   ]
  },
  {
   "cell_type": "code",
   "execution_count": 185,
   "id": "5c57c0b1-3f35-4558-9ed3-fa0890c80ea6",
   "metadata": {},
   "outputs": [
    {
     "data": {
      "text/plain": [
       "Country\n",
       "United Kingdom          3793\n",
       "Germany                   93\n",
       "France                    87\n",
       "Spain                     29\n",
       "Belgium                   25\n",
       "Switzerland               22\n",
       "Portugal                  20\n",
       "Italy                     15\n",
       "Finland                   12\n",
       "Austria                   11\n",
       "Norway                    10\n",
       "Australia                  9\n",
       "Sweden                     8\n",
       "Denmark                    8\n",
       "Cyprus                     7\n",
       "Channel Islands            7\n",
       "Netherlands                7\n",
       "Poland                     5\n",
       "Unspecified                5\n",
       "Japan                      5\n",
       "Greece                     4\n",
       "USA                        4\n",
       "EIRE                       4\n",
       "Israel                     4\n",
       "Canada                     3\n",
       "Bahrain                    2\n",
       "Malta                      2\n",
       "United Arab Emirates       2\n",
       "Brazil                     1\n",
       "Czech Republic             1\n",
       "Lebanon                    1\n",
       "Iceland                    1\n",
       "Hong Kong                  1\n",
       "European Community         1\n",
       "Saudi Arabia               1\n",
       "RSA                        1\n",
       "Lithuania                  1\n",
       "Singapore                  1\n",
       "Name: CustomerID, dtype: int64"
      ]
     },
     "execution_count": 185,
     "metadata": {},
     "output_type": "execute_result"
    }
   ],
   "source": [
    "customer_count_by_country = final_dff.groupby('Country')['CustomerID'].nunique()\n",
    "customer_count_by_country.sort_values(ascending=False)"
   ]
  },
  {
   "cell_type": "code",
   "execution_count": 200,
   "id": "28ea2275-7362-46a7-9505-043928e6478f",
   "metadata": {},
   "outputs": [
    {
     "name": "stdout",
     "output_type": "stream",
     "text": [
      "Country\n",
      "United Kingdom     918\n",
      "Germany             35\n",
      "France              27\n",
      "Switzerland         11\n",
      "Belgium             10\n",
      "Portugal             7\n",
      "Norway               6\n",
      "Spain                6\n",
      "Italy                5\n",
      "Austria              4\n",
      "Australia            4\n",
      "EIRE                 4\n",
      "Channel Islands      4\n",
      "Finland              3\n",
      "Cyprus               2\n",
      "Poland               2\n",
      "Denmark              2\n",
      "Israel               2\n",
      "Netherlands          2\n",
      "Canada               1\n",
      "Greece               1\n",
      "Hong Kong            1\n",
      "Iceland              1\n",
      "Lithuania            1\n",
      "Singapore            1\n",
      "Sweden               1\n",
      "Unspecified          1\n",
      "Name: CustomerID, dtype: int64\n"
     ]
    }
   ],
   "source": [
    "# Filter for very high segment customers (without specifying countries)\n",
    "high_value_customers = final_dff[final_dff['Segment'] == 'Very High']\n",
    "# Group by country and count the number of unique customers in each country\n",
    "unique_customers_by_country = high_value_customers.groupby('Country')['CustomerID'].nunique()\n",
    "\n",
    "# Sort the result in descending order\n",
    "sorted_customer_count_by_country = unique_customers_by_country.sort_values(ascending=False)\n",
    "\n",
    "print(sorted_customer_count_by_country)\n"
   ]
  },
  {
   "cell_type": "code",
   "execution_count": 255,
   "id": "d0fedb03-8767-4249-a048-474475897de6",
   "metadata": {},
   "outputs": [],
   "source": [
    "regul_highvalue_cust=   pd.merge(final_dff,regular_cust_df ,on='CustomerID',how='right')"
   ]
  },
  {
   "cell_type": "code",
   "execution_count": 263,
   "id": "fee1502d-2361-41ae-b247-fc81e31a792e",
   "metadata": {},
   "outputs": [
    {
     "data": {
      "text/html": [
       "<div>\n",
       "<style scoped>\n",
       "    .dataframe tbody tr th:only-of-type {\n",
       "        vertical-align: middle;\n",
       "    }\n",
       "\n",
       "    .dataframe tbody tr th {\n",
       "        vertical-align: top;\n",
       "    }\n",
       "\n",
       "    .dataframe thead th {\n",
       "        text-align: right;\n",
       "    }\n",
       "</style>\n",
       "<table border=\"1\" class=\"dataframe\">\n",
       "  <thead>\n",
       "    <tr style=\"text-align: right;\">\n",
       "      <th></th>\n",
       "      <th>CustomerID</th>\n",
       "      <th>Total_spending</th>\n",
       "      <th>Segment</th>\n",
       "      <th>Country</th>\n",
       "      <th>total_order_value</th>\n",
       "      <th>total_orders</th>\n",
       "    </tr>\n",
       "  </thead>\n",
       "  <tbody>\n",
       "    <tr>\n",
       "      <th>0</th>\n",
       "      <td>-1.0</td>\n",
       "      <td>838188.95</td>\n",
       "      <td>Very High</td>\n",
       "      <td>United Kingdom</td>\n",
       "      <td>838188.95</td>\n",
       "      <td>2341</td>\n",
       "    </tr>\n",
       "    <tr>\n",
       "      <th>1</th>\n",
       "      <td>-1.0</td>\n",
       "      <td>838188.95</td>\n",
       "      <td>Very High</td>\n",
       "      <td>United Kingdom</td>\n",
       "      <td>838188.95</td>\n",
       "      <td>2341</td>\n",
       "    </tr>\n",
       "  </tbody>\n",
       "</table>\n",
       "</div>"
      ],
      "text/plain": [
       "   CustomerID  Total_spending    Segment         Country  total_order_value  \\\n",
       "0        -1.0       838188.95  Very High  United Kingdom          838188.95   \n",
       "1        -1.0       838188.95  Very High  United Kingdom          838188.95   \n",
       "\n",
       "   total_orders  \n",
       "0          2341  \n",
       "1          2341  "
      ]
     },
     "execution_count": 263,
     "metadata": {},
     "output_type": "execute_result"
    }
   ],
   "source": [
    "regul_highvalue_cust.head(2)"
   ]
  },
  {
   "cell_type": "code",
   "execution_count": 257,
   "id": "89f31318-c848-4520-8e3b-569f0a84b86d",
   "metadata": {},
   "outputs": [],
   "source": [
    "# countries with high value and reg customers \n",
    "highvaluecust= regul_highvalue_cust[regul_highvalue_cust['Segment'] == 'Very High']\n",
    "specialcust=  highvaluecust.groupby('Country')['CustomerID'].nunique()\n",
    "specialcust= specialcust.sort_values(ascending=False)\n"
   ]
  },
  {
   "cell_type": "code",
   "execution_count": 259,
   "id": "55bcd152-6b17-425e-8498-c629d3aab995",
   "metadata": {},
   "outputs": [
    {
     "data": {
      "text/plain": [
       "Country\n",
       "United Kingdom     917\n",
       "Germany             35\n",
       "France              27\n",
       "Belgium             10\n",
       "Switzerland          8\n",
       "Portugal             7\n",
       "Norway               6\n",
       "Spain                6\n",
       "Austria              4\n",
       "Australia            4\n",
       "Channel Islands      4\n",
       "EIRE                 4\n",
       "Italy                4\n",
       "Denmark              2\n",
       "Poland               2\n",
       "Finland              2\n",
       "Cyprus               2\n",
       "Netherlands          2\n",
       "Canada               1\n",
       "Hong Kong            1\n",
       "Iceland              1\n",
       "Israel               1\n",
       "Lithuania            1\n",
       "Singapore            1\n",
       "Sweden               1\n",
       "Unspecified          1\n",
       "Name: CustomerID, dtype: int64"
      ]
     },
     "execution_count": 259,
     "metadata": {},
     "output_type": "execute_result"
    }
   ],
   "source": [
    "specialcust"
   ]
  },
  {
   "cell_type": "code",
   "execution_count": 262,
   "id": "67bb39c2-a90b-430c-9ae0-c0502ecd3f78",
   "metadata": {},
   "outputs": [
    {
     "data": {
      "image/png": "[encoded data removed]",
      "text/plain": [
       "<Figure size 800x800 with 1 Axes>"
      ]
     },
     "metadata": {},
     "output_type": "display_data"
    }
   ],
   "source": [
    "import pandas as pd\n",
    "import matplotlib.pyplot as plt\n",
    "\n",
    "# Data\n",
    "countries = ['UK', 'Germany', 'France', 'EIRE', 'Belgium']\n",
    "revenues = [4084425, 120057, 105150, 99910, 25337]\n",
    "customers = [917, 35, 27, 4, 10]\n",
    "\n",
    "# Create a DataFrame\n",
    "data = pd.DataFrame({\n",
    "    'Country': countries,\n",
    "    'Revenue': revenues,\n",
    "    'Customers': customers\n",
    "})\n",
    "\n",
    "# Calculate Revenue per Customer\n",
    "data['Revenue per Customer'] = data['Revenue'] / data['Customers']\n",
    "\n",
    "# Plotting the pie chart\n",
    "plt.figure(figsize=(8, 8))\n",
    "plt.pie(data['Revenue per Customer'], labels=data['Country'], autopct='%1.1f%%', startangle=140, colors=plt.cm.Paired.colors)\n",
    "\n",
    "# Add title\n",
    "plt.title('Revenue per Customer by Country', fontsize=14)\n",
    "\n",
    "# Display the pie chart\n",
    "plt.show()\n"
   ]
  },
  {
   "cell_type": "code",
   "execution_count": 267,
   "id": "fd5f422a-4608-428d-9746-406c2690275b",
   "metadata": {},
   "outputs": [],
   "source": [
    "highvaluecust = highvaluecust.join(newdff['StockCode'], how='left')\n"
   ]
  },
  {
   "cell_type": "code",
   "execution_count": 286,
   "id": "e4510782-2468-45e6-a2d2-2057833273e5",
   "metadata": {},
   "outputs": [
    {
     "data": {
      "text/html": [
       "<div>\n",
       "<style scoped>\n",
       "    .dataframe tbody tr th:only-of-type {\n",
       "        vertical-align: middle;\n",
       "    }\n",
       "\n",
       "    .dataframe tbody tr th {\n",
       "        vertical-align: top;\n",
       "    }\n",
       "\n",
       "    .dataframe thead th {\n",
       "        text-align: right;\n",
       "    }\n",
       "</style>\n",
       "<table border=\"1\" class=\"dataframe\">\n",
       "  <thead>\n",
       "    <tr style=\"text-align: right;\">\n",
       "      <th></th>\n",
       "      <th>CustomerID</th>\n",
       "      <th>Total_spending</th>\n",
       "      <th>Segment</th>\n",
       "      <th>Country</th>\n",
       "      <th>total_order_value</th>\n",
       "      <th>total_orders</th>\n",
       "      <th>StockCode</th>\n",
       "    </tr>\n",
       "  </thead>\n",
       "  <tbody>\n",
       "    <tr>\n",
       "      <th>0</th>\n",
       "      <td>-1.0</td>\n",
       "      <td>838188.95</td>\n",
       "      <td>Very High</td>\n",
       "      <td>United Kingdom</td>\n",
       "      <td>838188.95</td>\n",
       "      <td>2341</td>\n",
       "      <td>85123A</td>\n",
       "    </tr>\n",
       "  </tbody>\n",
       "</table>\n",
       "</div>"
      ],
      "text/plain": [
       "   CustomerID  Total_spending    Segment         Country  total_order_value  \\\n",
       "0        -1.0       838188.95  Very High  United Kingdom          838188.95   \n",
       "\n",
       "   total_orders StockCode  \n",
       "0          2341    85123A  "
      ]
     },
     "execution_count": 286,
     "metadata": {},
     "output_type": "execute_result"
    }
   ],
   "source": [
    "highvaluecust.head(1)"
   ]
  },
  {
   "cell_type": "code",
   "execution_count": 282,
   "id": "9986fb29-8e02-463a-b0ec-e5d1feaa401c",
   "metadata": {},
   "outputs": [],
   "source": [
    "Topcust_buying_category= highvaluecust.groupby(['CustomerID','StockCode','Country'])['total_orders'].sum()"
   ]
  },
  {
   "cell_type": "code",
   "execution_count": null,
   "id": "3da03f97-6da3-41ad-b457-584b41fbd193",
   "metadata": {},
   "outputs": [],
   "source": []
  }
 ],
 "metadata": {
  "kernelspec": {
   "display_name": "Python 3 (ipykernel)",
   "language": "python",
   "name": "python3"
  },
  "language_info": {
   "codemirror_mode": {
    "name": "ipython",
    "version": 3
   },
   "file_extension": ".py",
   "mimetype": "text/x-python",
   "name": "python",
   "nbconvert_exporter": "python",
   "pygments_lexer": "ipython3",
   "version": "3.12.3"
  }
 },
 "nbformat": 4,
 "nbformat_minor": 5
}
